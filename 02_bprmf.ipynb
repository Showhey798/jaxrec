{
 "cells": [
  {
   "cell_type": "code",
   "execution_count": 2,
   "id": "ed0dbce5-e67a-4e1b-a6b8-86a6a5c2eef6",
   "metadata": {},
   "outputs": [],
   "source": [
    "%load_ext autoreload\n",
    "%autoreload 2"
   ]
  },
  {
   "cell_type": "code",
   "execution_count": 3,
   "id": "c812ff48-3b72-4415-a4a4-5842716b6c51",
   "metadata": {},
   "outputs": [],
   "source": [
    "from collections import OrderedDict\n",
    "import pandas as pd\n",
    "import numpy as np\n",
    "from recs.jaxmodels.cf import bprmf\n",
    "from recs.evaluator import evaluate\n",
    "from recs import utils\n",
    "from recs.dataset import negative_sample_dataset\n",
    "\n",
    "import tensorflow as tf\n",
    "from tqdm.notebook import tqdm\n",
    "\n",
    "import jax\n",
    "from jax import numpy as jnp"
   ]
  },
  {
   "cell_type": "code",
   "execution_count": 4,
   "id": "9007d420-9360-4a54-b7ce-a53b868c56b0",
   "metadata": {},
   "outputs": [],
   "source": [
    "train_data, train_len, num_items, num_users = negative_sample_dataset(\n",
    "    path=\"~/work/dataset/RC15/derived/train.df\",\n",
    "    batch_size=64,\n",
    "    #sessionkey=\"userId\"\n",
    ")"
   ]
  },
  {
   "cell_type": "code",
   "execution_count": 5,
   "id": "07a78c8e-396d-4fef-af0b-a424efbcabe1",
   "metadata": {},
   "outputs": [
    {
     "data": {
      "text/plain": [
       "(37961, 9977433, 495478)"
      ]
     },
     "execution_count": 5,
     "metadata": {},
     "output_type": "execute_result"
    }
   ],
   "source": [
    "num_items, num_users, train_len"
   ]
  },
  {
   "cell_type": "code",
   "execution_count": 6,
   "id": "fbcc01b8-d5fd-4e53-9134-d21986f1a63f",
   "metadata": {},
   "outputs": [],
   "source": [
    "params = bprmf.init_params(\n",
    "    num_items,\n",
    "    num_users,\n",
    "    10\n",
    ")"
   ]
  },
  {
   "cell_type": "code",
   "execution_count": null,
   "id": "69a6c594-30e8-40dd-8e07-56e31bbbbc58",
   "metadata": {},
   "outputs": [
    {
     "data": {
      "application/vnd.jupyter.widget-view+json": {
       "model_id": "d6ed278167f9465a98f7a0c3106ee106",
       "version_major": 2,
       "version_minor": 0
      },
      "text/plain": [
       "[Epoch 1]:   0%|          | 0/495478 [00:00<?, ?it/s]"
      ]
     },
     "metadata": {},
     "output_type": "display_data"
    }
   ],
   "source": [
    "losses = []\n",
    "stop_count = 0\n",
    "before_loss = np.inf\n",
    "for epoch in range(10):\n",
    "    batch_loss = 0.\n",
    "    with tqdm(train_data.as_numpy_iterator(), desc=f\"[Epoch {epoch+1}]\", total=train_len) as tm:\n",
    "        for i, batch in enumerate(tm):\n",
    "            params, error = bprmf.update(params, batch, alpha=0.005, lam=0.05)\n",
    "            batch_loss += error\n",
    "            tm.set_postfix(OrderedDict(loss=batch_loss / (i + 1)))\n",
    "    batch_loss /= train_len\n",
    "    if batch_loss > before_loss:\n",
    "        stop_count += 1\n",
    "    else:\n",
    "        before_loss = batch_loss\n",
    "    if stop_count == 3:\n",
    "        break\n",
    "    losses += np.asarray(batch_loss)"
   ]
  },
  {
   "cell_type": "code",
   "execution_count": 11,
   "id": "83bf59c5-ed53-4865-ad9a-516a5b9a8883",
   "metadata": {},
   "outputs": [],
   "source": [
    "def predict_items(params, data, k):\n",
    "    users = np.unique(data[:, 0])\n",
    "    pred_dic = {}\n",
    "    for u in users:\n",
    "        pred_dic[u] = np.asarray(bprmf.predict(params, u, k))\n",
    "    return pd.DataFrame(pred_dic.items(), columns=[\"userId\", \"itemIds\"])"
   ]
  },
  {
   "cell_type": "code",
   "execution_count": 8,
   "id": "44b31a89-05cf-426e-9bd0-e4b3271e52cd",
   "metadata": {},
   "outputs": [],
   "source": [
    "test_data = pd.read_pickle(\"~/work/dataset/ml-100k/test.df\")"
   ]
  },
  {
   "cell_type": "code",
   "execution_count": 12,
   "id": "683fba3d-5df2-4006-8848-4a0a5c436624",
   "metadata": {},
   "outputs": [
    {
     "data": {
      "text/html": [
       "<div>\n",
       "<style scoped>\n",
       "    .dataframe tbody tr th:only-of-type {\n",
       "        vertical-align: middle;\n",
       "    }\n",
       "\n",
       "    .dataframe tbody tr th {\n",
       "        vertical-align: top;\n",
       "    }\n",
       "\n",
       "    .dataframe thead th {\n",
       "        text-align: right;\n",
       "    }\n",
       "</style>\n",
       "<table border=\"1\" class=\"dataframe\">\n",
       "  <thead>\n",
       "    <tr style=\"text-align: right;\">\n",
       "      <th></th>\n",
       "      <th>userId</th>\n",
       "      <th>itemId</th>\n",
       "      <th>rating</th>\n",
       "      <th>timestamp</th>\n",
       "    </tr>\n",
       "  </thead>\n",
       "  <tbody>\n",
       "    <tr>\n",
       "      <th>3758</th>\n",
       "      <td>3</td>\n",
       "      <td>323</td>\n",
       "      <td>2</td>\n",
       "      <td>889237269</td>\n",
       "    </tr>\n",
       "    <tr>\n",
       "      <th>38670</th>\n",
       "      <td>3</td>\n",
       "      <td>322</td>\n",
       "      <td>3</td>\n",
       "      <td>889237269</td>\n",
       "    </tr>\n",
       "    <tr>\n",
       "      <th>1257</th>\n",
       "      <td>3</td>\n",
       "      <td>335</td>\n",
       "      <td>1</td>\n",
       "      <td>889237269</td>\n",
       "    </tr>\n",
       "    <tr>\n",
       "      <th>18385</th>\n",
       "      <td>3</td>\n",
       "      <td>264</td>\n",
       "      <td>2</td>\n",
       "      <td>889237297</td>\n",
       "    </tr>\n",
       "    <tr>\n",
       "      <th>53950</th>\n",
       "      <td>3</td>\n",
       "      <td>325</td>\n",
       "      <td>1</td>\n",
       "      <td>889237297</td>\n",
       "    </tr>\n",
       "    <tr>\n",
       "      <th>...</th>\n",
       "      <td>...</td>\n",
       "      <td>...</td>\n",
       "      <td>...</td>\n",
       "      <td>...</td>\n",
       "    </tr>\n",
       "    <tr>\n",
       "      <th>46773</th>\n",
       "      <td>729</td>\n",
       "      <td>689</td>\n",
       "      <td>4</td>\n",
       "      <td>893286638</td>\n",
       "    </tr>\n",
       "    <tr>\n",
       "      <th>73008</th>\n",
       "      <td>729</td>\n",
       "      <td>313</td>\n",
       "      <td>3</td>\n",
       "      <td>893286638</td>\n",
       "    </tr>\n",
       "    <tr>\n",
       "      <th>46574</th>\n",
       "      <td>729</td>\n",
       "      <td>328</td>\n",
       "      <td>3</td>\n",
       "      <td>893286638</td>\n",
       "    </tr>\n",
       "    <tr>\n",
       "      <th>64312</th>\n",
       "      <td>729</td>\n",
       "      <td>748</td>\n",
       "      <td>4</td>\n",
       "      <td>893286638</td>\n",
       "    </tr>\n",
       "    <tr>\n",
       "      <th>79208</th>\n",
       "      <td>729</td>\n",
       "      <td>272</td>\n",
       "      <td>4</td>\n",
       "      <td>893286638</td>\n",
       "    </tr>\n",
       "  </tbody>\n",
       "</table>\n",
       "<p>20000 rows × 4 columns</p>\n",
       "</div>"
      ],
      "text/plain": [
       "       userId  itemId  rating  timestamp\n",
       "3758        3     323       2  889237269\n",
       "38670       3     322       3  889237269\n",
       "1257        3     335       1  889237269\n",
       "18385       3     264       2  889237297\n",
       "53950       3     325       1  889237297\n",
       "...       ...     ...     ...        ...\n",
       "46773     729     689       4  893286638\n",
       "73008     729     313       3  893286638\n",
       "46574     729     328       3  893286638\n",
       "64312     729     748       4  893286638\n",
       "79208     729     272       4  893286638\n",
       "\n",
       "[20000 rows x 4 columns]"
      ]
     },
     "execution_count": 12,
     "metadata": {},
     "output_type": "execute_result"
    }
   ],
   "source": [
    "test_data"
   ]
  },
  {
   "cell_type": "code",
   "execution_count": 13,
   "id": "dc3e9a35-d88d-4cb7-a0a5-21de4a7747ab",
   "metadata": {},
   "outputs": [],
   "source": [
    "preds = predict_items(params, test_data.values, 20)"
   ]
  },
  {
   "cell_type": "code",
   "execution_count": 14,
   "id": "d318be65-0a3e-46ec-ad78-12e47484e3a6",
   "metadata": {},
   "outputs": [
    {
     "data": {
      "text/html": [
       "<div>\n",
       "<style scoped>\n",
       "    .dataframe tbody tr th:only-of-type {\n",
       "        vertical-align: middle;\n",
       "    }\n",
       "\n",
       "    .dataframe tbody tr th {\n",
       "        vertical-align: top;\n",
       "    }\n",
       "\n",
       "    .dataframe thead th {\n",
       "        text-align: right;\n",
       "    }\n",
       "</style>\n",
       "<table border=\"1\" class=\"dataframe\">\n",
       "  <thead>\n",
       "    <tr style=\"text-align: right;\">\n",
       "      <th></th>\n",
       "      <th>userId</th>\n",
       "      <th>itemIds</th>\n",
       "    </tr>\n",
       "  </thead>\n",
       "  <tbody>\n",
       "    <tr>\n",
       "      <th>0</th>\n",
       "      <td>1</td>\n",
       "      <td>[50, 100, 174, 222, 181, 143, 121, 96, 288, 21...</td>\n",
       "    </tr>\n",
       "    <tr>\n",
       "      <th>1</th>\n",
       "      <td>3</td>\n",
       "      <td>[50, 172, 181, 121, 100, 79, 1, 56, 117, 286, ...</td>\n",
       "    </tr>\n",
       "    <tr>\n",
       "      <th>2</th>\n",
       "      <td>4</td>\n",
       "      <td>[50, 127, 222, 100, 121, 1, 181, 133, 202, 168...</td>\n",
       "    </tr>\n",
       "    <tr>\n",
       "      <th>3</th>\n",
       "      <td>7</td>\n",
       "      <td>[50, 1, 56, 28, 181, 98, 204, 118, 174, 546, 4...</td>\n",
       "    </tr>\n",
       "    <tr>\n",
       "      <th>4</th>\n",
       "      <td>11</td>\n",
       "      <td>[181, 50, 100, 288, 172, 1, 191, 405, 25, 173,...</td>\n",
       "    </tr>\n",
       "    <tr>\n",
       "      <th>...</th>\n",
       "      <td>...</td>\n",
       "      <td>...</td>\n",
       "    </tr>\n",
       "    <tr>\n",
       "      <th>296</th>\n",
       "      <td>932</td>\n",
       "      <td>[50, 181, 258, 294, 100, 127, 732, 174, 121, 7...</td>\n",
       "    </tr>\n",
       "    <tr>\n",
       "      <th>297</th>\n",
       "      <td>934</td>\n",
       "      <td>[50, 258, 181, 127, 100, 69, 1, 174, 121, 294,...</td>\n",
       "    </tr>\n",
       "    <tr>\n",
       "      <th>298</th>\n",
       "      <td>938</td>\n",
       "      <td>[50, 181, 100, 121, 117, 1, 210, 258, 286, 172...</td>\n",
       "    </tr>\n",
       "    <tr>\n",
       "      <th>299</th>\n",
       "      <td>940</td>\n",
       "      <td>[50, 121, 64, 181, 222, 294, 210, 168, 56, 268...</td>\n",
       "    </tr>\n",
       "    <tr>\n",
       "      <th>300</th>\n",
       "      <td>942</td>\n",
       "      <td>[50, 121, 181, 7, 172, 210, 79, 286, 88, 742, ...</td>\n",
       "    </tr>\n",
       "  </tbody>\n",
       "</table>\n",
       "<p>301 rows × 2 columns</p>\n",
       "</div>"
      ],
      "text/plain": [
       "     userId                                            itemIds\n",
       "0         1  [50, 100, 174, 222, 181, 143, 121, 96, 288, 21...\n",
       "1         3  [50, 172, 181, 121, 100, 79, 1, 56, 117, 286, ...\n",
       "2         4  [50, 127, 222, 100, 121, 1, 181, 133, 202, 168...\n",
       "3         7  [50, 1, 56, 28, 181, 98, 204, 118, 174, 546, 4...\n",
       "4        11  [181, 50, 100, 288, 172, 1, 191, 405, 25, 173,...\n",
       "..      ...                                                ...\n",
       "296     932  [50, 181, 258, 294, 100, 127, 732, 174, 121, 7...\n",
       "297     934  [50, 258, 181, 127, 100, 69, 1, 174, 121, 294,...\n",
       "298     938  [50, 181, 100, 121, 117, 1, 210, 258, 286, 172...\n",
       "299     940  [50, 121, 64, 181, 222, 294, 210, 168, 56, 268...\n",
       "300     942  [50, 121, 181, 7, 172, 210, 79, 286, 88, 742, ...\n",
       "\n",
       "[301 rows x 2 columns]"
      ]
     },
     "execution_count": 14,
     "metadata": {},
     "output_type": "execute_result"
    }
   ],
   "source": [
    "preds"
   ]
  },
  {
   "cell_type": "code",
   "execution_count": 15,
   "id": "93e729e0-05d4-423c-b4c8-790c2598e2d2",
   "metadata": {},
   "outputs": [],
   "source": [
    "true_y = utils.get_y_trues(test_data)"
   ]
  },
  {
   "cell_type": "code",
   "execution_count": 18,
   "id": "e14e1eb2-5799-4c17-a32f-b221ca91359e",
   "metadata": {},
   "outputs": [
    {
     "data": {
      "text/plain": [
       "{'precision': 0.22076411960132897,\n",
       " 'map': 0.25506126916519134,\n",
       " 'recall': 0.06466161466089679,\n",
       " 'ndcg': 0.003050455485954647,\n",
       " 'mrr': 0.012696029514966392}"
      ]
     },
     "execution_count": 18,
     "metadata": {},
     "output_type": "execute_result"
    }
   ],
   "source": [
    "evaluate.evaluate(\n",
    "    true_y,\n",
    "    preds,\n",
    "    k=20\n",
    ")"
   ]
  },
  {
   "cell_type": "code",
   "execution_count": null,
   "id": "c0144457-3902-4aa0-88eb-ac855ceed725",
   "metadata": {},
   "outputs": [],
   "source": []
  }
 ],
 "metadata": {
  "kernelspec": {
   "display_name": "Python 3 (ipykernel)",
   "language": "python",
   "name": "python3"
  },
  "language_info": {
   "codemirror_mode": {
    "name": "ipython",
    "version": 3
   },
   "file_extension": ".py",
   "mimetype": "text/x-python",
   "name": "python",
   "nbconvert_exporter": "python",
   "pygments_lexer": "ipython3",
   "version": "3.8.10"
  }
 },
 "nbformat": 4,
 "nbformat_minor": 5
}
