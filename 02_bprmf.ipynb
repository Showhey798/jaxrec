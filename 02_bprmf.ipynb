{
 "cells": [
  {
   "cell_type": "code",
   "execution_count": 1,
   "id": "ed0dbce5-e67a-4e1b-a6b8-86a6a5c2eef6",
   "metadata": {},
   "outputs": [],
   "source": [
    "%load_ext autoreload\n",
    "%autoreload 2"
   ]
  },
  {
   "cell_type": "code",
   "execution_count": 2,
   "id": "c812ff48-3b72-4415-a4a4-5842716b6c51",
   "metadata": {},
   "outputs": [],
   "source": [
    "from collections import OrderedDict\n",
    "import pandas as pd\n",
    "import numpy as np\n",
    "from recs.jaxmodels.cf import bprmf\n",
    "from recs.evaluator import evaluate\n",
    "from recs import utils\n",
    "from recs.dataset import negative_sample_dataset\n",
    "\n",
    "import tensorflow as tf\n",
    "from tqdm.notebook import tqdm\n",
    "\n",
    "import jax\n",
    "from jax import numpy as jnp"
   ]
  },
  {
   "cell_type": "code",
   "execution_count": null,
   "id": "9007d420-9360-4a54-b7ce-a53b868c56b0",
   "metadata": {},
   "outputs": [],
   "source": [
    "train_data, train_len, num_items, num_users = negative_sample_dataset(batch_size=500)"
   ]
  },
  {
   "cell_type": "code",
   "execution_count": null,
   "id": "07a78c8e-396d-4fef-af0b-a424efbcabe1",
   "metadata": {},
   "outputs": [],
   "source": [
    "num_items, num_users, train_len"
   ]
  },
  {
   "cell_type": "code",
   "execution_count": null,
   "id": "fbcc01b8-d5fd-4e53-9134-d21986f1a63f",
   "metadata": {},
   "outputs": [],
   "source": [
    "params = bprmf.init_params(\n",
    "    num_items,\n",
    "    num_users,\n",
    "    30\n",
    ")"
   ]
  },
  {
   "cell_type": "code",
   "execution_count": null,
   "id": "69a6c594-30e8-40dd-8e07-56e31bbbbc58",
   "metadata": {},
   "outputs": [],
   "source": [
    "losses = []\n",
    "for epoch in range(10):\n",
    "    batch_loss = 0.\n",
    "    with tqdm(train_data.as_numpy_iterator(), desc=f\"[Epoch {epoch+1}]\", total=train_len) as tm:\n",
    "        for i, batch in enumerate(tm):\n",
    "            params, error = bprmf.update(params, batch, alpha=0.005, lam=0.05)\n",
    "            batch_loss += error\n",
    "            tm.set_postfix(OrderedDict(loss=batch_loss / (i + 1)))\n",
    "    batch_loss /= train_len\n",
    "    losses += np.asarray(batch_loss)"
   ]
  },
  {
   "cell_type": "code",
   "execution_count": null,
   "id": "83bf59c5-ed53-4865-ad9a-516a5b9a8883",
   "metadata": {},
   "outputs": [],
   "source": [
    "def predict_items(params, data, k):\n",
    "    users = np.unique(data[:, 0])\n",
    "    pred_dic = {}\n",
    "    for u in users:\n",
    "        pred_dic[u] = np.asarray(mf.predict(params, u, k))\n",
    "    return pd.DataFrame(pred_dic.items(), columns=[\"userId\", \"itemIds\"])early_stop_count"
   ]
  }
 ],
 "metadata": {
  "kernelspec": {
   "display_name": "Python 3 (ipykernel)",
   "language": "python",
   "name": "python3"
  },
  "language_info": {
   "codemirror_mode": {
    "name": "ipython",
    "version": 3
   },
   "file_extension": ".py",
   "mimetype": "text/x-python",
   "name": "python",
   "nbconvert_exporter": "python",
   "pygments_lexer": "ipython3",
   "version": "3.8.10"
  }
 },
 "nbformat": 4,
 "nbformat_minor": 5
}
