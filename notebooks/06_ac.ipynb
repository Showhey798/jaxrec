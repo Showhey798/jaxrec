{
 "cells": [
  {
   "cell_type": "code",
   "execution_count": 1,
   "id": "15b58a17-04ff-4ebb-b4b9-73c1e5a2151d",
   "metadata": {},
   "outputs": [],
   "source": [
    "%load_ext autoreload\n",
    "%load_ext tensorboard\n",
    "%autoreload 2"
   ]
  },
  {
   "cell_type": "code",
   "execution_count": 2,
   "id": "8e5aa05e-d606-4ca3-aca6-771ac3f34d12",
   "metadata": {},
   "outputs": [],
   "source": [
    "import sys\n",
    "sys.path.append(\"..\")"
   ]
  },
  {
   "cell_type": "code",
   "execution_count": 3,
   "id": "21566ad3-8492-433d-9f69-fef968b2149b",
   "metadata": {},
   "outputs": [],
   "source": [
    "from typing import Optional,List\n",
    "from tqdm.notebook import tqdm\n",
    "import datetime\n",
    "import os\n",
    "import copy\n",
    "import pandas as pd\n",
    "import numpy as np\n",
    "\n",
    "import matplotlib.pyplot as plt\n",
    "import seaborn as sns\n",
    "import pickle\n",
    "\n",
    "from recs.dataset import session_parallel_dataset\n",
    "from recs.evaluator import metrics\n",
    "\n",
    "import tensorflow as tf\n",
    "from tensorflow import keras as tfk\n",
    "import tensorflow_probability as tfp\n",
    "from tensorflow_probability import distributions as tfd\n"
   ]
  },
  {
   "cell_type": "code",
   "execution_count": 4,
   "id": "d5331620-8981-4b33-8564-c91b0165657b",
   "metadata": {},
   "outputs": [],
   "source": [
    "class QNet(tfk.layers.Layer):\n",
    "    def __init__(\n",
    "        self,\n",
    "        num_items:int,\n",
    "        seq_len:Optional[int]=3,\n",
    "        hidden_dim:Optional[int]=100,\n",
    "        embed_dim:Optional[int]=100,\n",
    "        dropout_rate:Optional[int]=0.5,\n",
    "        activation=None\n",
    "        name=\"QNet\"\n",
    "    ):\n",
    "        super(QNet, self).__init__(name=name)\n",
    "        \n",
    "        self._embedding = tfk.layers.Embedding(num_items, embed_dim, mask_zero=True)\n",
    "        self._gru = tfk.layers.GRU(\n",
    "            hidden_dim, \n",
    "            dropout=dropout_rate)\n",
    "\n",
    "        self._qvalue_dense = tfk.layers.Dense(num_items, activation=activation)\n",
    "    \n",
    "    def call(\n",
    "        self, \n",
    "        item_seqs:tf.Tensor, # (batch_size, seq_len)\n",
    "        training:Optional[bool]=False,\n",
    "    ):\n",
    "        x = self._embedding(item_seqs)\n",
    "        x = self._gru(x, training=training)\n",
    "        out = self._qvalue_dense(x)\n",
    "        return out"
   ]
  },
  {
   "cell_type": "code",
   "execution_count": null,
   "id": "db5c7e65-5dda-4c82-b2bf-f35ce8829ee1",
   "metadata": {},
   "outputs": [],
   "source": [
    "class ActorCritic(tfk.Model):\n",
    "    \n",
    "    def __init__(\n",
    "        self,\n",
    "        num_items:int,\n",
    "        seq_len:Optional[int]=3,\n",
    "        hidden_dim:Optional[int]=100,\n",
    "        embed_dim:Optional[int]=100,\n",
    "        dropout_rate:Optional[int]=0.5,\n",
    "        name=\"ActorCritic\"\n",
    "    ):\n",
    "        self._num_items = num_items\n",
    "        self._seq_len = seq_len\n",
    "        self._loss_tracker = tfk.metrics.Mean(name=\"loss\")\n",
    "        \n",
    "        self._actor = QNet(\n",
    "            num_items,\n",
    "            seq_len,\n",
    "            hidden_dim,\n",
    "            embed_dim,\n",
    "            dropout_rate, \n",
    "            activation=\"softmax\", \n",
    "            name=\"Actor\")\n",
    "        self._critic = QNet(\n",
    "            1,\n",
    "            seq_len,\n",
    "            hidden_dim,\n",
    "            embed_dim,\n",
    "            dropout_rate, \n",
    "            name=\"Critic\")\n",
    "        \n",
    "        dummy_state = tf.zeros((1, seq_len), dtype=tf.int32)\n",
    "        self._actor(dummy_state)\n",
    "        self._critic(dummy_state)\n",
    "        self._target_actor(dummy_state)\n",
    "        self._target_critic(dummy_state)\n",
    "    \n",
    "    def call(self, state):\n",
    "        return self._actor(state)\n",
    "    \n",
    "        \n",
    "    def train_step(self, data):\n",
    "        state, action, reward, n_state, done = data\n",
    "        onehot_act = tf.one_hot(action-1, depth=self._num_items)\n",
    "        \n",
    "        with tf.GradientTape() as tape:"
   ]
  }
 ],
 "metadata": {
  "kernelspec": {
   "display_name": "Python 3 (ipykernel)",
   "language": "python",
   "name": "python3"
  },
  "language_info": {
   "codemirror_mode": {
    "name": "ipython",
    "version": 3
   },
   "file_extension": ".py",
   "mimetype": "text/x-python",
   "name": "python",
   "nbconvert_exporter": "python",
   "pygments_lexer": "ipython3",
   "version": "3.8.10"
  }
 },
 "nbformat": 4,
 "nbformat_minor": 5
}
