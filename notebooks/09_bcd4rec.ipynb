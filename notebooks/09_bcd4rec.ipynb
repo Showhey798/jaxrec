{
 "cells": [
  {
   "cell_type": "code",
   "execution_count": 1,
   "id": "eab62df8-01cc-4c7c-916d-32d7c63bfcfa",
   "metadata": {},
   "outputs": [],
   "source": [
    "%load_ext autoreload\n",
    "%load_ext tensorboard\n",
    "%autoreload 2"
   ]
  },
  {
   "cell_type": "code",
   "execution_count": 2,
   "id": "398c7c9d-5e01-4852-877c-4713784ef620",
   "metadata": {},
   "outputs": [],
   "source": [
    "import sys\n",
    "sys.path.append(\"..\")\n",
    "from typing import Optional,List\n",
    "from tqdm.notebook import tqdm\n",
    "\n",
    "import datetime\n",
    "import os\n",
    "import copy\n",
    "\n",
    "import pandas as pd\n",
    "import numpy as np\n",
    "\n",
    "import matplotlib.pyplot as plt\n",
    "import seaborn as sns\n",
    "import pickle\n",
    "\n",
    "from recs.evaluator import metrics\n",
    "\n",
    "import tensorflow as tf\n",
    "from tensorflow import keras as tfk"
   ]
  },
  {
   "cell_type": "code",
   "execution_count": null,
   "id": "d4e87556-ce47-439c-85f5-6e0d6b35f0be",
   "metadata": {},
   "outputs": [],
   "source": [
    "class QNet(tfk.layers.Layer):\n",
    "    def __init__(\n",
    "        self,\n",
    "        num_items:int,\n",
    "        seq_len:Optional[int]=3,\n",
    "        hidden_dim:Optional[int]=100,\n",
    "        embed_dim:Optional[int]=100,\n",
    "        dropout_rate:Optional[int]=0.5,\n",
    "        name=\"QNet\"\n",
    "    ):\n",
    "        super(QNet, self).__init__(name=name)\n",
    "        \n",
    "        self._embedding = tfk.layers.Embedding(num_items, embed_dim, mask_zero=True)\n",
    "        self._gru = tfk.layers.GRU(\n",
    "            hidden_dim, \n",
    "            dropout=dropout_rate)\n",
    "\n",
    "        self._qvalue_dense = tfk.layers.Dense(num_items, activation=None)\n",
    "        self._imt_dense = tfk.layers.Dense(num_items, activation=\"softmax\")\n",
    "    \n",
    "    def call(\n",
    "        self, \n",
    "        item_seqs:tf.Tensor, # (batch_size, seq_len)\n",
    "        training:Optional[bool]=False,\n",
    "    ):\n",
    "        x = self._embedding(item_seqs)\n",
    "        x = self._gru(x, training=training)\n",
    "        \n",
    "        qvalue = self._qvalue_dense(x)\n",
    "        i = self._imt_dense(x)\n",
    "        \n",
    "        return qvalue, i"
   ]
  }
 ],
 "metadata": {
  "kernelspec": {
   "display_name": "Python 3 (ipykernel)",
   "language": "python",
   "name": "python3"
  },
  "language_info": {
   "codemirror_mode": {
    "name": "ipython",
    "version": 3
   },
   "file_extension": ".py",
   "mimetype": "text/x-python",
   "name": "python",
   "nbconvert_exporter": "python",
   "pygments_lexer": "ipython3",
   "version": "3.8.10"
  }
 },
 "nbformat": 4,
 "nbformat_minor": 5
}
