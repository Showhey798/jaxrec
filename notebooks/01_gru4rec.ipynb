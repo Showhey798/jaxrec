{
 "cells": [
  {
   "cell_type": "code",
   "execution_count": 1,
   "id": "97aff54d-5d2d-4d91-9c17-413cbe5ddac4",
   "metadata": {},
   "outputs": [],
   "source": [
    "%load_ext autoreload\n",
    "%autoreload 2"
   ]
  },
  {
   "cell_type": "markdown",
   "id": "4658c7de-eb53-4264-8553-690749543434",
   "metadata": {
    "tags": []
   },
   "source": [
    "# 前処理"
   ]
  },
  {
   "cell_type": "code",
   "execution_count": 2,
   "id": "6820380f-9830-402a-9bc1-80173ddaa311",
   "metadata": {},
   "outputs": [
    {
     "name": "stderr",
     "output_type": "stream",
     "text": [
      "2022-11-04 13:00:04.725356: E tensorflow/stream_executor/cuda/cuda_blas.cc:2981] Unable to register cuBLAS factory: Attempting to register factory for plugin cuBLAS when one has already been registered\n",
      "2022-11-04 13:00:05.331151: W tensorflow/stream_executor/platform/default/dso_loader.cc:64] Could not load dynamic library 'libnvinfer.so.7'; dlerror: libnvinfer.so.7: cannot open shared object file: No such file or directory; LD_LIBRARY_PATH: /usr/local/nvidia/lib:/usr/local/nvidia/lib64\n",
      "2022-11-04 13:00:05.331255: W tensorflow/stream_executor/platform/default/dso_loader.cc:64] Could not load dynamic library 'libnvinfer_plugin.so.7'; dlerror: libnvinfer_plugin.so.7: cannot open shared object file: No such file or directory; LD_LIBRARY_PATH: /usr/local/nvidia/lib:/usr/local/nvidia/lib64\n",
      "2022-11-04 13:00:05.331263: W tensorflow/compiler/tf2tensorrt/utils/py_utils.cc:38] TF-TRT Warning: Cannot dlopen some TensorRT libraries. If you would like to use Nvidia GPU with TensorRT, please make sure the missing libraries mentioned above are installed properly.\n"
     ]
    }
   ],
   "source": [
    "from collections import OrderedDict\n",
    "from sklearn.model_selection import TimeSeriesSplit\n",
    "import pandas as pd\n",
    "import numpy as np\n",
    "\n",
    "import sys\n",
    "sys.path.append(\"/home/inoue/work/recs\")\n",
    "\n",
    "from recs.evaluator import metrics, evaluate\n",
    "from recs import utils\n",
    "from recs.jaxmodels import gru4rec, GRU4RecConfig\n",
    "from recs.dataset import session_parallel_dataset\n",
    "import jax\n",
    "\n",
    "from flax import serialization\n",
    "\n",
    "import matplotlib.pyplot as plt\n",
    "import japanize_matplotlib\n"
   ]
  },
  {
   "cell_type": "code",
   "execution_count": 3,
   "id": "84632753-e551-4c4b-8519-13703fd9c0e6",
   "metadata": {},
   "outputs": [],
   "source": [
    "#data = pd.read_pickle(\"~/work/dataset/ml-100k/train.df\")\n",
    "#testdata = pd.read_pickle(\"~/work/dataset/ml-100k/test.df\")\n",
    "\n",
    "data = pd.read_pickle(\"~/work/dataset/RC15/derived/train.df\")\n",
    "testdata = pd.read_pickle(\"~/work/dataset/RC15/derived/test.df\")"
   ]
  },
  {
   "cell_type": "code",
   "execution_count": 4,
   "id": "ff514242-5b15-4ce0-bdf3-fe2f5d963fb0",
   "metadata": {},
   "outputs": [],
   "source": [
    "num_items = max(data.itemId.max(), testdata.itemId.max()) + 1"
   ]
  },
  {
   "cell_type": "code",
   "execution_count": 5,
   "id": "c4c7a3bb-1720-4183-8227-f55d9e4ff8f2",
   "metadata": {},
   "outputs": [],
   "source": [
    "tscv = TimeSeriesSplit(n_splits=4) "
   ]
  },
  {
   "cell_type": "markdown",
   "id": "cf79fb7e-1939-47df-89ad-c39b5614a70d",
   "metadata": {
    "tags": []
   },
   "source": [
    "# GRU4Rec"
   ]
  },
  {
   "cell_type": "code",
   "execution_count": 23,
   "id": "7a5c1eef-4373-4470-b6ca-398b3f2da198",
   "metadata": {
    "tags": []
   },
   "outputs": [
    {
     "name": "stderr",
     "output_type": "stream",
     "text": [
      "[Epoch 1] training: 100%|██████████████████████████| 843/843 [00:30<00:00, 27.74it/s, loss=8.242584]\n",
      "[Epoch 2] training:  77%|███████████████████▉      | 647/843 [00:22<00:06, 29.24it/s, loss=5.441398]\n"
     ]
    },
    {
     "ename": "KeyboardInterrupt",
     "evalue": "",
     "output_type": "error",
     "traceback": [
      "\u001b[0;31m---------------------------------------------------------------------------\u001b[0m",
      "\u001b[0;31mKeyboardInterrupt\u001b[0m                         Traceback (most recent call last)",
      "File \u001b[0;32m<timed exec>:39\u001b[0m, in \u001b[0;36m<module>\u001b[0;34m\u001b[0m\n",
      "File \u001b[0;32m~/work/recs/recs/jaxmodels/nn/gru4rec.py:179\u001b[0m, in \u001b[0;36mtrain\u001b[0;34m(config, model, state, train_data, train_len, hidden)\u001b[0m\n\u001b[1;32m    176\u001b[0m         inputs, targets, masks \u001b[38;5;241m=\u001b[39m batch[\u001b[38;5;241m0\u001b[39m], batch[\u001b[38;5;241m2\u001b[39m], batch[\u001b[38;5;241m1\u001b[39m]\n\u001b[1;32m    178\u001b[0m         state, loss, hidden \u001b[38;5;241m=\u001b[39m train_step(state, inputs, targets, masks, hidden)\n\u001b[0;32m--> 179\u001b[0m         batch_loss \u001b[38;5;241m+\u001b[39m\u001b[38;5;241m=\u001b[39m \u001b[43mnp\u001b[49m\u001b[38;5;241;43m.\u001b[39;49m\u001b[43masarray\u001b[49m\u001b[43m(\u001b[49m\u001b[43mloss\u001b[49m\u001b[43m)\u001b[49m\n\u001b[1;32m    181\u001b[0m         ts\u001b[38;5;241m.\u001b[39mset_postfix_str(\u001b[38;5;124m\"\u001b[39m\u001b[38;5;124mloss=\u001b[39m\u001b[38;5;132;01m%4f\u001b[39;00m\u001b[38;5;124m\"\u001b[39m\u001b[38;5;241m%\u001b[39m(batch_loss \u001b[38;5;241m/\u001b[39m (i\u001b[38;5;241m+\u001b[39m\u001b[38;5;241m1\u001b[39m)))\n\u001b[1;32m    183\u001b[0m batch_loss \u001b[38;5;241m=\u001b[39m batch_loss \u001b[38;5;241m/\u001b[39m (i \u001b[38;5;241m+\u001b[39m \u001b[38;5;241m1\u001b[39m)\n",
      "File \u001b[0;32m~/.local/lib/python3.8/site-packages/jax/_src/device_array.py:264\u001b[0m, in \u001b[0;36m__array__\u001b[0;34m(self, dtype, context)\u001b[0m\n\u001b[1;32m    263\u001b[0m \u001b[38;5;28;01mdef\u001b[39;00m \u001b[38;5;21m__array__\u001b[39m(\u001b[38;5;28mself\u001b[39m, dtype\u001b[38;5;241m=\u001b[39m\u001b[38;5;28;01mNone\u001b[39;00m, context\u001b[38;5;241m=\u001b[39m\u001b[38;5;28;01mNone\u001b[39;00m):\n\u001b[0;32m--> 264\u001b[0m   \u001b[38;5;28;01mreturn\u001b[39;00m np\u001b[38;5;241m.\u001b[39masarray(\u001b[38;5;28;43mself\u001b[39;49m\u001b[38;5;241;43m.\u001b[39;49m\u001b[43m_value\u001b[49m, dtype\u001b[38;5;241m=\u001b[39mdtype)\n",
      "\u001b[0;31mKeyboardInterrupt\u001b[0m: "
     ]
    }
   ],
   "source": [
    "%%time\n",
    "batch_size = 500\n",
    "\n",
    "# hparams = pd.DataFrame(columns=[\"hidden_size\", \"dropout_rate\", \"valid_score\"])\n",
    "count = 0\n",
    "for hidden_size in [1000]:\n",
    "    for dropout_rate in [0]:\n",
    "        # count += 1\n",
    "        config = GRU4RecConfig(\n",
    "            hidden_size=hidden_size, \n",
    "            output_size=num_items, \n",
    "            batch_size=batch_size,\n",
    "            dropout_hidden=dropout_rate, \n",
    "            learning_rate=0.01, \n",
    "            final_act=\"log_softmax\",\n",
    "            num_epochs=10,\n",
    "            early_stop_count=2\n",
    "        )\n",
    "\n",
    "        valid_scores = []\n",
    "        #for i, (train_ind, valid_ind) in enumerate(tscv.split(data)):\n",
    "        for i, df in enumerate([data]):\n",
    "            train_data, total_length = session_parallel_dataset(\n",
    "                #data.iloc[train_ind],\n",
    "                data,\n",
    "                batch_size = config.batch_size,\n",
    "                issort=False,\n",
    "                timekey=\"eventdate\"\n",
    "            )\n",
    "\n",
    "            # valid_data, valid_len = session_parallel_dataset(\n",
    "            #     data.iloc[valid_ind],\n",
    "            #     batch_size=config.batch_size,\n",
    "            #     issort=False,\n",
    "            #     timekey=\"eventdate\"\n",
    "            # )\n",
    "\n",
    "            state, hidden, model = gru4rec.create_train_state(\n",
    "                jax.random.PRNGKey(0), config)\n",
    "            state, hidden, loss = gru4rec.train(\n",
    "                config,\n",
    "                model,\n",
    "                state,\n",
    "                train_data,\n",
    "                total_length,\n",
    "                hidden=hidden\n",
    "            )\n",
    "\n",
    "#             valid_pred = gru4rec.predict(config, model, state, valid_data, valid_len)\n",
    "#             _, valid_score = evaluate.evaluate(\n",
    "#                 valid_pred,\n",
    "#                 k=20,\n",
    "#                 metrics=[\"recall\"]\n",
    "#             )\n",
    "#             valid_scores += [valid_score.values[0]]\n",
    "\n",
    "#         hparams = pd.concat([\n",
    "#             hparams, \n",
    "#             pd.DataFrame([[hidden_size, dropout_rate, np.mean(valid_scores)]], \n",
    "#                 columns=[\"hidden_size\", \"dropout_rate\", \"valid_score\"])], axis=0)\n",
    "#         serialization.to_state_dict(o)"
   ]
  },
  {
   "cell_type": "code",
   "execution_count": 22,
   "id": "a74561d5-7941-4d22-82c4-dde0e56c6c29",
   "metadata": {},
   "outputs": [],
   "source": [
    "import pickle\n",
    "pickle.dump(\n",
    "    serialization.to_state_dict(state.params), open(\"/home/inoue/work/recs/params/gru4rec_params_%d.pkl\"%6, \"wb\")\n",
    ")"
   ]
  },
  {
   "cell_type": "code",
   "execution_count": 21,
   "id": "e8fe8a3b-77dc-4e6f-adf7-3aac9c935b5a",
   "metadata": {},
   "outputs": [
    {
     "data": {
      "text/html": [
       "<div>\n",
       "<style scoped>\n",
       "    .dataframe tbody tr th:only-of-type {\n",
       "        vertical-align: middle;\n",
       "    }\n",
       "\n",
       "    .dataframe tbody tr th {\n",
       "        vertical-align: top;\n",
       "    }\n",
       "\n",
       "    .dataframe thead th {\n",
       "        text-align: right;\n",
       "    }\n",
       "</style>\n",
       "<table border=\"1\" class=\"dataframe\">\n",
       "  <thead>\n",
       "    <tr style=\"text-align: right;\">\n",
       "      <th></th>\n",
       "      <th>hidden_size</th>\n",
       "      <th>dropout_rate</th>\n",
       "      <th>valid_score</th>\n",
       "    </tr>\n",
       "  </thead>\n",
       "  <tbody>\n",
       "    <tr>\n",
       "      <th>0</th>\n",
       "      <td>100</td>\n",
       "      <td>0</td>\n",
       "      <td>0.163974</td>\n",
       "    </tr>\n",
       "    <tr>\n",
       "      <th>1</th>\n",
       "      <td>100</td>\n",
       "      <td>0.2</td>\n",
       "      <td>0.163974</td>\n",
       "    </tr>\n",
       "    <tr>\n",
       "      <th>2</th>\n",
       "      <td>100</td>\n",
       "      <td>0.5</td>\n",
       "      <td>0.163974</td>\n",
       "    </tr>\n",
       "    <tr>\n",
       "      <th>3</th>\n",
       "      <td>500</td>\n",
       "      <td>0</td>\n",
       "      <td>0.066886</td>\n",
       "    </tr>\n",
       "    <tr>\n",
       "      <th>4</th>\n",
       "      <td>500</td>\n",
       "      <td>0.2</td>\n",
       "      <td>0.066886</td>\n",
       "    </tr>\n",
       "    <tr>\n",
       "      <th>5</th>\n",
       "      <td>500</td>\n",
       "      <td>0.5</td>\n",
       "      <td>0.066886</td>\n",
       "    </tr>\n",
       "    <tr>\n",
       "      <th>6</th>\n",
       "      <td>1000</td>\n",
       "      <td>0</td>\n",
       "      <td>0.03697</td>\n",
       "    </tr>\n",
       "    <tr>\n",
       "      <th>7</th>\n",
       "      <td>1000</td>\n",
       "      <td>0.2</td>\n",
       "      <td>0.03697</td>\n",
       "    </tr>\n",
       "  </tbody>\n",
       "</table>\n",
       "</div>"
      ],
      "text/plain": [
       "  hidden_size dropout_rate valid_score\n",
       "0         100            0    0.163974\n",
       "1         100          0.2    0.163974\n",
       "2         100          0.5    0.163974\n",
       "3         500            0    0.066886\n",
       "4         500          0.2    0.066886\n",
       "5         500          0.5    0.066886\n",
       "6        1000            0     0.03697\n",
       "7        1000          0.2     0.03697"
      ]
     },
     "execution_count": 21,
     "metadata": {},
     "output_type": "execute_result"
    }
   ],
   "source": [
    "hparams = hparams.reset_index().drop(\"index\", axis=1)\n",
    "hparams"
   ]
  },
  {
   "cell_type": "code",
   "execution_count": 23,
   "id": "682b6a36-516d-40fa-9716-0476766690fe",
   "metadata": {},
   "outputs": [],
   "source": [
    "hparams.to_csv(\"/home/inoue/work/recs/params/gru4rec_hparams.csv\", index=False)"
   ]
  },
  {
   "cell_type": "code",
   "execution_count": 6,
   "id": "a2ef7883-16cd-483e-881f-9dae6e7979b9",
   "metadata": {},
   "outputs": [
    {
     "name": "stderr",
     "output_type": "stream",
     "text": [
      "[Epoch 1] training:  39%|████████▌             | 18462/47456 [08:30<13:20, 36.20it/s, loss=7.786817]\n"
     ]
    },
    {
     "ename": "KeyboardInterrupt",
     "evalue": "",
     "output_type": "error",
     "traceback": [
      "\u001b[0;31m---------------------------------------------------------------------------\u001b[0m",
      "\u001b[0;31mKeyboardInterrupt\u001b[0m                         Traceback (most recent call last)",
      "Cell \u001b[0;32mIn [6], line 26\u001b[0m\n\u001b[1;32m     16\u001b[0m train_data, total_length \u001b[38;5;241m=\u001b[39m session_parallel_dataset(\n\u001b[1;32m     17\u001b[0m     data,\n\u001b[1;32m     18\u001b[0m     batch_size \u001b[38;5;241m=\u001b[39m config\u001b[38;5;241m.\u001b[39mbatch_size,\n\u001b[0;32m   (...)\u001b[0m\n\u001b[1;32m     21\u001b[0m     \u001b[38;5;66;03m#timekey=\"timestamp\"\u001b[39;00m\n\u001b[1;32m     22\u001b[0m )\n\u001b[1;32m     24\u001b[0m state, hidden, model \u001b[38;5;241m=\u001b[39m gru4rec\u001b[38;5;241m.\u001b[39mcreate_train_state(\n\u001b[1;32m     25\u001b[0m     jax\u001b[38;5;241m.\u001b[39mrandom\u001b[38;5;241m.\u001b[39mPRNGKey(\u001b[38;5;241m0\u001b[39m), config)\n\u001b[0;32m---> 26\u001b[0m state, hidden, loss \u001b[38;5;241m=\u001b[39m \u001b[43mgru4rec\u001b[49m\u001b[38;5;241;43m.\u001b[39;49m\u001b[43mtrain\u001b[49m\u001b[43m(\u001b[49m\n\u001b[1;32m     27\u001b[0m \u001b[43m    \u001b[49m\u001b[43mconfig\u001b[49m\u001b[43m,\u001b[49m\n\u001b[1;32m     28\u001b[0m \u001b[43m    \u001b[49m\u001b[43mmodel\u001b[49m\u001b[43m,\u001b[49m\n\u001b[1;32m     29\u001b[0m \u001b[43m    \u001b[49m\u001b[43mstate\u001b[49m\u001b[43m,\u001b[49m\n\u001b[1;32m     30\u001b[0m \u001b[43m    \u001b[49m\u001b[43mtrain_data\u001b[49m\u001b[43m,\u001b[49m\n\u001b[1;32m     31\u001b[0m \u001b[43m    \u001b[49m\u001b[43mtotal_length\u001b[49m\u001b[43m,\u001b[49m\n\u001b[1;32m     32\u001b[0m \u001b[43m    \u001b[49m\u001b[43mhidden\u001b[49m\u001b[38;5;241;43m=\u001b[39;49m\u001b[43mhidden\u001b[49m\n\u001b[1;32m     33\u001b[0m \u001b[43m)\u001b[49m\n",
      "File \u001b[0;32m~/work/recs/recs/jaxmodels/nn/gru4rec.py:180\u001b[0m, in \u001b[0;36mtrain\u001b[0;34m(config, model, state, train_data, train_len, hidden)\u001b[0m\n\u001b[1;32m    177\u001b[0m         inputs, targets, masks \u001b[38;5;241m=\u001b[39m batch[\u001b[38;5;241m0\u001b[39m], batch[\u001b[38;5;241m2\u001b[39m], batch[\u001b[38;5;241m1\u001b[39m]\n\u001b[1;32m    179\u001b[0m         state, loss, hidden \u001b[38;5;241m=\u001b[39m train_step(state, inputs, targets, masks, hidden)\n\u001b[0;32m--> 180\u001b[0m         batch_loss \u001b[38;5;241m+\u001b[39m\u001b[38;5;241m=\u001b[39m \u001b[43mnp\u001b[49m\u001b[38;5;241;43m.\u001b[39;49m\u001b[43masarray\u001b[49m\u001b[43m(\u001b[49m\u001b[43mloss\u001b[49m\u001b[43m)\u001b[49m\n\u001b[1;32m    182\u001b[0m         ts\u001b[38;5;241m.\u001b[39mset_postfix_str(\u001b[38;5;124m\"\u001b[39m\u001b[38;5;124mloss=\u001b[39m\u001b[38;5;132;01m%4f\u001b[39;00m\u001b[38;5;124m\"\u001b[39m\u001b[38;5;241m%\u001b[39m(batch_loss \u001b[38;5;241m/\u001b[39m (i\u001b[38;5;241m+\u001b[39m\u001b[38;5;241m1\u001b[39m)))\n\u001b[1;32m    184\u001b[0m batch_loss \u001b[38;5;241m=\u001b[39m batch_loss \u001b[38;5;241m/\u001b[39m (i \u001b[38;5;241m+\u001b[39m \u001b[38;5;241m1\u001b[39m)\n",
      "\u001b[0;31mKeyboardInterrupt\u001b[0m: "
     ]
    }
   ],
   "source": [
    "batch_size = 500\n",
    "hidden_size = 1000\n",
    "dropout_rate=0\n",
    "\n",
    "config = GRU4RecConfig(\n",
    "    hidden_size=hidden_size, \n",
    "    output_size=num_items, \n",
    "    batch_size=batch_size,\n",
    "    dropout_hidden=dropout_rate, \n",
    "    learning_rate=0.01, \n",
    "    final_act=\"log_softmax\",\n",
    "    num_epochs=10,\n",
    "    early_stop_count=2\n",
    ")\n",
    "\n",
    "train_data, total_length = session_parallel_dataset(\n",
    "    data,\n",
    "    batch_size = config.batch_size,\n",
    "    issort=False,\n",
    "    #sessionkey=\"userId\",\n",
    "    #timekey=\"timestamp\"\n",
    ")\n",
    "\n",
    "state, hidden, model = gru4rec.create_train_state(\n",
    "    jax.random.PRNGKey(0), config)\n",
    "state, hidden, loss = gru4rec.train(\n",
    "    config,\n",
    "    model,\n",
    "    state,\n",
    "    train_data,\n",
    "    total_length,\n",
    "    hidden=hidden\n",
    ")"
   ]
  },
  {
   "cell_type": "code",
   "execution_count": 1,
   "id": "de125a9a-2954-49ab-8e04-e609404ae1f9",
   "metadata": {
    "tags": []
   },
   "outputs": [
    {
     "ename": "NameError",
     "evalue": "name 'session_parallel_dataset' is not defined",
     "output_type": "error",
     "traceback": [
      "\u001b[0;31m---------------------------------------------------------------------------\u001b[0m",
      "\u001b[0;31mNameError\u001b[0m                                 Traceback (most recent call last)",
      "Cell \u001b[0;32mIn [1], line 1\u001b[0m\n\u001b[0;32m----> 1\u001b[0m test_data, test_len \u001b[38;5;241m=\u001b[39m \u001b[43msession_parallel_dataset\u001b[49m(\n\u001b[1;32m      2\u001b[0m     testdata,\n\u001b[1;32m      3\u001b[0m     batch_size\u001b[38;5;241m=\u001b[39mconfig\u001b[38;5;241m.\u001b[39mbatch_size, \n\u001b[1;32m      4\u001b[0m     issort\u001b[38;5;241m=\u001b[39m\u001b[38;5;28;01mFalse\u001b[39;00m,\n\u001b[1;32m      5\u001b[0m     \u001b[38;5;66;03m#sessionkey=\"userId\",\u001b[39;00m\n\u001b[1;32m      6\u001b[0m     \u001b[38;5;66;03m#timekey=\"timestamp\"\u001b[39;00m\n\u001b[1;32m      7\u001b[0m )\n",
      "\u001b[0;31mNameError\u001b[0m: name 'session_parallel_dataset' is not defined"
     ]
    }
   ],
   "source": [
    "test_data, test_len = session_parallel_dataset(\n",
    "    testdata,\n",
    "    batch_size=config.batch_size, \n",
    "    issort=False,\n",
    "    #sessionkey=\"userId\",\n",
    "    #timekey=\"timestamp\"\n",
    ")"
   ]
  },
  {
   "cell_type": "code",
   "execution_count": 17,
   "id": "728e52a0-059c-47b2-9f4e-7bbf3530869b",
   "metadata": {},
   "outputs": [
    {
     "data": {
      "text/plain": [
       "942"
      ]
     },
     "execution_count": 17,
     "metadata": {},
     "output_type": "execute_result"
    }
   ],
   "source": [
    "testdata[\"userId\"].max()"
   ]
  },
  {
   "cell_type": "code",
   "execution_count": 8,
   "id": "348daa74-a829-4dbc-97c8-af500cedf83f",
   "metadata": {},
   "outputs": [
    {
     "name": "stderr",
     "output_type": "stream",
     "text": [
      "predicting:   0%|                                                            | 0/39 [00:00<?, ?it/s]2022-11-02 17:45:28.652051: W tensorflow/core/framework/op_kernel.cc:1768] UNKNOWN: IndexError: index 301 is out of bounds for axis 0 with size 301\n",
      "Traceback (most recent call last):\n",
      "\n",
      "  File \"/usr/local/lib/python3.8/dist-packages/tensorflow/python/ops/script_ops.py\", line 271, in __call__\n",
      "    ret = func(*args)\n",
      "\n",
      "  File \"/usr/local/lib/python3.8/dist-packages/tensorflow/python/autograph/impl/api.py\", line 642, in wrapper\n",
      "    return func(*args, **kwargs)\n",
      "\n",
      "  File \"/usr/local/lib/python3.8/dist-packages/tensorflow/python/data/ops/dataset_ops.py\", line 1035, in generator_py_func\n",
      "    values = next(generator_state.get_iterator(iterator_id))\n",
      "\n",
      "  File \"/home/inoue/work/recs/recs/dataset.py\", line 33, in generator\n",
      "    start, end = click_offsets[session_idx_arr[iters]], click_offsets[session_idx_arr[iters] + 1]\n",
      "\n",
      "IndexError: index 301 is out of bounds for axis 0 with size 301\n",
      "\n",
      "\n",
      "predicting:   0%|                                                            | 0/39 [00:00<?, ?it/s]\n"
     ]
    },
    {
     "ename": "UnknownError",
     "evalue": "{{function_node __wrapped__IteratorGetNext_output_types_4_device_/job:localhost/replica:0/task:0/device:CPU:0}} IndexError: index 301 is out of bounds for axis 0 with size 301\nTraceback (most recent call last):\n\n  File \"/usr/local/lib/python3.8/dist-packages/tensorflow/python/ops/script_ops.py\", line 271, in __call__\n    ret = func(*args)\n\n  File \"/usr/local/lib/python3.8/dist-packages/tensorflow/python/autograph/impl/api.py\", line 642, in wrapper\n    return func(*args, **kwargs)\n\n  File \"/usr/local/lib/python3.8/dist-packages/tensorflow/python/data/ops/dataset_ops.py\", line 1035, in generator_py_func\n    values = next(generator_state.get_iterator(iterator_id))\n\n  File \"/home/inoue/work/recs/recs/dataset.py\", line 33, in generator\n    start, end = click_offsets[session_idx_arr[iters]], click_offsets[session_idx_arr[iters] + 1]\n\nIndexError: index 301 is out of bounds for axis 0 with size 301\n\n\n\t [[{{node PyFunc}}]] [Op:IteratorGetNext]",
     "output_type": "error",
     "traceback": [
      "\u001b[0;31m---------------------------------------------------------------------------\u001b[0m",
      "\u001b[0;31mUnknownError\u001b[0m                              Traceback (most recent call last)",
      "Cell \u001b[0;32mIn [8], line 1\u001b[0m\n\u001b[0;32m----> 1\u001b[0m pred_df \u001b[38;5;241m=\u001b[39m \u001b[43mgru4rec\u001b[49m\u001b[38;5;241;43m.\u001b[39;49m\u001b[43mpredict\u001b[49m\u001b[43m(\u001b[49m\n\u001b[1;32m      2\u001b[0m \u001b[43m    \u001b[49m\u001b[43mconfig\u001b[49m\u001b[43m,\u001b[49m\n\u001b[1;32m      3\u001b[0m \u001b[43m    \u001b[49m\u001b[43mmodel\u001b[49m\u001b[43m,\u001b[49m\n\u001b[1;32m      4\u001b[0m \u001b[43m    \u001b[49m\u001b[43mstate\u001b[49m\u001b[43m,\u001b[49m\n\u001b[1;32m      5\u001b[0m \u001b[43m    \u001b[49m\u001b[43mtest_data\u001b[49m\u001b[43m,\u001b[49m\n\u001b[1;32m      6\u001b[0m \u001b[43m    \u001b[49m\u001b[43mtest_len\u001b[49m\u001b[43m,\u001b[49m\n\u001b[1;32m      7\u001b[0m \u001b[43m)\u001b[49m\n",
      "File \u001b[0;32m~/work/recs/recs/jaxmodels/nn/gru4rec.py:210\u001b[0m, in \u001b[0;36mpredict\u001b[0;34m(config, model, state, test_data, test_len, k, sessionkey)\u001b[0m\n\u001b[1;32m    208\u001b[0m hidden \u001b[38;5;241m=\u001b[39m model\u001b[38;5;241m.\u001b[39minit_hidden(config\u001b[38;5;241m.\u001b[39mbatch_size, config\u001b[38;5;241m.\u001b[39mhidden_size, config\u001b[38;5;241m.\u001b[39mnum_layers)\n\u001b[1;32m    209\u001b[0m pred_df \u001b[38;5;241m=\u001b[39m pd\u001b[38;5;241m.\u001b[39mDataFrame(columns\u001b[38;5;241m=\u001b[39m[sessionkey, \u001b[38;5;124m\"\u001b[39m\u001b[38;5;124mpredIds\u001b[39m\u001b[38;5;124m\"\u001b[39m, \u001b[38;5;124m\"\u001b[39m\u001b[38;5;124mtrueIds\u001b[39m\u001b[38;5;124m\"\u001b[39m])\n\u001b[0;32m--> 210\u001b[0m \u001b[38;5;28;01mfor\u001b[39;00m i, batch \u001b[38;5;129;01min\u001b[39;00m tqdm(\u001b[38;5;28menumerate\u001b[39m(test_data\u001b[38;5;241m.\u001b[39mas_numpy_iterator()), desc\u001b[38;5;241m=\u001b[39m\u001b[38;5;124m\"\u001b[39m\u001b[38;5;124mpredicting\u001b[39m\u001b[38;5;124m\"\u001b[39m, total\u001b[38;5;241m=\u001b[39mtest_len, ncols\u001b[38;5;241m=\u001b[39m\u001b[38;5;241m100\u001b[39m):\n\u001b[1;32m    211\u001b[0m     batch \u001b[38;5;241m=\u001b[39m common_utils\u001b[38;5;241m.\u001b[39mshard(batch)\n\u001b[1;32m    212\u001b[0m     inputs, targets, masks, sessId \u001b[38;5;241m=\u001b[39m jnp\u001b[38;5;241m.\u001b[39msqueeze(batch[\u001b[38;5;241m0\u001b[39m]), jnp\u001b[38;5;241m.\u001b[39msqueeze(batch[\u001b[38;5;241m2\u001b[39m]), jnp\u001b[38;5;241m.\u001b[39msqueeze(batch[\u001b[38;5;241m1\u001b[39m]), jnp\u001b[38;5;241m.\u001b[39msqueeze(batch[\u001b[38;5;241m3\u001b[39m])\n",
      "File \u001b[0;32m/usr/local/lib/python3.8/dist-packages/tqdm/std.py:1195\u001b[0m, in \u001b[0;36mtqdm.__iter__\u001b[0;34m(self)\u001b[0m\n\u001b[1;32m   1192\u001b[0m time \u001b[38;5;241m=\u001b[39m \u001b[38;5;28mself\u001b[39m\u001b[38;5;241m.\u001b[39m_time\n\u001b[1;32m   1194\u001b[0m \u001b[38;5;28;01mtry\u001b[39;00m:\n\u001b[0;32m-> 1195\u001b[0m     \u001b[38;5;28;01mfor\u001b[39;00m obj \u001b[38;5;129;01min\u001b[39;00m iterable:\n\u001b[1;32m   1196\u001b[0m         \u001b[38;5;28;01myield\u001b[39;00m obj\n\u001b[1;32m   1197\u001b[0m         \u001b[38;5;66;03m# Update and possibly print the progressbar.\u001b[39;00m\n\u001b[1;32m   1198\u001b[0m         \u001b[38;5;66;03m# Note: does not call self.update(1) for speed optimisation.\u001b[39;00m\n",
      "File \u001b[0;32m/usr/local/lib/python3.8/dist-packages/tensorflow/python/data/ops/dataset_ops.py:4635\u001b[0m, in \u001b[0;36m_NumpyIterator.__next__\u001b[0;34m(self)\u001b[0m\n\u001b[1;32m   4632\u001b[0m     numpy\u001b[38;5;241m.\u001b[39msetflags(write\u001b[38;5;241m=\u001b[39m\u001b[38;5;28;01mFalse\u001b[39;00m)\n\u001b[1;32m   4633\u001b[0m   \u001b[38;5;28;01mreturn\u001b[39;00m numpy\n\u001b[0;32m-> 4635\u001b[0m \u001b[38;5;28;01mreturn\u001b[39;00m nest\u001b[38;5;241m.\u001b[39mmap_structure(to_numpy, \u001b[38;5;28;43mnext\u001b[39;49m\u001b[43m(\u001b[49m\u001b[38;5;28;43mself\u001b[39;49m\u001b[38;5;241;43m.\u001b[39;49m\u001b[43m_iterator\u001b[49m\u001b[43m)\u001b[49m)\n",
      "File \u001b[0;32m/usr/local/lib/python3.8/dist-packages/tensorflow/python/data/ops/iterator_ops.py:766\u001b[0m, in \u001b[0;36mOwnedIterator.__next__\u001b[0;34m(self)\u001b[0m\n\u001b[1;32m    764\u001b[0m \u001b[38;5;28;01mdef\u001b[39;00m \u001b[38;5;21m__next__\u001b[39m(\u001b[38;5;28mself\u001b[39m):\n\u001b[1;32m    765\u001b[0m   \u001b[38;5;28;01mtry\u001b[39;00m:\n\u001b[0;32m--> 766\u001b[0m     \u001b[38;5;28;01mreturn\u001b[39;00m \u001b[38;5;28;43mself\u001b[39;49m\u001b[38;5;241;43m.\u001b[39;49m\u001b[43m_next_internal\u001b[49m\u001b[43m(\u001b[49m\u001b[43m)\u001b[49m\n\u001b[1;32m    767\u001b[0m   \u001b[38;5;28;01mexcept\u001b[39;00m errors\u001b[38;5;241m.\u001b[39mOutOfRangeError:\n\u001b[1;32m    768\u001b[0m     \u001b[38;5;28;01mraise\u001b[39;00m \u001b[38;5;167;01mStopIteration\u001b[39;00m\n",
      "File \u001b[0;32m/usr/local/lib/python3.8/dist-packages/tensorflow/python/data/ops/iterator_ops.py:749\u001b[0m, in \u001b[0;36mOwnedIterator._next_internal\u001b[0;34m(self)\u001b[0m\n\u001b[1;32m    746\u001b[0m \u001b[38;5;66;03m# TODO(b/77291417): This runs in sync mode as iterators use an error status\u001b[39;00m\n\u001b[1;32m    747\u001b[0m \u001b[38;5;66;03m# to communicate that there is no more data to iterate over.\u001b[39;00m\n\u001b[1;32m    748\u001b[0m \u001b[38;5;28;01mwith\u001b[39;00m context\u001b[38;5;241m.\u001b[39mexecution_mode(context\u001b[38;5;241m.\u001b[39mSYNC):\n\u001b[0;32m--> 749\u001b[0m   ret \u001b[38;5;241m=\u001b[39m \u001b[43mgen_dataset_ops\u001b[49m\u001b[38;5;241;43m.\u001b[39;49m\u001b[43miterator_get_next\u001b[49m\u001b[43m(\u001b[49m\n\u001b[1;32m    750\u001b[0m \u001b[43m      \u001b[49m\u001b[38;5;28;43mself\u001b[39;49m\u001b[38;5;241;43m.\u001b[39;49m\u001b[43m_iterator_resource\u001b[49m\u001b[43m,\u001b[49m\n\u001b[1;32m    751\u001b[0m \u001b[43m      \u001b[49m\u001b[43moutput_types\u001b[49m\u001b[38;5;241;43m=\u001b[39;49m\u001b[38;5;28;43mself\u001b[39;49m\u001b[38;5;241;43m.\u001b[39;49m\u001b[43m_flat_output_types\u001b[49m\u001b[43m,\u001b[49m\n\u001b[1;32m    752\u001b[0m \u001b[43m      \u001b[49m\u001b[43moutput_shapes\u001b[49m\u001b[38;5;241;43m=\u001b[39;49m\u001b[38;5;28;43mself\u001b[39;49m\u001b[38;5;241;43m.\u001b[39;49m\u001b[43m_flat_output_shapes\u001b[49m\u001b[43m)\u001b[49m\n\u001b[1;32m    754\u001b[0m   \u001b[38;5;28;01mtry\u001b[39;00m:\n\u001b[1;32m    755\u001b[0m     \u001b[38;5;66;03m# Fast path for the case `self._structure` is not a nested structure.\u001b[39;00m\n\u001b[1;32m    756\u001b[0m     \u001b[38;5;28;01mreturn\u001b[39;00m \u001b[38;5;28mself\u001b[39m\u001b[38;5;241m.\u001b[39m_element_spec\u001b[38;5;241m.\u001b[39m_from_compatible_tensor_list(ret)  \u001b[38;5;66;03m# pylint: disable=protected-access\u001b[39;00m\n",
      "File \u001b[0;32m/usr/local/lib/python3.8/dist-packages/tensorflow/python/ops/gen_dataset_ops.py:3017\u001b[0m, in \u001b[0;36miterator_get_next\u001b[0;34m(iterator, output_types, output_shapes, name)\u001b[0m\n\u001b[1;32m   3015\u001b[0m   \u001b[38;5;28;01mreturn\u001b[39;00m _result\n\u001b[1;32m   3016\u001b[0m \u001b[38;5;28;01mexcept\u001b[39;00m _core\u001b[38;5;241m.\u001b[39m_NotOkStatusException \u001b[38;5;28;01mas\u001b[39;00m e:\n\u001b[0;32m-> 3017\u001b[0m   \u001b[43m_ops\u001b[49m\u001b[38;5;241;43m.\u001b[39;49m\u001b[43mraise_from_not_ok_status\u001b[49m\u001b[43m(\u001b[49m\u001b[43me\u001b[49m\u001b[43m,\u001b[49m\u001b[43m \u001b[49m\u001b[43mname\u001b[49m\u001b[43m)\u001b[49m\n\u001b[1;32m   3018\u001b[0m \u001b[38;5;28;01mexcept\u001b[39;00m _core\u001b[38;5;241m.\u001b[39m_FallbackException:\n\u001b[1;32m   3019\u001b[0m   \u001b[38;5;28;01mpass\u001b[39;00m\n",
      "File \u001b[0;32m/usr/local/lib/python3.8/dist-packages/tensorflow/python/framework/ops.py:7209\u001b[0m, in \u001b[0;36mraise_from_not_ok_status\u001b[0;34m(e, name)\u001b[0m\n\u001b[1;32m   7207\u001b[0m \u001b[38;5;28;01mdef\u001b[39;00m \u001b[38;5;21mraise_from_not_ok_status\u001b[39m(e, name):\n\u001b[1;32m   7208\u001b[0m   e\u001b[38;5;241m.\u001b[39mmessage \u001b[38;5;241m+\u001b[39m\u001b[38;5;241m=\u001b[39m (\u001b[38;5;124m\"\u001b[39m\u001b[38;5;124m name: \u001b[39m\u001b[38;5;124m\"\u001b[39m \u001b[38;5;241m+\u001b[39m name \u001b[38;5;28;01mif\u001b[39;00m name \u001b[38;5;129;01mis\u001b[39;00m \u001b[38;5;129;01mnot\u001b[39;00m \u001b[38;5;28;01mNone\u001b[39;00m \u001b[38;5;28;01melse\u001b[39;00m \u001b[38;5;124m\"\u001b[39m\u001b[38;5;124m\"\u001b[39m)\n\u001b[0;32m-> 7209\u001b[0m   \u001b[38;5;28;01mraise\u001b[39;00m core\u001b[38;5;241m.\u001b[39m_status_to_exception(e) \u001b[38;5;28;01mfrom\u001b[39;00m \u001b[38;5;28mNone\u001b[39m\n",
      "\u001b[0;31mUnknownError\u001b[0m: {{function_node __wrapped__IteratorGetNext_output_types_4_device_/job:localhost/replica:0/task:0/device:CPU:0}} IndexError: index 301 is out of bounds for axis 0 with size 301\nTraceback (most recent call last):\n\n  File \"/usr/local/lib/python3.8/dist-packages/tensorflow/python/ops/script_ops.py\", line 271, in __call__\n    ret = func(*args)\n\n  File \"/usr/local/lib/python3.8/dist-packages/tensorflow/python/autograph/impl/api.py\", line 642, in wrapper\n    return func(*args, **kwargs)\n\n  File \"/usr/local/lib/python3.8/dist-packages/tensorflow/python/data/ops/dataset_ops.py\", line 1035, in generator_py_func\n    values = next(generator_state.get_iterator(iterator_id))\n\n  File \"/home/inoue/work/recs/recs/dataset.py\", line 33, in generator\n    start, end = click_offsets[session_idx_arr[iters]], click_offsets[session_idx_arr[iters] + 1]\n\nIndexError: index 301 is out of bounds for axis 0 with size 301\n\n\n\t [[{{node PyFunc}}]] [Op:IteratorGetNext]"
     ]
    }
   ],
   "source": [
    "pred_df = gru4rec.predict(\n",
    "    config,\n",
    "    model,\n",
    "    state,\n",
    "    test_data,\n",
    "    test_len,\n",
    ")"
   ]
  },
  {
   "cell_type": "code",
   "execution_count": 12,
   "id": "fb1f8f43-22f1-47bd-92a7-71f92fcdd11b",
   "metadata": {
    "tags": []
   },
   "outputs": [],
   "source": [
    "eval_scores = pd.DataFrame(columns=[\"precision\", \"ndcg\"])\n",
    "for k in [5, 10, 20]:\n",
    "    _, evals = evaluate.evaluate(\n",
    "        pred_df,\n",
    "        k=k,\n",
    "        metrics=[\"precision\", \"ndcg\"]\n",
    "    )\n",
    "    eval_scores = pd.concat([\n",
    "        eval_scores,\n",
    "        evals\n",
    "    ], axis=0)    "
   ]
  },
  {
   "cell_type": "markdown",
   "id": "b8688956-ac80-400b-821a-4149f0e52210",
   "metadata": {
    "tags": []
   },
   "source": [
    "# GRU4Rec-SQN"
   ]
  },
  {
   "cell_type": "code",
   "execution_count": 5,
   "id": "46146996-3434-472c-ab13-b5bb30744fbf",
   "metadata": {},
   "outputs": [],
   "source": [
    "from recs.jaxmodels import gru4rec_sqn"
   ]
  },
  {
   "cell_type": "code",
   "execution_count": 6,
   "id": "810d968b-60e4-4c7a-95d6-062535ec751a",
   "metadata": {},
   "outputs": [
    {
     "name": "stdout",
     "output_type": "stream",
     "text": [
      "Split 1\n"
     ]
    },
    {
     "name": "stderr",
     "output_type": "stream",
     "text": [
      "[Epoch 0] training: 100%|███████████████████████████████████████████████████████████████████████████████████████████████████████████████████████████████████████████████████████████████████████████████████████████████████████████| 843/843 [00:13<00:00, 63.22it/s, loss=11.467326]\n",
      "[Epoch 1] training: 100%|███████████████████████████████████████████████████████████████████████████████████████████████████████████████████████████████████████████████████████████████████████████████████████████████████████████| 843/843 [00:10<00:00, 80.09it/s, loss=10.817245]\n",
      "[Epoch 2] training: 100%|███████████████████████████████████████████████████████████████████████████████████████████████████████████████████████████████████████████████████████████████████████████████████████████████████████████| 843/843 [00:10<00:00, 80.02it/s, loss=10.423107]\n",
      "[Epoch 3] training: 100%|████████████████████████████████████████████████████████████████████████████████████████████████████████████████████████████████████████████████████████████████████████████████████████████████████████████| 843/843 [00:10<00:00, 79.55it/s, loss=9.855112]\n",
      "[Epoch 4] training: 100%|████████████████████████████████████████████████████████████████████████████████████████████████████████████████████████████████████████████████████████████████████████████████████████████████████████████| 843/843 [00:10<00:00, 79.23it/s, loss=9.188836]\n",
      "[Epoch 5] training: 100%|████████████████████████████████████████████████████████████████████████████████████████████████████████████████████████████████████████████████████████████████████████████████████████████████████████████| 843/843 [00:10<00:00, 79.28it/s, loss=8.542094]\n",
      "[Epoch 6] training: 100%|████████████████████████████████████████████████████████████████████████████████████████████████████████████████████████████████████████████████████████████████████████████████████████████████████████████| 843/843 [00:10<00:00, 79.36it/s, loss=7.966431]\n",
      "[Epoch 7] training: 100%|████████████████████████████████████████████████████████████████████████████████████████████████████████████████████████████████████████████████████████████████████████████████████████████████████████████| 843/843 [00:10<00:00, 79.59it/s, loss=7.450835]\n",
      "[Epoch 8] training: 100%|████████████████████████████████████████████████████████████████████████████████████████████████████████████████████████████████████████████████████████████████████████████████████████████████████████████| 843/843 [00:10<00:00, 78.91it/s, loss=6.993935]\n",
      "[Epoch 9] training: 100%|████████████████████████████████████████████████████████████████████████████████████████████████████████████████████████████████████████████████████████████████████████████████████████████████████████████| 843/843 [00:10<00:00, 78.96it/s, loss=6.592607]\n",
      "[Epoch 10] training: 100%|███████████████████████████████████████████████████████████████████████████████████████████████████████████████████████████████████████████████████████████████████████████████████████████████████████████| 843/843 [00:10<00:00, 79.01it/s, loss=6.269923]\n",
      "[Epoch 11] training: 100%|███████████████████████████████████████████████████████████████████████████████████████████████████████████████████████████████████████████████████████████████████████████████████████████████████████████| 843/843 [00:10<00:00, 79.17it/s, loss=6.013614]\n",
      "[Epoch 12] training: 100%|███████████████████████████████████████████████████████████████████████████████████████████████████████████████████████████████████████████████████████████████████████████████████████████████████████████| 843/843 [00:10<00:00, 79.27it/s, loss=5.746238]\n",
      "[Epoch 13] training: 100%|███████████████████████████████████████████████████████████████████████████████████████████████████████████████████████████████████████████████████████████████████████████████████████████████████████████| 843/843 [00:10<00:00, 79.39it/s, loss=5.524670]\n",
      "[Epoch 14] training: 100%|███████████████████████████████████████████████████████████████████████████████████████████████████████████████████████████████████████████████████████████████████████████████████████████████████████████| 843/843 [00:10<00:00, 79.37it/s, loss=5.332310]\n",
      "[Epoch 15] training: 100%|███████████████████████████████████████████████████████████████████████████████████████████████████████████████████████████████████████████████████████████████████████████████████████████████████████████| 843/843 [00:10<00:00, 79.39it/s, loss=5.123891]\n",
      "[Epoch 16] training: 100%|███████████████████████████████████████████████████████████████████████████████████████████████████████████████████████████████████████████████████████████████████████████████████████████████████████████| 843/843 [00:10<00:00, 79.39it/s, loss=4.956328]\n",
      "[Epoch 17] training: 100%|███████████████████████████████████████████████████████████████████████████████████████████████████████████████████████████████████████████████████████████████████████████████████████████████████████████| 843/843 [00:10<00:00, 78.94it/s, loss=4.827105]\n",
      "[Epoch 18] training: 100%|███████████████████████████████████████████████████████████████████████████████████████████████████████████████████████████████████████████████████████████████████████████████████████████████████████████| 843/843 [00:10<00:00, 79.06it/s, loss=4.672022]\n",
      "[Epoch 19] training: 100%|███████████████████████████████████████████████████████████████████████████████████████████████████████████████████████████████████████████████████████████████████████████████████████████████████████████| 843/843 [00:10<00:00, 79.05it/s, loss=4.504057]\n",
      "[Epoch 20] training: 100%|███████████████████████████████████████████████████████████████████████████████████████████████████████████████████████████████████████████████████████████████████████████████████████████████████████████| 843/843 [00:10<00:00, 78.99it/s, loss=4.398113]\n",
      "[Epoch 21] training: 100%|███████████████████████████████████████████████████████████████████████████████████████████████████████████████████████████████████████████████████████████████████████████████████████████████████████████| 843/843 [00:10<00:00, 78.90it/s, loss=4.293136]\n",
      "[Epoch 22] training: 100%|███████████████████████████████████████████████████████████████████████████████████████████████████████████████████████████████████████████████████████████████████████████████████████████████████████████| 843/843 [00:10<00:00, 78.59it/s, loss=4.191140]\n",
      "[Epoch 23] training: 100%|███████████████████████████████████████████████████████████████████████████████████████████████████████████████████████████████████████████████████████████████████████████████████████████████████████████| 843/843 [00:10<00:00, 78.84it/s, loss=4.091327]\n",
      "[Epoch 24] training: 100%|███████████████████████████████████████████████████████████████████████████████████████████████████████████████████████████████████████████████████████████████████████████████████████████████████████████| 843/843 [00:10<00:00, 79.02it/s, loss=4.002224]\n",
      "[Epoch 25] training: 100%|███████████████████████████████████████████████████████████████████████████████████████████████████████████████████████████████████████████████████████████████████████████████████████████████████████████| 843/843 [00:10<00:00, 79.18it/s, loss=3.915394]\n",
      "[Epoch 26] training: 100%|███████████████████████████████████████████████████████████████████████████████████████████████████████████████████████████████████████████████████████████████████████████████████████████████████████████| 843/843 [00:10<00:00, 78.64it/s, loss=3.838194]\n",
      "[Epoch 27] training: 100%|███████████████████████████████████████████████████████████████████████████████████████████████████████████████████████████████████████████████████████████████████████████████████████████████████████████| 843/843 [00:10<00:00, 78.90it/s, loss=3.765497]\n",
      "[Epoch 28] training: 100%|███████████████████████████████████████████████████████████████████████████████████████████████████████████████████████████████████████████████████████████████████████████████████████████████████████████| 843/843 [00:10<00:00, 78.92it/s, loss=3.698477]\n",
      "[Epoch 29] training: 100%|███████████████████████████████████████████████████████████████████████████████████████████████████████████████████████████████████████████████████████████████████████████████████████████████████████████| 843/843 [00:10<00:00, 79.25it/s, loss=3.636085]\n",
      "[Epoch 30] training: 100%|███████████████████████████████████████████████████████████████████████████████████████████████████████████████████████████████████████████████████████████████████████████████████████████████████████████| 843/843 [00:10<00:00, 79.17it/s, loss=3.583685]\n",
      "[Epoch 31] training: 100%|███████████████████████████████████████████████████████████████████████████████████████████████████████████████████████████████████████████████████████████████████████████████████████████████████████████| 843/843 [00:10<00:00, 78.83it/s, loss=3.537902]\n",
      "[Epoch 32] training: 100%|███████████████████████████████████████████████████████████████████████████████████████████████████████████████████████████████████████████████████████████████████████████████████████████████████████████| 843/843 [00:10<00:00, 78.89it/s, loss=3.482246]\n",
      "[Epoch 33] training: 100%|███████████████████████████████████████████████████████████████████████████████████████████████████████████████████████████████████████████████████████████████████████████████████████████████████████████| 843/843 [00:10<00:00, 78.80it/s, loss=3.435495]\n",
      "[Epoch 34] training: 100%|███████████████████████████████████████████████████████████████████████████████████████████████████████████████████████████████████████████████████████████████████████████████████████████████████████████| 843/843 [00:10<00:00, 79.06it/s, loss=3.393476]\n",
      "[Epoch 35] training: 100%|███████████████████████████████████████████████████████████████████████████████████████████████████████████████████████████████████████████████████████████████████████████████████████████████████████████| 843/843 [00:10<00:00, 79.25it/s, loss=3.352384]\n",
      "[Epoch 36] training: 100%|███████████████████████████████████████████████████████████████████████████████████████████████████████████████████████████████████████████████████████████████████████████████████████████████████████████| 843/843 [00:10<00:00, 79.24it/s, loss=3.309804]\n",
      "[Epoch 37] training: 100%|███████████████████████████████████████████████████████████████████████████████████████████████████████████████████████████████████████████████████████████████████████████████████████████████████████████| 843/843 [00:10<00:00, 79.16it/s, loss=3.267644]\n",
      "[Epoch 38] training: 100%|███████████████████████████████████████████████████████████████████████████████████████████████████████████████████████████████████████████████████████████████████████████████████████████████████████████| 843/843 [00:10<00:00, 78.74it/s, loss=3.226594]\n",
      "[Epoch 39] training: 100%|███████████████████████████████████████████████████████████████████████████████████████████████████████████████████████████████████████████████████████████████████████████████████████████████████████████| 843/843 [00:10<00:00, 79.00it/s, loss=3.188480]\n",
      "[Epoch 40] training: 100%|███████████████████████████████████████████████████████████████████████████████████████████████████████████████████████████████████████████████████████████████████████████████████████████████████████████| 843/843 [00:10<00:00, 79.08it/s, loss=3.151028]\n",
      "[Epoch 41] training: 100%|███████████████████████████████████████████████████████████████████████████████████████████████████████████████████████████████████████████████████████████████████████████████████████████████████████████| 843/843 [00:10<00:00, 79.30it/s, loss=3.110264]\n",
      "[Epoch 42] training: 100%|███████████████████████████████████████████████████████████████████████████████████████████████████████████████████████████████████████████████████████████████████████████████████████████████████████████| 843/843 [00:10<00:00, 79.22it/s, loss=3.070612]\n",
      "[Epoch 43] training: 100%|███████████████████████████████████████████████████████████████████████████████████████████████████████████████████████████████████████████████████████████████████████████████████████████████████████████| 843/843 [00:10<00:00, 79.22it/s, loss=3.032637]\n",
      "[Epoch 44] training: 100%|███████████████████████████████████████████████████████████████████████████████████████████████████████████████████████████████████████████████████████████████████████████████████████████████████████████| 843/843 [00:10<00:00, 79.24it/s, loss=2.996035]\n",
      "[Epoch 45] training: 100%|███████████████████████████████████████████████████████████████████████████████████████████████████████████████████████████████████████████████████████████████████████████████████████████████████████████| 843/843 [00:10<00:00, 78.42it/s, loss=2.963836]\n",
      "[Epoch 46] training: 100%|███████████████████████████████████████████████████████████████████████████████████████████████████████████████████████████████████████████████████████████████████████████████████████████████████████████| 843/843 [00:10<00:00, 78.82it/s, loss=2.932952]\n",
      "[Epoch 47] training: 100%|███████████████████████████████████████████████████████████████████████████████████████████████████████████████████████████████████████████████████████████████████████████████████████████████████████████| 843/843 [00:10<00:00, 78.68it/s, loss=2.902080]\n",
      "[Epoch 48] training: 100%|███████████████████████████████████████████████████████████████████████████████████████████████████████████████████████████████████████████████████████████████████████████████████████████████████████████| 843/843 [00:10<00:00, 78.72it/s, loss=2.874353]\n",
      "[Epoch 61] training: 100%|███████████████████████████████████████████████████████████████████████████████████████████████████████████████████████████████████████████████████████████████████████████████████████████████████████████| 843/843 [00:10<00:00, 79.27it/s, loss=2.530542]\n",
      "[Epoch 62] training: 100%|███████████████████████████████████████████████████████████████████████████████████████████████████████████████████████████████████████████████████████████████████████████████████████████████████████████| 843/843 [00:10<00:00, 78.92it/s, loss=2.507164]\n",
      "[Epoch 63] training: 100%|███████████████████████████████████████████████████████████████████████████████████████████████████████████████████████████████████████████████████████████████████████████████████████████████████████████| 843/843 [00:10<00:00, 78.80it/s, loss=2.485746]\n",
      "[Epoch 64] training: 100%|███████████████████████████████████████████████████████████████████████████████████████████████████████████████████████████████████████████████████████████████████████████████████████████████████████████| 843/843 [00:10<00:00, 78.80it/s, loss=2.464262]\n",
      "[Epoch 65] training: 100%|███████████████████████████████████████████████████████████████████████████████████████████████████████████████████████████████████████████████████████████████████████████████████████████████████████████| 843/843 [00:10<00:00, 78.96it/s, loss=2.443978]\n",
      "[Epoch 66] training: 100%|███████████████████████████████████████████████████████████████████████████████████████████████████████████████████████████████████████████████████████████████████████████████████████████████████████████| 843/843 [00:10<00:00, 79.06it/s, loss=2.424410]\n",
      "[Epoch 67] training: 100%|███████████████████████████████████████████████████████████████████████████████████████████████████████████████████████████████████████████████████████████████████████████████████████████████████████████| 843/843 [00:10<00:00, 79.24it/s, loss=2.405036]\n",
      "[Epoch 68] training: 100%|███████████████████████████████████████████████████████████████████████████████████████████████████████████████████████████████████████████████████████████████████████████████████████████████████████████| 843/843 [00:10<00:00, 79.18it/s, loss=2.385942]\n",
      "[Epoch 69] training: 100%|███████████████████████████████████████████████████████████████████████████████████████████████████████████████████████████████████████████████████████████████████████████████████████████████████████████| 843/843 [00:10<00:00, 78.91it/s, loss=2.368271]\n",
      "[Epoch 70] training: 100%|███████████████████████████████████████████████████████████████████████████████████████████████████████████████████████████████████████████████████████████████████████████████████████████████████████████| 843/843 [00:10<00:00, 78.34it/s, loss=2.349870]\n",
      "[Epoch 71] training: 100%|███████████████████████████████████████████████████████████████████████████████████████████████████████████████████████████████████████████████████████████████████████████████████████████████████████████| 843/843 [00:10<00:00, 78.82it/s, loss=2.333423]\n",
      "[Epoch 72] training: 100%|███████████████████████████████████████████████████████████████████████████████████████████████████████████████████████████████████████████████████████████████████████████████████████████████████████████| 843/843 [00:10<00:00, 78.70it/s, loss=2.316430]\n",
      "[Epoch 73] training: 100%|███████████████████████████████████████████████████████████████████████████████████████████████████████████████████████████████████████████████████████████████████████████████████████████████████████████| 843/843 [00:10<00:00, 78.87it/s, loss=2.299258]\n",
      "[Epoch 74] training: 100%|███████████████████████████████████████████████████████████████████████████████████████████████████████████████████████████████████████████████████████████████████████████████████████████████████████████| 843/843 [00:10<00:00, 78.89it/s, loss=2.282358]\n",
      "[Epoch 75] training: 100%|███████████████████████████████████████████████████████████████████████████████████████████████████████████████████████████████████████████████████████████████████████████████████████████████████████████| 843/843 [00:10<00:00, 78.87it/s, loss=2.266057]\n",
      "[Epoch 99] training: 100%|███████████████████████████████████████████████████████████████████████████████████████████████████████████████████████████████████████████████████████████████████████████████████████████████████████████| 843/843 [00:10<00:00, 78.55it/s, loss=1.979684]\n",
      "[Epoch 100] training: 100%|██████████████████████████████████████████████████████████████████████████████████████████████████████████████████████████████████████████████████████████████████████████████████████████████████████████| 843/843 [00:10<00:00, 78.56it/s, loss=1.971286]\n",
      "[Epoch 101] training: 100%|██████████████████████████████████████████████████████████████████████████████████████████████████████████████████████████████████████████████████████████████████████████████████████████████████████████| 843/843 [00:10<00:00, 79.17it/s, loss=1.961353]\n",
      "[Epoch 102] training: 100%|██████████████████████████████████████████████████████████████████████████████████████████████████████████████████████████████████████████████████████████████████████████████████████████████████████████| 843/843 [00:10<00:00, 78.91it/s, loss=1.953603]\n",
      "[Epoch 103] training: 100%|██████████████████████████████████████████████████████████████████████████████████████████████████████████████████████████████████████████████████████████████████████████████████████████████████████████| 843/843 [00:10<00:00, 79.10it/s, loss=1.945523]\n",
      "[Epoch 193] training: 100%|██████████████████████████████████████████████████████████████████████████████████████████████████████████████████████████████████████████████████████████████████████████████████████████████████████████| 843/843 [00:10<00:00, 78.93it/s, loss=1.518575]\n",
      "[Epoch 194] training: 100%|██████████████████████████████████████████████████████████████████████████████████████████████████████████████████████████████████████████████████████████████████████████████████████████████████████████| 843/843 [00:10<00:00, 78.52it/s, loss=1.516698]\n",
      "[Epoch 195] training: 100%|██████████████████████████████████████████████████████████████████████████████████████████████████████████████████████████████████████████████████████████████████████████████████████████████████████████| 843/843 [00:10<00:00, 78.77it/s, loss=1.513943]\n",
      "[Epoch 196] training: 100%|██████████████████████████████████████████████████████████████████████████████████████████████████████████████████████████████████████████████████████████████████████████████████████████████████████████| 843/843 [00:10<00:00, 78.85it/s, loss=1.510580]\n",
      "[Epoch 197] training: 100%|██████████████████████████████████████████████████████████████████████████████████████████████████████████████████████████████████████████████████████████████████████████████████████████████████████████| 843/843 [00:10<00:00, 79.04it/s, loss=1.508943]\n",
      "[Epoch 198] training: 100%|██████████████████████████████████████████████████████████████████████████████████████████████████████████████████████████████████████████████████████████████████████████████████████████████████████████| 843/843 [00:10<00:00, 79.00it/s, loss=1.505625]\n",
      "[Epoch 199] training: 100%|██████████████████████████████████████████████████████████████████████████████████████████████████████████████████████████████████████████████████████████████████████████████████████████████████████████| 843/843 [00:10<00:00, 79.04it/s, loss=1.504250]\n",
      "[Epoch 200] training: 100%|██████████████████████████████████████████████████████████████████████████████████████████████████████████████████████████████████████████████████████████████████████████████████████████████████████████| 843/843 [00:10<00:00, 78.70it/s, loss=1.500457]\n",
      "[Epoch 262] training: 100%|██████████████████████████████████████████████████████████████████████████████████████████████████████████████████████████████████████████████████████████████████████████████████████████████████████████| 843/843 [00:10<00:00, 78.97it/s, loss=1.399337]\n",
      "[Epoch 263] training: 100%|██████████████████████████████████████████████████████████████████████████████████████████████████████████████████████████████████████████████████████████████████████████████████████████████████████████| 843/843 [00:10<00:00, 78.78it/s, loss=1.398869]\n",
      "[Epoch 264] training: 100%|██████████████████████████████████████████████████████████████████████████████████████████████████████████████████████████████████████████████████████████████████████████████████████████████████████████| 843/843 [00:10<00:00, 78.67it/s, loss=1.397210]\n",
      "[Epoch 265] training: 100%|██████████████████████████████████████████████████████████████████████████████████████████████████████████████████████████████████████████████████████████████████████████████████████████████████████████| 843/843 [00:10<00:00, 78.94it/s, loss=1.395804]\n",
      "[Epoch 266] training: 100%|██████████████████████████████████████████████████████████████████████████████████████████████████████████████████████████████████████████████████████████████████████████████████████████████████████████| 843/843 [00:10<00:00, 78.88it/s, loss=1.396648]\n",
      "[Epoch 267] training: 100%|██████████████████████████████████████████████████████████████████████████████████████████████████████████████████████████████████████████████████████████████████████████████████████████████████████████| 843/843 [00:10<00:00, 78.96it/s, loss=1.395163]\n",
      "[Epoch 268] training: 100%|██████████████████████████████████████████████████████████████████████████████████████████████████████████████████████████████████████████████████████████████████████████████████████████████████████████| 843/843 [00:10<00:00, 79.00it/s, loss=1.393488]\n",
      "[Epoch 269] training: 100%|██████████████████████████████████████████████████████████████████████████████████████████████████████████████████████████████████████████████████████████████████████████████████████████████████████████| 843/843 [00:10<00:00, 78.67it/s, loss=1.393494]\n",
      "[Epoch 270] training: 100%|██████████████████████████████████████████████████████████████████████████████████████████████████████████████████████████████████████████████████████████████████████████████████████████████████████████| 843/843 [00:10<00:00, 79.19it/s, loss=1.392480]\n",
      "[Epoch 271] training: 100%|██████████████████████████████████████████████████████████████████████████████████████████████████████████████████████████████████████████████████████████████████████████████████████████████████████████| 843/843 [00:10<00:00, 79.10it/s, loss=1.392607]\n",
      "[Epoch 272] training: 100%|██████████████████████████████████████████████████████████████████████████████████████████████████████████████████████████████████████████████████████████████████████████████████████████████████████████| 843/843 [00:10<00:00, 79.27it/s, loss=1.391441]\n",
      "[Epoch 273] training: 100%|██████████████████████████████████████████████████████████████████████████████████████████████████████████████████████████████████████████████████████████████████████████████████████████████████████████| 843/843 [00:10<00:00, 78.90it/s, loss=1.389813]\n",
      "[Epoch 274] training: 100%|██████████████████████████████████████████████████████████████████████████████████████████████████████████████████████████████████████████████████████████████████████████████████████████████████████████| 843/843 [00:10<00:00, 78.81it/s, loss=1.389995]\n",
      "[Epoch 275] training: 100%|██████████████████████████████████████████████████████████████████████████████████████████████████████████████████████████████████████████████████████████████████████████████████████████████████████████| 843/843 [00:10<00:00, 79.10it/s, loss=1.389227]\n",
      "[Epoch 276] training: 100%|██████████████████████████████████████████████████████████████████████████████████████████████████████████████████████████████████████████████████████████████████████████████████████████████████████████| 843/843 [00:10<00:00, 78.98it/s, loss=1.389217]\n",
      "[Epoch 277] training: 100%|██████████████████████████████████████████████████████████████████████████████████████████████████████████████████████████████████████████████████████████████████████████████████████████████████████████| 843/843 [00:10<00:00, 78.84it/s, loss=1.387634]\n",
      "[Epoch 278] training: 100%|██████████████████████████████████████████████████████████████████████████████████████████████████████████████████████████████████████████████████████████████████████████████████████████████████████████| 843/843 [00:10<00:00, 78.80it/s, loss=1.387153]\n",
      "[Epoch 279] training: 100%|██████████████████████████████████████████████████████████████████████████████████████████████████████████████████████████████████████████████████████████████████████████████████████████████████████████| 843/843 [00:10<00:00, 78.65it/s, loss=1.387019]\n",
      "[Epoch 280] training: 100%|██████████████████████████████████████████████████████████████████████████████████████████████████████████████████████████████████████████████████████████████████████████████████████████████████████████| 843/843 [00:10<00:00, 78.96it/s, loss=1.384706]\n",
      "[Epoch 281] training: 100%|██████████████████████████████████████████████████████████████████████████████████████████████████████████████████████████████████████████████████████████████████████████████████████████████████████████| 843/843 [00:10<00:00, 78.75it/s, loss=1.384970]\n",
      "[Epoch 282] training: 100%|██████████████████████████████████████████████████████████████████████████████████████████████████████████████████████████████████████████████████████████████████████████████████████████████████████████| 843/843 [00:10<00:00, 78.55it/s, loss=1.384593]\n",
      "[Epoch 283] training: 100%|██████████████████████████████████████████████████████████████████████████████████████████████████████████████████████████████████████████████████████████████████████████████████████████████████████████| 843/843 [00:10<00:00, 78.56it/s, loss=1.384329]\n",
      "[Epoch 284] training: 100%|██████████████████████████████████████████████████████████████████████████████████████████████████████████████████████████████████████████████████████████████████████████████████████████████████████████| 843/843 [00:10<00:00, 78.73it/s, loss=1.383854]\n",
      "[Epoch 285] training: 100%|██████████████████████████████████████████████████████████████████████████████████████████████████████████████████████████████████████████████████████████████████████████████████████████████████████████| 843/843 [00:10<00:00, 79.10it/s, loss=1.383001]\n",
      "[Epoch 286] training: 100%|██████████████████████████████████████████████████████████████████████████████████████████████████████████████████████████████████████████████████████████████████████████████████████████████████████████| 843/843 [00:10<00:00, 78.87it/s, loss=1.382668]\n",
      "[Epoch 287] training: 100%|██████████████████████████████████████████████████████████████████████████████████████████████████████████████████████████████████████████████████████████████████████████████████████████████████████████| 843/843 [00:10<00:00, 78.97it/s, loss=1.382294]\n",
      "[Epoch 288] training: 100%|██████████████████████████████████████████████████████████████████████████████████████████████████████████████████████████████████████████████████████████████████████████████████████████████████████████| 843/843 [00:10<00:00, 79.13it/s, loss=1.381735]\n",
      "[Epoch 289] training: 100%|██████████████████████████████████████████████████████████████████████████████████████████████████████████████████████████████████████████████████████████████████████████████████████████████████████████| 843/843 [00:10<00:00, 78.68it/s, loss=1.380797]\n",
      "[Epoch 290] training: 100%|██████████████████████████████████████████████████████████████████████████████████████████████████████████████████████████████████████████████████████████████████████████████████████████████████████████| 843/843 [00:10<00:00, 78.49it/s, loss=1.380693]\n",
      "[Epoch 291] training: 100%|██████████████████████████████████████████████████████████████████████████████████████████████████████████████████████████████████████████████████████████████████████████████████████████████████████████| 843/843 [00:10<00:00, 78.41it/s, loss=1.380105]\n",
      "[Epoch 292] training: 100%|██████████████████████████████████████████████████████████████████████████████████████████████████████████████████████████████████████████████████████████████████████████████████████████████████████████| 843/843 [00:10<00:00, 78.51it/s, loss=1.379648]\n",
      "[Epoch 293] training: 100%|██████████████████████████████████████████████████████████████████████████████████████████████████████████████████████████████████████████████████████████████████████████████████████████████████████████| 843/843 [00:10<00:00, 79.34it/s, loss=1.378877]\n",
      "[Epoch 294] training: 100%|██████████████████████████████████████████████████████████████████████████████████████████████████████████████████████████████████████████████████████████████████████████████████████████████████████████| 843/843 [00:10<00:00, 78.57it/s, loss=1.379878]\n",
      "[Epoch 295] training: 100%|██████████████████████████████████████████████████████████████████████████████████████████████████████████████████████████████████████████████████████████████████████████████████████████████████████████| 843/843 [00:10<00:00, 78.91it/s, loss=1.379094]\n",
      "[Epoch 296] training: 100%|██████████████████████████████████████████████████████████████████████████████████████████████████████████████████████████████████████████████████████████████████████████████████████████████████████████| 843/843 [00:10<00:00, 78.56it/s, loss=1.377576]\n",
      "[Epoch 297] training: 100%|██████████████████████████████████████████████████████████████████████████████████████████████████████████████████████████████████████████████████████████████████████████████████████████████████████████| 843/843 [00:10<00:00, 78.83it/s, loss=1.377865]\n",
      "[Epoch 298] training: 100%|██████████████████████████████████████████████████████████████████████████████████████████████████████████████████████████████████████████████████████████████████████████████████████████████████████████| 843/843 [00:10<00:00, 79.00it/s, loss=1.377835]\n",
      "[Epoch 299] training: 100%|██████████████████████████████████████████████████████████████████████████████████████████████████████████████████████████████████████████████████████████████████████████████████████████████████████████| 843/843 [00:10<00:00, 79.15it/s, loss=1.376872]\n",
      "[Epoch 300] training: 100%|██████████████████████████████████████████████████████████████████████████████████████████████████████████████████████████████████████████████████████████████████████████████████████████████████████████| 843/843 [00:10<00:00, 79.30it/s, loss=1.376837]\n",
      "[Epoch 301] training: 100%|██████████████████████████████████████████████████████████████████████████████████████████████████████████████████████████████████████████████████████████████████████████████████████████████████████████| 843/843 [00:10<00:00, 79.14it/s, loss=1.376906]\n",
      "[Epoch 302] training: 100%|██████████████████████████████████████████████████████████████████████████████████████████████████████████████████████████████████████████████████████████████████████████████████████████████████████████| 843/843 [00:10<00:00, 78.69it/s, loss=1.375793]\n",
      "[Epoch 303] training: 100%|██████████████████████████████████████████████████████████████████████████████████████████████████████████████████████████████████████████████████████████████████████████████████████████████████████████| 843/843 [00:10<00:00, 78.97it/s, loss=1.375288]\n",
      "[Epoch 304] training: 100%|██████████████████████████████████████████████████████████████████████████████████████████████████████████████████████████████████████████████████████████████████████████████████████████████████████████| 843/843 [00:10<00:00, 78.96it/s, loss=1.376103]\n",
      "[Epoch 305] training: 100%|██████████████████████████████████████████████████████████████████████████████████████████████████████████████████████████████████████████████████████████████████████████████████████████████████████████| 843/843 [00:10<00:00, 78.97it/s, loss=1.375264]\n",
      "[Epoch 306] training: 100%|██████████████████████████████████████████████████████████████████████████████████████████████████████████████████████████████████████████████████████████████████████████████████████████████████████████| 843/843 [00:10<00:00, 78.88it/s, loss=1.374441]\n",
      "[Epoch 307] training: 100%|██████████████████████████████████████████████████████████████████████████████████████████████████████████████████████████████████████████████████████████████████████████████████████████████████████████| 843/843 [00:10<00:00, 79.27it/s, loss=1.373585]\n",
      "[Epoch 308] training: 100%|██████████████████████████████████████████████████████████████████████████████████████████████████████████████████████████████████████████████████████████████████████████████████████████████████████████| 843/843 [00:10<00:00, 79.15it/s, loss=1.374559]\n",
      "[Epoch 309] training: 100%|██████████████████████████████████████████████████████████████████████████████████████████████████████████████████████████████████████████████████████████████████████████████████████████████████████████| 843/843 [00:10<00:00, 78.97it/s, loss=1.373098]\n",
      "[Epoch 310] training: 100%|██████████████████████████████████████████████████████████████████████████████████████████████████████████████████████████████████████████████████████████████████████████████████████████████████████████| 843/843 [00:10<00:00, 79.03it/s, loss=1.372128]\n",
      "[Epoch 311] training: 100%|██████████████████████████████████████████████████████████████████████████████████████████████████████████████████████████████████████████████████████████████████████████████████████████████████████████| 843/843 [00:10<00:00, 78.99it/s, loss=1.371193]\n",
      "[Epoch 312] training: 100%|██████████████████████████████████████████████████████████████████████████████████████████████████████████████████████████████████████████████████████████████████████████████████████████████████████████| 843/843 [00:10<00:00, 78.85it/s, loss=1.371708]\n",
      "[Epoch 313] training: 100%|██████████████████████████████████████████████████████████████████████████████████████████████████████████████████████████████████████████████████████████████████████████████████████████████████████████| 843/843 [00:10<00:00, 79.07it/s, loss=1.370746]\n",
      "[Epoch 314] training: 100%|██████████████████████████████████████████████████████████████████████████████████████████████████████████████████████████████████████████████████████████████████████████████████████████████████████████| 843/843 [00:10<00:00, 78.82it/s, loss=1.370265]\n",
      "[Epoch 315] training: 100%|██████████████████████████████████████████████████████████████████████████████████████████████████████████████████████████████████████████████████████████████████████████████████████████████████████████| 843/843 [00:10<00:00, 79.21it/s, loss=1.369258]\n",
      "[Epoch 316] training: 100%|██████████████████████████████████████████████████████████████████████████████████████████████████████████████████████████████████████████████████████████████████████████████████████████████████████████| 843/843 [00:10<00:00, 79.15it/s, loss=1.369027]\n",
      "[Epoch 317] training: 100%|██████████████████████████████████████████████████████████████████████████████████████████████████████████████████████████████████████████████████████████████████████████████████████████████████████████| 843/843 [00:10<00:00, 79.21it/s, loss=1.368609]\n",
      "[Epoch 318] training: 100%|██████████████████████████████████████████████████████████████████████████████████████████████████████████████████████████████████████████████████████████████████████████████████████████████████████████| 843/843 [00:10<00:00, 79.12it/s, loss=1.367949]\n",
      "[Epoch 319] training: 100%|██████████████████████████████████████████████████████████████████████████████████████████████████████████████████████████████████████████████████████████████████████████████████████████████████████████| 843/843 [00:10<00:00, 78.87it/s, loss=1.367405]\n",
      "[Epoch 320] training: 100%|██████████████████████████████████████████████████████████████████████████████████████████████████████████████████████████████████████████████████████████████████████████████████████████████████████████| 843/843 [00:10<00:00, 78.45it/s, loss=1.367488]\n",
      "[Epoch 321] training: 100%|██████████████████████████████████████████████████████████████████████████████████████████████████████████████████████████████████████████████████████████████████████████████████████████████████████████| 843/843 [00:10<00:00, 78.57it/s, loss=1.366011]\n",
      "[Epoch 322] training: 100%|██████████████████████████████████████████████████████████████████████████████████████████████████████████████████████████████████████████████████████████████████████████████████████████████████████████| 843/843 [00:10<00:00, 79.05it/s, loss=1.366591]\n",
      "[Epoch 323] training: 100%|██████████████████████████████████████████████████████████████████████████████████████████████████████████████████████████████████████████████████████████████████████████████████████████████████████████| 843/843 [00:10<00:00, 78.68it/s, loss=1.365462]\n",
      "[Epoch 324] training: 100%|██████████████████████████████████████████████████████████████████████████████████████████████████████████████████████████████████████████████████████████████████████████████████████████████████████████| 843/843 [00:10<00:00, 78.59it/s, loss=1.365542]\n",
      "[Epoch 325] training: 100%|██████████████████████████████████████████████████████████████████████████████████████████████████████████████████████████████████████████████████████████████████████████████████████████████████████████| 843/843 [00:10<00:00, 78.61it/s, loss=1.364794]\n",
      "[Epoch 326] training: 100%|██████████████████████████████████████████████████████████████████████████████████████████████████████████████████████████████████████████████████████████████████████████████████████████████████████████| 843/843 [00:10<00:00, 78.97it/s, loss=1.364355]\n",
      "[Epoch 327] training: 100%|██████████████████████████████████████████████████████████████████████████████████████████████████████████████████████████████████████████████████████████████████████████████████████████████████████████| 843/843 [00:10<00:00, 79.02it/s, loss=1.365360]\n",
      "[Epoch 328] training: 100%|██████████████████████████████████████████████████████████████████████████████████████████████████████████████████████████████████████████████████████████████████████████████████████████████████████████| 843/843 [00:10<00:00, 78.52it/s, loss=1.365358]\n",
      "[Epoch 329] training: 100%|██████████████████████████████████████████████████████████████████████████████████████████████████████████████████████████████████████████████████████████████████████████████████████████████████████████| 843/843 [00:10<00:00, 78.77it/s, loss=1.363380]\n",
      "[Epoch 330] training: 100%|██████████████████████████████████████████████████████████████████████████████████████████████████████████████████████████████████████████████████████████████████████████████████████████████████████████| 843/843 [00:10<00:00, 78.82it/s, loss=1.364751]\n",
      "[Epoch 331] training: 100%|██████████████████████████████████████████████████████████████████████████████████████████████████████████████████████████████████████████████████████████████████████████████████████████████████████████| 843/843 [00:10<00:00, 78.66it/s, loss=1.363190]\n",
      "[Epoch 332] training: 100%|██████████████████████████████████████████████████████████████████████████████████████████████████████████████████████████████████████████████████████████████████████████████████████████████████████████| 843/843 [00:10<00:00, 78.51it/s, loss=1.363033]\n",
      "[Epoch 333] training: 100%|██████████████████████████████████████████████████████████████████████████████████████████████████████████████████████████████████████████████████████████████████████████████████████████████████████████| 843/843 [00:10<00:00, 78.92it/s, loss=1.362782]\n",
      "[Epoch 334] training: 100%|██████████████████████████████████████████████████████████████████████████████████████████████████████████████████████████████████████████████████████████████████████████████████████████████████████████| 843/843 [00:10<00:00, 78.86it/s, loss=1.362883]\n",
      "[Epoch 335] training: 100%|██████████████████████████████████████████████████████████████████████████████████████████████████████████████████████████████████████████████████████████████████████████████████████████████████████████| 843/843 [00:10<00:00, 78.81it/s, loss=1.362639]\n",
      "[Epoch 336] training: 100%|██████████████████████████████████████████████████████████████████████████████████████████████████████████████████████████████████████████████████████████████████████████████████████████████████████████| 843/843 [00:10<00:00, 78.57it/s, loss=1.363291]\n",
      "[Epoch 337] training: 100%|██████████████████████████████████████████████████████████████████████████████████████████████████████████████████████████████████████████████████████████████████████████████████████████████████████████| 843/843 [00:10<00:00, 79.04it/s, loss=1.361930]\n",
      "[Epoch 338] training: 100%|██████████████████████████████████████████████████████████████████████████████████████████████████████████████████████████████████████████████████████████████████████████████████████████████████████████| 843/843 [00:10<00:00, 79.04it/s, loss=1.361588]\n",
      "[Epoch 339] training: 100%|██████████████████████████████████████████████████████████████████████████████████████████████████████████████████████████████████████████████████████████████████████████████████████████████████████████| 843/843 [00:10<00:00, 78.80it/s, loss=1.361804]\n",
      "[Epoch 340] training: 100%|██████████████████████████████████████████████████████████████████████████████████████████████████████████████████████████████████████████████████████████████████████████████████████████████████████████| 843/843 [00:10<00:00, 78.70it/s, loss=1.361414]\n",
      "[Epoch 341] training: 100%|██████████████████████████████████████████████████████████████████████████████████████████████████████████████████████████████████████████████████████████████████████████████████████████████████████████| 843/843 [00:10<00:00, 78.75it/s, loss=1.361081]\n",
      "[Epoch 342] training: 100%|██████████████████████████████████████████████████████████████████████████████████████████████████████████████████████████████████████████████████████████████████████████████████████████████████████████| 843/843 [00:10<00:00, 78.62it/s, loss=1.359132]\n",
      "[Epoch 343] training: 100%|██████████████████████████████████████████████████████████████████████████████████████████████████████████████████████████████████████████████████████████████████████████████████████████████████████████| 843/843 [00:10<00:00, 78.49it/s, loss=1.359789]\n",
      "[Epoch 344] training: 100%|██████████████████████████████████████████████████████████████████████████████████████████████████████████████████████████████████████████████████████████████████████████████████████████████████████████| 843/843 [00:10<00:00, 78.65it/s, loss=1.359477]\n",
      "[Epoch 345] training: 100%|██████████████████████████████████████████████████████████████████████████████████████████████████████████████████████████████████████████████████████████████████████████████████████████████████████████| 843/843 [00:10<00:00, 78.82it/s, loss=1.358894]\n",
      "[Epoch 346] training: 100%|██████████████████████████████████████████████████████████████████████████████████████████████████████████████████████████████████████████████████████████████████████████████████████████████████████████| 843/843 [00:10<00:00, 78.97it/s, loss=1.358576]\n",
      "[Epoch 347] training: 100%|██████████████████████████████████████████████████████████████████████████████████████████████████████████████████████████████████████████████████████████████████████████████████████████████████████████| 843/843 [00:10<00:00, 78.79it/s, loss=1.358575]\n",
      "[Epoch 348] training: 100%|██████████████████████████████████████████████████████████████████████████████████████████████████████████████████████████████████████████████████████████████████████████████████████████████████████████| 843/843 [00:10<00:00, 78.94it/s, loss=1.357597]\n",
      "[Epoch 349] training: 100%|██████████████████████████████████████████████████████████████████████████████████████████████████████████████████████████████████████████████████████████████████████████████████████████████████████████| 843/843 [00:10<00:00, 78.77it/s, loss=1.356481]\n",
      "[Epoch 350] training: 100%|██████████████████████████████████████████████████████████████████████████████████████████████████████████████████████████████████████████████████████████████████████████████████████████████████████████| 843/843 [00:10<00:00, 78.74it/s, loss=1.357350]\n",
      "[Epoch 351] training: 100%|██████████████████████████████████████████████████████████████████████████████████████████████████████████████████████████████████████████████████████████████████████████████████████████████████████████| 843/843 [00:10<00:00, 78.66it/s, loss=1.356055]\n",
      "[Epoch 352] training: 100%|██████████████████████████████████████████████████████████████████████████████████████████████████████████████████████████████████████████████████████████████████████████████████████████████████████████| 843/843 [00:10<00:00, 78.89it/s, loss=1.356206]\n",
      "[Epoch 353] training: 100%|██████████████████████████████████████████████████████████████████████████████████████████████████████████████████████████████████████████████████████████████████████████████████████████████████████████| 843/843 [00:10<00:00, 78.18it/s, loss=1.355882]\n",
      "[Epoch 354] training: 100%|██████████████████████████████████████████████████████████████████████████████████████████████████████████████████████████████████████████████████████████████████████████████████████████████████████████| 843/843 [00:10<00:00, 78.65it/s, loss=1.356151]\n",
      "[Epoch 355] training: 100%|██████████████████████████████████████████████████████████████████████████████████████████████████████████████████████████████████████████████████████████████████████████████████████████████████████████| 843/843 [00:10<00:00, 78.90it/s, loss=1.356015]\n",
      "[Epoch 356] training: 100%|██████████████████████████████████████████████████████████████████████████████████████████████████████████████████████████████████████████████████████████████████████████████████████████████████████████| 843/843 [00:10<00:00, 78.97it/s, loss=1.356479]\n",
      "[Epoch 357] training: 100%|██████████████████████████████████████████████████████████████████████████████████████████████████████████████████████████████████████████████████████████████████████████████████████████████████████████| 843/843 [00:10<00:00, 79.10it/s, loss=1.356113]\n"
     ]
    }
   ],
   "source": [
    "batch_size = 500\n",
    "\n",
    "hparams = pd.DataFrame(columns=[\"hidden_size\", \"dropout_rate\", \"valid_score\"])\n",
    "\n",
    "for hidden_size in [100]:\n",
    "    for dropout_rate in [0.]:\n",
    "        config = GRU4RecConfig(\n",
    "            hidden_size=hidden_size, \n",
    "            output_size=num_items, \n",
    "            batch_size=batch_size,\n",
    "            dropout_hidden=dropout_rate, \n",
    "            learning_rate=0.001, \n",
    "            final_act=\"log_softmax\",\n",
    "            num_epochs=500,\n",
    "            early_stop_count=3,\n",
    "            gamma=1.\n",
    "        )\n",
    "\n",
    "        valid_scores = []\n",
    "        #for i, (train_ind, valid_ind) in enumerate(tscv.split(data)):\n",
    "        for i, df in enumerate([data]):\n",
    "            print(\"Split %d\"%(i+1))\n",
    "            train_data, total_length = session_parallel_dataset(\n",
    "                #data.iloc[train_ind],\n",
    "                data,\n",
    "                batch_size = config.batch_size,\n",
    "                issort=False,\n",
    "                timekey=\"eventdate\"\n",
    "            )\n",
    "\n",
    "            state, hidden, model = gru4rec_sqn.create_train_state(\n",
    "                jax.random.PRNGKey(0), config)\n",
    "            state, hidden, loss = gru4rec_sqn.train(\n",
    "                config,\n",
    "                model,\n",
    "                state,\n",
    "                train_data,\n",
    "                total_length,\n",
    "                hidden=hidden\n",
    "            )"
   ]
  },
  {
   "cell_type": "code",
   "execution_count": 7,
   "id": "2ce9b76b-c018-44eb-a612-5da00a0602cf",
   "metadata": {},
   "outputs": [
    {
     "name": "stderr",
     "output_type": "stream",
     "text": [
      "[autoreload of recs.jaxmodels.nn.gru4rec_sqn failed: Traceback (most recent call last):\n",
      "  File \"/usr/local/lib/python3.8/dist-packages/IPython/extensions/autoreload.py\", line 257, in check\n",
      "    superreload(m, reload, self.old_objects)\n",
      "  File \"/usr/local/lib/python3.8/dist-packages/IPython/extensions/autoreload.py\", line 480, in superreload\n",
      "    update_generic(old_obj, new_obj)\n",
      "  File \"/usr/local/lib/python3.8/dist-packages/IPython/extensions/autoreload.py\", line 377, in update_generic\n",
      "    update(a, b)\n",
      "  File \"/usr/local/lib/python3.8/dist-packages/IPython/extensions/autoreload.py\", line 345, in update_class\n",
      "    update_instances(old, new)\n",
      "  File \"/usr/local/lib/python3.8/dist-packages/IPython/extensions/autoreload.py\", line 303, in update_instances\n",
      "    ref.__class__ = new\n",
      "  File \"/usr/local/lib/python3.8/dist-packages/flax/linen/module.py\", line 700, in __setattr__\n",
      "    raise errors.SetAttributeFrozenModuleError(\n",
      "flax.errors.SetAttributeFrozenModuleError: Can't set __class__=<class 'recs.jaxmodels.nn.gru4rec_sqn.SQNGRU4Rec'> for Module of type SQNGRU4Rec: Module instance is frozen outside of setup method. (https://flax.readthedocs.io/en/latest/flax.errors.html#flax.errors.SetAttributeFrozenModuleError)\n",
      "]\n"
     ]
    }
   ],
   "source": [
    "test_data, test_len = session_parallel_dataset(\n",
    "    testdata,\n",
    "    batch_size=config.batch_size, \n",
    "    issort=False,\n",
    "    timekey=\"eventdate\"\n",
    ")"
   ]
  },
  {
   "cell_type": "code",
   "execution_count": 9,
   "id": "81c55b03-fb60-43c9-b160-e360b1fa8710",
   "metadata": {
    "tags": []
   },
   "outputs": [
    {
     "name": "stderr",
     "output_type": "stream",
     "text": [
      "[autoreload of recs.jaxmodels.nn.gru4rec_sqn failed: Traceback (most recent call last):\n",
      "  File \"/usr/local/lib/python3.8/dist-packages/IPython/extensions/autoreload.py\", line 257, in check\n",
      "    superreload(m, reload, self.old_objects)\n",
      "  File \"/usr/local/lib/python3.8/dist-packages/IPython/extensions/autoreload.py\", line 480, in superreload\n",
      "    update_generic(old_obj, new_obj)\n",
      "  File \"/usr/local/lib/python3.8/dist-packages/IPython/extensions/autoreload.py\", line 377, in update_generic\n",
      "    update(a, b)\n",
      "  File \"/usr/local/lib/python3.8/dist-packages/IPython/extensions/autoreload.py\", line 345, in update_class\n",
      "    update_instances(old, new)\n",
      "  File \"/usr/local/lib/python3.8/dist-packages/IPython/extensions/autoreload.py\", line 303, in update_instances\n",
      "    ref.__class__ = new\n",
      "  File \"/usr/local/lib/python3.8/dist-packages/flax/linen/module.py\", line 700, in __setattr__\n",
      "    raise errors.SetAttributeFrozenModuleError(\n",
      "flax.errors.SetAttributeFrozenModuleError: Can't set __class__=<class 'recs.jaxmodels.nn.gru4rec_sqn.SQNGRU4Rec'> for Module of type SQNGRU4Rec: Module instance is frozen outside of setup method. (https://flax.readthedocs.io/en/latest/flax.errors.html#flax.errors.SetAttributeFrozenModuleError)\n",
      "]\n",
      "predicting: 100%|██████████████████████████████████████████████████████████████████████████████████████████████████▋| 286/287 [00:11<00:00, 24.31it/s]\n"
     ]
    }
   ],
   "source": [
    "pred_df = gru4rec_sqn.predict(\n",
    "    config,\n",
    "    model,\n",
    "    state,\n",
    "    test_data,\n",
    "    test_len,\n",
    ")"
   ]
  },
  {
   "cell_type": "code",
   "execution_count": 22,
   "id": "ccaf2ef2-bf4a-4d33-bbc3-a9bf6f74110a",
   "metadata": {},
   "outputs": [],
   "source": [
    "unique_items = pred_df.groupby(\"sessionId\")[\"trueIds\"].unique()"
   ]
  },
  {
   "cell_type": "code",
   "execution_count": 26,
   "id": "2e289d60-f6be-4c80-a6eb-fcfa972b06f8",
   "metadata": {},
   "outputs": [],
   "source": [
    "df = pd.merge(pred_df, unique_items.reset_index(name=\"true_list\"), on=\"sessionId\", how=\"left\")"
   ]
  },
  {
   "cell_type": "code",
   "execution_count": 27,
   "id": "9e6df5ad-efa0-4a05-ae98-64089925b12e",
   "metadata": {},
   "outputs": [
    {
     "data": {
      "text/html": [
       "<div>\n",
       "<style scoped>\n",
       "    .dataframe tbody tr th:only-of-type {\n",
       "        vertical-align: middle;\n",
       "    }\n",
       "\n",
       "    .dataframe tbody tr th {\n",
       "        vertical-align: top;\n",
       "    }\n",
       "\n",
       "    .dataframe thead th {\n",
       "        text-align: right;\n",
       "    }\n",
       "</style>\n",
       "<table border=\"1\" class=\"dataframe\">\n",
       "  <thead>\n",
       "    <tr style=\"text-align: right;\">\n",
       "      <th></th>\n",
       "      <th>sessionId</th>\n",
       "      <th>predIds</th>\n",
       "      <th>trueIds</th>\n",
       "      <th>true_list</th>\n",
       "    </tr>\n",
       "  </thead>\n",
       "  <tbody>\n",
       "    <tr>\n",
       "      <th>0</th>\n",
       "      <td>2296</td>\n",
       "      <td>[15077, 34715, 4563, 18460, 2575, 16269, 14100...</td>\n",
       "      <td>2208</td>\n",
       "      <td>[2208, 13385]</td>\n",
       "    </tr>\n",
       "    <tr>\n",
       "      <th>1</th>\n",
       "      <td>2299</td>\n",
       "      <td>[11261, 35238, 38847, 25835, 33507, 938, 23172...</td>\n",
       "      <td>9649</td>\n",
       "      <td>[9649, 37623]</td>\n",
       "    </tr>\n",
       "    <tr>\n",
       "      <th>2</th>\n",
       "      <td>2302</td>\n",
       "      <td>[31579, 25914, 35238, 40559, 1102, 3085, 36543...</td>\n",
       "      <td>28766</td>\n",
       "      <td>[28766, 31346]</td>\n",
       "    </tr>\n",
       "    <tr>\n",
       "      <th>3</th>\n",
       "      <td>2311</td>\n",
       "      <td>[25769, 36320, 36063, 4729, 10797, 11761, 6287...</td>\n",
       "      <td>12316</td>\n",
       "      <td>[12316, 3279]</td>\n",
       "    </tr>\n",
       "    <tr>\n",
       "      <th>4</th>\n",
       "      <td>2308</td>\n",
       "      <td>[12908, 4404, 12912, 3670, 20306, 37309, 9915,...</td>\n",
       "      <td>24310</td>\n",
       "      <td>[24310, 15092, 13403]</td>\n",
       "    </tr>\n",
       "    <tr>\n",
       "      <th>...</th>\n",
       "      <td>...</td>\n",
       "      <td>...</td>\n",
       "      <td>...</td>\n",
       "      <td>...</td>\n",
       "    </tr>\n",
       "    <tr>\n",
       "      <th>142995</th>\n",
       "      <td>44461</td>\n",
       "      <td>[33003, 9973, 4475, 18123, 6172, 27062, 1087, ...</td>\n",
       "      <td>22705</td>\n",
       "      <td>[28356, 22705]</td>\n",
       "    </tr>\n",
       "    <tr>\n",
       "      <th>142996</th>\n",
       "      <td>88157</td>\n",
       "      <td>[9424, 11124, 9474, 1680, 3453, 4684, 11201, 3...</td>\n",
       "      <td>9018</td>\n",
       "      <td>[9018]</td>\n",
       "    </tr>\n",
       "    <tr>\n",
       "      <th>142997</th>\n",
       "      <td>44018</td>\n",
       "      <td>[12037, 11261, 8494, 5752, 19466, 24727, 12154...</td>\n",
       "      <td>21981</td>\n",
       "      <td>[21981]</td>\n",
       "    </tr>\n",
       "    <tr>\n",
       "      <th>142998</th>\n",
       "      <td>29791</td>\n",
       "      <td>[9651, 6728, 21316, 16276, 6621, 15494, 17837,...</td>\n",
       "      <td>9004</td>\n",
       "      <td>[1650, 29144, 9004]</td>\n",
       "    </tr>\n",
       "    <tr>\n",
       "      <th>142999</th>\n",
       "      <td>48471</td>\n",
       "      <td>[15109, 31621, 2364, 10990, 7063, 14527, 21930...</td>\n",
       "      <td>16959</td>\n",
       "      <td>[22710, 7476, 16959]</td>\n",
       "    </tr>\n",
       "  </tbody>\n",
       "</table>\n",
       "<p>143000 rows × 4 columns</p>\n",
       "</div>"
      ],
      "text/plain": [
       "       sessionId                                            predIds trueIds  \\\n",
       "0           2296  [15077, 34715, 4563, 18460, 2575, 16269, 14100...    2208   \n",
       "1           2299  [11261, 35238, 38847, 25835, 33507, 938, 23172...    9649   \n",
       "2           2302  [31579, 25914, 35238, 40559, 1102, 3085, 36543...   28766   \n",
       "3           2311  [25769, 36320, 36063, 4729, 10797, 11761, 6287...   12316   \n",
       "4           2308  [12908, 4404, 12912, 3670, 20306, 37309, 9915,...   24310   \n",
       "...          ...                                                ...     ...   \n",
       "142995     44461  [33003, 9973, 4475, 18123, 6172, 27062, 1087, ...   22705   \n",
       "142996     88157  [9424, 11124, 9474, 1680, 3453, 4684, 11201, 3...    9018   \n",
       "142997     44018  [12037, 11261, 8494, 5752, 19466, 24727, 12154...   21981   \n",
       "142998     29791  [9651, 6728, 21316, 16276, 6621, 15494, 17837,...    9004   \n",
       "142999     48471  [15109, 31621, 2364, 10990, 7063, 14527, 21930...   16959   \n",
       "\n",
       "                    true_list  \n",
       "0               [2208, 13385]  \n",
       "1               [9649, 37623]  \n",
       "2              [28766, 31346]  \n",
       "3               [12316, 3279]  \n",
       "4       [24310, 15092, 13403]  \n",
       "...                       ...  \n",
       "142995         [28356, 22705]  \n",
       "142996                 [9018]  \n",
       "142997                [21981]  \n",
       "142998    [1650, 29144, 9004]  \n",
       "142999   [22710, 7476, 16959]  \n",
       "\n",
       "[143000 rows x 4 columns]"
      ]
     },
     "execution_count": 27,
     "metadata": {},
     "output_type": "execute_result"
    }
   ],
   "source": [
    "df"
   ]
  },
  {
   "cell_type": "code",
   "execution_count": 36,
   "id": "6105e85a-ecd9-4593-9b39-7d994b9dfe3f",
   "metadata": {},
   "outputs": [
    {
     "data": {
      "text/plain": [
       "Int64Index([109313, 109813, 110313], dtype='int64')"
      ]
     },
     "execution_count": 36,
     "metadata": {},
     "output_type": "execute_result"
    }
   ],
   "source": [
    "df[df[\"sessionId\"] == 0].index"
   ]
  },
  {
   "cell_type": "code",
   "execution_count": 37,
   "id": "1ea12692-9819-44dd-ab3f-7ee90ba9ab49",
   "metadata": {},
   "outputs": [
    {
     "data": {
      "application/vnd.jupyter.widget-view+json": {
       "model_id": "a8c0991cee204b66aef3b494527e1b2d",
       "version_major": 2,
       "version_minor": 0
      },
      "text/plain": [
       "  0%|          | 0/61668 [00:00<?, ?it/s]"
      ]
     },
     "metadata": {},
     "output_type": "display_data"
    }
   ],
   "source": [
    "from tqdm.notebook import tqdm\n",
    "for i in tqdm(df[\"sessionId\"].unique()):\n",
    "    ind = df[df[\"sessionId\"] == i].index\n",
    "    for n, j in enumerate(ind):\n",
    "        df.loc[j, \"true_list\"] = df.loc[j, \"true_list\"][n:]\n"
   ]
  },
  {
   "cell_type": "code",
   "execution_count": 40,
   "id": "b9c555d3-789b-4a0f-90fd-5b8d82fd222e",
   "metadata": {},
   "outputs": [],
   "source": [
    "#df = df.drop(\"trueIds\", axis=1)\n",
    "df = df.rename({\"true_list\":\"trueIds\"}, axis=1)"
   ]
  },
  {
   "cell_type": "code",
   "execution_count": 49,
   "id": "5f685e2b-572c-4fe3-a1d1-0a097a8610e8",
   "metadata": {},
   "outputs": [],
   "source": [
    "evals, eval_scores = evaluate.evaluate(\n",
    "    df,\n",
    "    k=20,\n",
    "    metrics=[\"recall\", \"ndcg\"]\n",
    ")"
   ]
  },
  {
   "cell_type": "code",
   "execution_count": 50,
   "id": "8276a20c-1554-4475-b9c5-0465119bc3fc",
   "metadata": {},
   "outputs": [
    {
     "data": {
      "text/plain": [
       "recall    0.131633\n",
       "ndcg      0.004110\n",
       "dtype: float64"
      ]
     },
     "execution_count": 50,
     "metadata": {},
     "output_type": "execute_result"
    }
   ],
   "source": [
    "eval_scores"
   ]
  },
  {
   "cell_type": "markdown",
   "id": "935430f8-e3d6-4a99-b46e-b324de43d2e1",
   "metadata": {},
   "source": [
    "# GRU fori_loop"
   ]
  },
  {
   "cell_type": "code",
   "execution_count": 5,
   "id": "f236f08b-5528-4566-a66f-f7e86f726f1a",
   "metadata": {},
   "outputs": [],
   "source": [
    "from typing import Optional, Tuple\n",
    "from collections import OrderedDict\n",
    "from tqdm import tqdm\n",
    "\n",
    "import numpy as np\n",
    "import pandas as pd\n",
    "\n",
    "import jax\n",
    "from jax import numpy as jnp\n",
    "\n",
    "import optax\n",
    "from flax import struct\n",
    "from flax import linen as nn\n",
    "from flax.training import train_state\n",
    "from flax.training import common_utils"
   ]
  },
  {
   "cell_type": "code",
   "execution_count": 6,
   "id": "9f368238-5b50-4d8a-9033-22772fad0517",
   "metadata": {},
   "outputs": [],
   "source": [
    "class GRU4Rec(nn.Module):\n",
    "    config : GRU4RecConfig\n",
    "    @staticmethod\n",
    "    def init_hidden( \n",
    "        batch_size:int,\n",
    "        hidden_size:int,\n",
    "        num_layers:int,\n",
    "        rng_key:Optional[int]=0\n",
    "    ):\n",
    "        return nn.GRUCell().initialize_carry(\n",
    "                jax.random.PRNGKey(rng_key), \n",
    "                (batch_size,),\n",
    "                hidden_size*num_layers).reshape((num_layers, -1, hidden_size))\n",
    "    \n",
    "    def final_act(self):\n",
    "        if self.config.final_act == \"softmax\":\n",
    "            return nn.softmax\n",
    "        elif self.config.final_act == \"tanh\":\n",
    "            return nn.tanh\n",
    "        elif self.config.final_act == \"relu\":\n",
    "            return nn.relu\n",
    "        elif self.config.final_act == \"log_softmax\":\n",
    "            return nn.log_softmax\n",
    "    \n",
    "    @nn.compact\n",
    "    def __call__(\n",
    "        self,\n",
    "        inputs:jnp.ndarray,\n",
    "        hidden:jnp.ndarray,\n",
    "        deterministic:Optional[bool]=True\n",
    "    ):\n",
    "        \"\"\"\n",
    "        Args :\n",
    "            inputs (batch_size,) : \n",
    "                    batch of item indices from a session-paralell mini-batch\n",
    "            hidden (num_layers, batch_size, hidden_size):\n",
    "            deterministic:\n",
    "\n",
    "        \"\"\"\n",
    "        hidden_list = []\n",
    "        if self.config.embedding_dim > 0:\n",
    "            x = nn.Embed(self.config.output_size, self.config.embedding_dim)(inputs)\n",
    "        else:\n",
    "            x = jax.nn.one_hot(inputs, self.config.output_size)\n",
    "        \n",
    "        for i in range(self.config.num_layers):\n",
    "            hidden_, x = nn.GRUCell()(hidden[i], x)\n",
    "            x = nn.Dropout(self.config.dropout_hidden)(x, deterministic=deterministic)\n",
    "            hidden_list += [hidden_]\n",
    "        \n",
    "        \n",
    "        output = nn.Dense(self.config.output_size)(x)\n",
    "        output = self.final_act()(output)\n",
    "        return output, jnp.stack(hidden_list, axis=0)\n"
   ]
  },
  {
   "cell_type": "code",
   "execution_count": 7,
   "id": "4823f381-cca1-4682-a784-2c9c24cb0f9f",
   "metadata": {},
   "outputs": [],
   "source": [
    "def create_train_state(key, config):\n",
    "    model = GRU4Rec(config)\n",
    "    hidden = model.init_hidden(config.batch_size, config.hidden_size, config.num_layers)\n",
    "    params = model.init(key, jnp.ones((config.batch_size,), dtype=jnp.int32), hidden)[\"params\"]\n",
    "    tx = optax.adam(config.learning_rate)\n",
    "    return train_state.TrainState.create(apply_fn=model.apply, params=params, tx=tx), hidden, model"
   ]
  },
  {
   "cell_type": "code",
   "execution_count": 8,
   "id": "25e0d186-c40a-46f9-8da3-3b05e9b99e9d",
   "metadata": {},
   "outputs": [],
   "source": [
    "def cross_entropy_loss(\n",
    "    y_true:jnp.ndarray, # (batch_size, )\n",
    "    y_pred:np.ndarray   # (batch_size, num_items)\n",
    "):\n",
    "    \n",
    "    logits = y_pred[:, y_true]\n",
    "\n",
    "    one_hot_labels = jax.nn.one_hot(\n",
    "        jnp.arange(y_true.shape[0]), \n",
    "        num_classes=y_true.shape[0])\n",
    "\n",
    "    loss = -jnp.mean(jnp.sum(one_hot_labels * logits, axis=1))\n",
    "    return loss"
   ]
  },
  {
   "cell_type": "code",
   "execution_count": 9,
   "id": "9bda6459-e6c4-41ed-a654-f8868bc2e63f",
   "metadata": {},
   "outputs": [],
   "source": [
    "@jax.jit\n",
    "def train_step(state, x, y, mask, hidden):\n",
    "        \n",
    "    if len(mask) != 0:\n",
    "        hidden = hidden.at[:, mask, :].set(0)\n",
    "\n",
    "    def loss_fn(params, hidden):\n",
    "        logits, hidden = model.apply({\"params\":params}, x, hidden) # (batch_size, num_items)\n",
    "        logits, targets = jnp.squeeze(logits), jnp.squeeze(y)            \n",
    "        loss = cross_entropy_loss(targets, logits)\n",
    "        return loss, hidden\n",
    "    (loss, hidden), grads = jax.value_and_grad(loss_fn, has_aux=True)(state.params, hidden)\n",
    "    state = state.apply_gradients(grads=grads)\n",
    "    return state, loss, hidden"
   ]
  },
  {
   "cell_type": "code",
   "execution_count": 11,
   "id": "2bce650f-7e25-4cdc-83c2-c3985f46fd05",
   "metadata": {
    "tags": []
   },
   "outputs": [],
   "source": [
    "hidden_size = 100\n",
    "batch_size=500\n",
    "dropout_rate=0\n",
    "\n",
    "config = GRU4RecConfig(\n",
    "            hidden_size=hidden_size, \n",
    "            output_size=num_items, \n",
    "            batch_size=batch_size,\n",
    "            dropout_hidden=dropout_rate, \n",
    "            learning_rate=0.01, \n",
    "            final_act=\"log_softmax\",\n",
    "            num_epochs=10,\n",
    "            early_stop_count=2)\n",
    "\n",
    "#state = create_train_state(jax.random.PRNGKey(0), config)"
   ]
  },
  {
   "cell_type": "code",
   "execution_count": null,
   "id": "be722ee7-761b-4a36-a937-1e632f7c4b57",
   "metadata": {},
   "outputs": [],
   "source": []
  }
 ],
 "metadata": {
  "kernelspec": {
   "display_name": "Python 3 (ipykernel)",
   "language": "python",
   "name": "python3"
  },
  "language_info": {
   "codemirror_mode": {
    "name": "ipython",
    "version": 3
   },
   "file_extension": ".py",
   "mimetype": "text/x-python",
   "name": "python",
   "nbconvert_exporter": "python",
   "pygments_lexer": "ipython3",
   "version": "3.8.10"
  }
 },
 "nbformat": 4,
 "nbformat_minor": 5
}
