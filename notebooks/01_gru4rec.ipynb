{
 "cells": [
  {
   "cell_type": "markdown",
   "id": "4658c7de-eb53-4264-8553-690749543434",
   "metadata": {
    "tags": []
   },
   "source": [
    "# GRU4Rec"
   ]
  },
  {
   "cell_type": "code",
   "execution_count": 1,
   "id": "09ac0aae-4e13-4831-acf9-fe88bbf26328",
   "metadata": {},
   "outputs": [],
   "source": [
    "%load_ext autoreload\n",
    "%autoreload 2"
   ]
  },
  {
   "cell_type": "code",
   "execution_count": 2,
   "id": "6820380f-9830-402a-9bc1-80173ddaa311",
   "metadata": {},
   "outputs": [],
   "source": [
    "from collections import OrderedDict\n",
    "import pandas as pd\n",
    "import numpy as np\n",
    "from recs.evaluator import metrics, evaluate\n",
    "from recs import utils\n",
    "from recs.jaxmodels import gru4rec, GRU4RecConfig\n",
    "from recs.dataset import session_parallel_dataset\n",
    "import jax\n",
    "\n",
    "import matplotlib.pyplot as plt\n",
    "import japanize_matplotlib\n"
   ]
  },
  {
   "cell_type": "code",
   "execution_count": 7,
   "id": "84632753-e551-4c4b-8519-13703fd9c0e6",
   "metadata": {},
   "outputs": [],
   "source": [
    "data = pd.read_pickle(\"~/work/dataset/diginetica2/derived/train.df\")\n",
    "testdata = pd.read_pickle(\"~/work/dataset/diginetica2/derived/test.df\")"
   ]
  },
  {
   "cell_type": "code",
   "execution_count": 8,
   "id": "ff514242-5b15-4ce0-bdf3-fe2f5d963fb0",
   "metadata": {},
   "outputs": [],
   "source": [
    "num_items = max(data.itemId.max(), testdata.itemId.max()) + 1\n",
    "config = GRU4RecConfig(\n",
    "    hidden_size=100, \n",
    "    output_size=num_items, \n",
    "    batch_size=500, \n",
    "    dropout_hidden=0., \n",
    "    learning_rate=0.01, \n",
    "    final_act=\"log_softmax\",\n",
    "    num_epochs=100,\n",
    "    early_stop_count=3\n",
    ")"
   ]
  },
  {
   "cell_type": "code",
   "execution_count": 9,
   "id": "63d05173-fab4-4e33-962a-6c364fdc365a",
   "metadata": {},
   "outputs": [],
   "source": [
    "train_data, total_length = session_parallel_dataset(\n",
    "    path=\"~/work/dataset/diginetica2/derived/train.df\",\n",
    "    batch_size = config.batch_size,\n",
    "    issort=False,\n",
    "    timekey=\"eventdate\"\n",
    ")"
   ]
  },
  {
   "cell_type": "code",
   "execution_count": 12,
   "id": "7a59494a-a9ad-416d-9d5c-281bd6c57c37",
   "metadata": {},
   "outputs": [],
   "source": [
    "state, hidden, model = gru4rec.create_train_state(jax.random.PRNGKey(0), config)"
   ]
  },
  {
   "cell_type": "code",
   "execution_count": 19,
   "id": "7a5c1eef-4373-4470-b6ca-398b3f2da198",
   "metadata": {},
   "outputs": [
    {
     "name": "stderr",
     "output_type": "stream",
     "text": [
      "[Epoch 0] training: 100%|██████| 843/843 [00:08<00:00, 95.57it/s, loss=8.544800]\n",
      "[Epoch 1] training: 100%|█████| 843/843 [00:06<00:00, 123.85it/s, loss=5.497723]\n",
      "[Epoch 2] training: 100%|█████| 843/843 [00:06<00:00, 123.83it/s, loss=4.091352]\n",
      "[Epoch 3] training: 100%|█████| 843/843 [00:06<00:00, 121.38it/s, loss=3.314031]\n",
      "[Epoch 4] training: 100%|█████| 843/843 [00:07<00:00, 119.72it/s, loss=2.761188]\n",
      "[Epoch 5] training: 100%|█████| 843/843 [00:06<00:00, 121.32it/s, loss=2.365654]\n",
      "[Epoch 6] training: 100%|█████| 843/843 [00:06<00:00, 122.08it/s, loss=2.087053]\n",
      "[Epoch 7] training: 100%|█████| 843/843 [00:06<00:00, 124.56it/s, loss=1.903608]\n",
      "[Epoch 8] training: 100%|█████| 843/843 [00:06<00:00, 124.30it/s, loss=1.767044]\n",
      "[Epoch 9] training: 100%|█████| 843/843 [00:06<00:00, 123.73it/s, loss=1.669269]\n",
      "[Epoch 10] training: 100%|████| 843/843 [00:06<00:00, 122.94it/s, loss=1.601576]\n",
      "[Epoch 11] training: 100%|████| 843/843 [00:06<00:00, 121.90it/s, loss=1.537403]\n",
      "[Epoch 12] training: 100%|████| 843/843 [00:07<00:00, 119.78it/s, loss=1.489488]\n",
      "[Epoch 13] training: 100%|████| 843/843 [00:06<00:00, 122.92it/s, loss=1.445765]\n",
      "[Epoch 14] training: 100%|████| 843/843 [00:06<00:00, 122.23it/s, loss=1.411743]\n",
      "[Epoch 15] training: 100%|████| 843/843 [00:06<00:00, 121.00it/s, loss=1.384275]\n",
      "[Epoch 16] training: 100%|████| 843/843 [00:06<00:00, 122.89it/s, loss=1.362394]\n",
      "[Epoch 17] training: 100%|████| 843/843 [00:06<00:00, 120.91it/s, loss=1.337494]\n",
      "[Epoch 18] training: 100%|████| 843/843 [00:06<00:00, 123.67it/s, loss=1.320819]\n",
      "[Epoch 19] training: 100%|████| 843/843 [00:06<00:00, 123.60it/s, loss=1.303339]\n",
      "[Epoch 20] training: 100%|████| 843/843 [00:06<00:00, 123.52it/s, loss=1.291701]\n",
      "[Epoch 21] training: 100%|████| 843/843 [00:06<00:00, 122.65it/s, loss=1.271687]\n",
      "[Epoch 22] training: 100%|████| 843/843 [00:06<00:00, 122.54it/s, loss=1.256900]\n",
      "[Epoch 23] training: 100%|████| 843/843 [00:06<00:00, 121.15it/s, loss=1.246028]\n",
      "[Epoch 24] training: 100%|████| 843/843 [00:06<00:00, 124.16it/s, loss=1.234067]\n",
      "[Epoch 25] training: 100%|████| 843/843 [00:06<00:00, 124.26it/s, loss=1.220031]\n",
      "[Epoch 26] training: 100%|████| 843/843 [00:06<00:00, 123.95it/s, loss=1.219379]\n",
      "[Epoch 27] training: 100%|████| 843/843 [00:06<00:00, 123.50it/s, loss=1.207080]\n",
      "[Epoch 28] training: 100%|████| 843/843 [00:06<00:00, 123.58it/s, loss=1.198250]\n",
      "[Epoch 29] training: 100%|████| 843/843 [00:06<00:00, 121.99it/s, loss=1.197686]\n",
      "[Epoch 30] training: 100%|████| 843/843 [00:06<00:00, 121.96it/s, loss=1.183348]\n",
      "[Epoch 31] training: 100%|████| 843/843 [00:06<00:00, 124.01it/s, loss=1.184042]\n",
      "[Epoch 32] training: 100%|████| 843/843 [00:06<00:00, 124.22it/s, loss=1.174771]\n",
      "[Epoch 33] training: 100%|████| 843/843 [00:06<00:00, 124.48it/s, loss=1.173003]\n",
      "[Epoch 34] training: 100%|████| 843/843 [00:06<00:00, 123.38it/s, loss=1.167239]\n",
      "[Epoch 35] training: 100%|████| 843/843 [00:06<00:00, 123.72it/s, loss=1.160504]\n",
      "[Epoch 36] training: 100%|████| 843/843 [00:06<00:00, 124.55it/s, loss=1.153241]\n",
      "[Epoch 37] training: 100%|████| 843/843 [00:06<00:00, 123.87it/s, loss=1.155463]\n",
      "[Epoch 38] training: 100%|████| 843/843 [00:06<00:00, 124.44it/s, loss=1.155176]\n",
      "[Epoch 39] training: 100%|████| 843/843 [00:06<00:00, 124.44it/s, loss=1.147021]\n",
      "[Epoch 40] training: 100%|████| 843/843 [00:06<00:00, 124.48it/s, loss=1.144797]\n",
      "[Epoch 41] training: 100%|████| 843/843 [00:06<00:00, 121.89it/s, loss=1.137360]\n",
      "[Epoch 42] training: 100%|████| 843/843 [00:06<00:00, 124.05it/s, loss=1.133601]\n",
      "[Epoch 43] training: 100%|████| 843/843 [00:06<00:00, 123.42it/s, loss=1.134086]\n",
      "[Epoch 44] training: 100%|████| 843/843 [00:06<00:00, 123.66it/s, loss=1.135025]\n",
      "[Epoch 45] training: 100%|████| 843/843 [00:06<00:00, 123.67it/s, loss=1.125483]\n",
      "[Epoch 46] training: 100%|████| 843/843 [00:06<00:00, 122.33it/s, loss=1.117522]\n",
      "[Epoch 47] training: 100%|████| 843/843 [00:06<00:00, 122.99it/s, loss=1.122079]\n",
      "[Epoch 48] training: 100%|████| 843/843 [00:06<00:00, 122.79it/s, loss=1.122395]\n",
      "[Epoch 49] training: 100%|████| 843/843 [00:06<00:00, 121.64it/s, loss=1.118504]\n",
      "[Epoch 50] training: 100%|████| 843/843 [00:06<00:00, 123.11it/s, loss=1.123653]\n"
     ]
    }
   ],
   "source": [
    "state, hidden, loss = gru4rec.train(\n",
    "    config,\n",
    "    model,\n",
    "    state,\n",
    "    train_data,\n",
    "    total_length,\n",
    "    hidden=hidden\n",
    ")"
   ]
  },
  {
   "cell_type": "code",
   "execution_count": 20,
   "id": "de125a9a-2954-49ab-8e04-e609404ae1f9",
   "metadata": {},
   "outputs": [],
   "source": [
    "test_data, test_len = session_parallel_dataset(\n",
    "    path=\"~/work/dataset/diginetica2/derived/test.df\", \n",
    "    batch_size=config.batch_size, \n",
    "    issort=False,\n",
    "    timekey=\"eventdate\"\n",
    ")"
   ]
  },
  {
   "cell_type": "code",
   "execution_count": 21,
   "id": "348daa74-a829-4dbc-97c8-af500cedf83f",
   "metadata": {},
   "outputs": [
    {
     "name": "stderr",
     "output_type": "stream",
     "text": [
      "predicting: 100%|████████████████████████████▉| 286/287 [00:11<00:00, 24.14it/s]\n"
     ]
    }
   ],
   "source": [
    "pred_df = gru4rec.predict(\n",
    "    config,\n",
    "    model,\n",
    "    state,\n",
    "    test_data,\n",
    "    test_len,\n",
    ")"
   ]
  },
  {
   "cell_type": "code",
   "execution_count": 36,
   "id": "fb1f8f43-22f1-47bd-92a7-71f92fcdd11b",
   "metadata": {},
   "outputs": [],
   "source": [
    "evals, eval_scores = evaluate.evaluate(\n",
    "    pred_df,\n",
    "    k=20\n",
    ")"
   ]
  },
  {
   "cell_type": "code",
   "execution_count": 37,
   "id": "0fdf99a6-b158-4c45-a7b2-fd36c0d26119",
   "metadata": {},
   "outputs": [
    {
     "data": {
      "text/html": [
       "<div>\n",
       "<style scoped>\n",
       "    .dataframe tbody tr th:only-of-type {\n",
       "        vertical-align: middle;\n",
       "    }\n",
       "\n",
       "    .dataframe tbody tr th {\n",
       "        vertical-align: top;\n",
       "    }\n",
       "\n",
       "    .dataframe thead th {\n",
       "        text-align: right;\n",
       "    }\n",
       "</style>\n",
       "<table border=\"1\" class=\"dataframe\">\n",
       "  <thead>\n",
       "    <tr style=\"text-align: right;\">\n",
       "      <th></th>\n",
       "      <th>precision</th>\n",
       "      <th>map</th>\n",
       "      <th>recall</th>\n",
       "      <th>ndcg</th>\n",
       "      <th>mrr</th>\n",
       "    </tr>\n",
       "  </thead>\n",
       "  <tbody>\n",
       "    <tr>\n",
       "      <th>0</th>\n",
       "      <td>0.00</td>\n",
       "      <td>0.00000</td>\n",
       "      <td>0.0</td>\n",
       "      <td>0.000000</td>\n",
       "      <td>0.000000</td>\n",
       "    </tr>\n",
       "    <tr>\n",
       "      <th>1</th>\n",
       "      <td>0.00</td>\n",
       "      <td>0.00000</td>\n",
       "      <td>0.0</td>\n",
       "      <td>0.000000</td>\n",
       "      <td>0.000000</td>\n",
       "    </tr>\n",
       "    <tr>\n",
       "      <th>2</th>\n",
       "      <td>0.00</td>\n",
       "      <td>0.00000</td>\n",
       "      <td>0.0</td>\n",
       "      <td>0.000000</td>\n",
       "      <td>0.000000</td>\n",
       "    </tr>\n",
       "    <tr>\n",
       "      <th>3</th>\n",
       "      <td>0.05</td>\n",
       "      <td>0.06572</td>\n",
       "      <td>1.0</td>\n",
       "      <td>0.050596</td>\n",
       "      <td>0.166667</td>\n",
       "    </tr>\n",
       "    <tr>\n",
       "      <th>4</th>\n",
       "      <td>0.00</td>\n",
       "      <td>0.00000</td>\n",
       "      <td>0.0</td>\n",
       "      <td>0.000000</td>\n",
       "      <td>0.000000</td>\n",
       "    </tr>\n",
       "    <tr>\n",
       "      <th>...</th>\n",
       "      <td>...</td>\n",
       "      <td>...</td>\n",
       "      <td>...</td>\n",
       "      <td>...</td>\n",
       "      <td>...</td>\n",
       "    </tr>\n",
       "    <tr>\n",
       "      <th>495</th>\n",
       "      <td>0.00</td>\n",
       "      <td>0.00000</td>\n",
       "      <td>0.0</td>\n",
       "      <td>0.000000</td>\n",
       "      <td>0.000000</td>\n",
       "    </tr>\n",
       "    <tr>\n",
       "      <th>496</th>\n",
       "      <td>0.00</td>\n",
       "      <td>0.00000</td>\n",
       "      <td>0.0</td>\n",
       "      <td>0.000000</td>\n",
       "      <td>0.000000</td>\n",
       "    </tr>\n",
       "    <tr>\n",
       "      <th>497</th>\n",
       "      <td>0.00</td>\n",
       "      <td>0.00000</td>\n",
       "      <td>0.0</td>\n",
       "      <td>0.000000</td>\n",
       "      <td>0.000000</td>\n",
       "    </tr>\n",
       "    <tr>\n",
       "      <th>498</th>\n",
       "      <td>0.00</td>\n",
       "      <td>0.00000</td>\n",
       "      <td>0.0</td>\n",
       "      <td>0.000000</td>\n",
       "      <td>0.000000</td>\n",
       "    </tr>\n",
       "    <tr>\n",
       "      <th>499</th>\n",
       "      <td>0.00</td>\n",
       "      <td>0.00000</td>\n",
       "      <td>0.0</td>\n",
       "      <td>0.000000</td>\n",
       "      <td>0.000000</td>\n",
       "    </tr>\n",
       "  </tbody>\n",
       "</table>\n",
       "<p>143000 rows × 5 columns</p>\n",
       "</div>"
      ],
      "text/plain": [
       "     precision      map  recall      ndcg       mrr\n",
       "0         0.00  0.00000     0.0  0.000000  0.000000\n",
       "1         0.00  0.00000     0.0  0.000000  0.000000\n",
       "2         0.00  0.00000     0.0  0.000000  0.000000\n",
       "3         0.05  0.06572     1.0  0.050596  0.166667\n",
       "4         0.00  0.00000     0.0  0.000000  0.000000\n",
       "..         ...      ...     ...       ...       ...\n",
       "495       0.00  0.00000     0.0  0.000000  0.000000\n",
       "496       0.00  0.00000     0.0  0.000000  0.000000\n",
       "497       0.00  0.00000     0.0  0.000000  0.000000\n",
       "498       0.00  0.00000     0.0  0.000000  0.000000\n",
       "499       0.00  0.00000     0.0  0.000000  0.000000\n",
       "\n",
       "[143000 rows x 5 columns]"
      ]
     },
     "execution_count": 37,
     "metadata": {},
     "output_type": "execute_result"
    }
   ],
   "source": [
    "evals"
   ]
  },
  {
   "cell_type": "code",
   "execution_count": 45,
   "id": "1ac6c1de-04ed-479f-b9b8-a85a6d1757dd",
   "metadata": {},
   "outputs": [
    {
     "name": "stderr",
     "output_type": "stream",
     "text": [
      "100%|█████████████████████████████████████████████| 7/7 [02:57<00:00, 25.41s/it]\n"
     ]
    }
   ],
   "source": [
    "from tqdm import tqdm\n",
    "eval_score_df = pd.DataFrame(\n",
    "    columns=[\"precision\", \"map\", \"recall\", \"ndcg\", \"mrr\"]\n",
    ")\n",
    "for k in tqdm(np.arange(5, 40, 5)):\n",
    "    _, eval_scores = evaluate.evaluate(\n",
    "    pred_df,\n",
    "    k=k)\n",
    "    eval_score_df = pd.concat([\n",
    "        eval_score_df,\n",
    "        pd.DataFrame(eval_scores, columns=[k]).T\n",
    "    ], axis=0)"
   ]
  },
  {
   "cell_type": "code",
   "execution_count": 50,
   "id": "bd99ee6d-68b7-4dc3-9e60-a94b73a692ff",
   "metadata": {},
   "outputs": [],
   "source": [
    "eval_score_df = eval_score_df.reset_index().rename({\"index\":\"k\"}, axis=1)"
   ]
  },
  {
   "cell_type": "code",
   "execution_count": 51,
   "id": "114f0e2a-f073-4f69-950f-b5bb3b5668b1",
   "metadata": {},
   "outputs": [
    {
     "data": {
      "text/html": [
       "<div>\n",
       "<style scoped>\n",
       "    .dataframe tbody tr th:only-of-type {\n",
       "        vertical-align: middle;\n",
       "    }\n",
       "\n",
       "    .dataframe tbody tr th {\n",
       "        vertical-align: top;\n",
       "    }\n",
       "\n",
       "    .dataframe thead th {\n",
       "        text-align: right;\n",
       "    }\n",
       "</style>\n",
       "<table border=\"1\" class=\"dataframe\">\n",
       "  <thead>\n",
       "    <tr style=\"text-align: right;\">\n",
       "      <th></th>\n",
       "      <th>k</th>\n",
       "      <th>precision</th>\n",
       "      <th>map</th>\n",
       "      <th>recall</th>\n",
       "      <th>ndcg</th>\n",
       "      <th>mrr</th>\n",
       "    </tr>\n",
       "  </thead>\n",
       "  <tbody>\n",
       "    <tr>\n",
       "      <th>0</th>\n",
       "      <td>5</td>\n",
       "      <td>0.017357</td>\n",
       "      <td>0.021108</td>\n",
       "      <td>0.086783</td>\n",
       "      <td>0.019256</td>\n",
       "      <td>0.046955</td>\n",
       "    </tr>\n",
       "    <tr>\n",
       "      <th>1</th>\n",
       "      <td>10</td>\n",
       "      <td>0.01315</td>\n",
       "      <td>0.017842</td>\n",
       "      <td>0.131497</td>\n",
       "      <td>0.015662</td>\n",
       "      <td>0.052852</td>\n",
       "    </tr>\n",
       "    <tr>\n",
       "      <th>2</th>\n",
       "      <td>15</td>\n",
       "      <td>0.010814</td>\n",
       "      <td>0.01578</td>\n",
       "      <td>0.162203</td>\n",
       "      <td>0.013526</td>\n",
       "      <td>0.055265</td>\n",
       "    </tr>\n",
       "    <tr>\n",
       "      <th>3</th>\n",
       "      <td>20</td>\n",
       "      <td>0.00931</td>\n",
       "      <td>0.014302</td>\n",
       "      <td>0.186196</td>\n",
       "      <td>0.012066</td>\n",
       "      <td>0.056613</td>\n",
       "    </tr>\n",
       "    <tr>\n",
       "      <th>4</th>\n",
       "      <td>25</td>\n",
       "      <td>0.008225</td>\n",
       "      <td>0.013167</td>\n",
       "      <td>0.205636</td>\n",
       "      <td>0.010969</td>\n",
       "      <td>0.057463</td>\n",
       "    </tr>\n",
       "    <tr>\n",
       "      <th>5</th>\n",
       "      <td>30</td>\n",
       "      <td>0.007407</td>\n",
       "      <td>0.012258</td>\n",
       "      <td>0.22221</td>\n",
       "      <td>0.010108</td>\n",
       "      <td>0.058057</td>\n",
       "    </tr>\n",
       "    <tr>\n",
       "      <th>6</th>\n",
       "      <td>35</td>\n",
       "      <td>0.006755</td>\n",
       "      <td>0.011507</td>\n",
       "      <td>0.236441</td>\n",
       "      <td>0.009405</td>\n",
       "      <td>0.058489</td>\n",
       "    </tr>\n",
       "  </tbody>\n",
       "</table>\n",
       "</div>"
      ],
      "text/plain": [
       "    k precision       map    recall      ndcg       mrr\n",
       "0   5  0.017357  0.021108  0.086783  0.019256  0.046955\n",
       "1  10   0.01315  0.017842  0.131497  0.015662  0.052852\n",
       "2  15  0.010814   0.01578  0.162203  0.013526  0.055265\n",
       "3  20   0.00931  0.014302  0.186196  0.012066  0.056613\n",
       "4  25  0.008225  0.013167  0.205636  0.010969  0.057463\n",
       "5  30  0.007407  0.012258   0.22221  0.010108  0.058057\n",
       "6  35  0.006755  0.011507  0.236441  0.009405  0.058489"
      ]
     },
     "execution_count": 51,
     "metadata": {},
     "output_type": "execute_result"
    }
   ],
   "source": [
    "eval_score_df"
   ]
  },
  {
   "cell_type": "code",
   "execution_count": 65,
   "id": "76567dfa-4262-497b-841c-b2702cba9bb7",
   "metadata": {},
   "outputs": [
    {
     "data": {
      "text/plain": [
       "<AxesSubplot:>"
      ]
     },
     "execution_count": 65,
     "metadata": {},
     "output_type": "execute_result"
    },
    {
     "data": {
      "image/png": "[encoded data removed]",
      "text/plain": [
       "<Figure size 432x288 with 1 Axes>"
      ]
     },
     "metadata": {
      "needs_background": "light"
     },
     "output_type": "display_data"
    }
   ],
   "source": [
    "eval_score_df[\"recall\"].plot()"
   ]
  },
  {
   "cell_type": "code",
   "execution_count": 33,
   "id": "8c8d9ac4-49f7-4d74-bc5b-b979fb69393d",
   "metadata": {},
   "outputs": [
    {
     "data": {
      "image/png": "[encoded data removed]",
      "text/plain": [
       "<Figure size 432x288 with 1 Axes>"
      ]
     },
     "metadata": {
      "needs_background": "light"
     },
     "output_type": "display_data"
    }
   ],
   "source": [
    "plt.plot(loss)\n",
    "plt.title(\"GRU4Recの損失関数\")\n",
    "plt.show()"
   ]
  },
  {
   "cell_type": "code",
   "execution_count": null,
   "id": "232e61cf-2b0b-4e6b-a3ff-0a415960ce76",
   "metadata": {},
   "outputs": [],
   "source": []
  }
 ],
 "metadata": {
  "kernelspec": {
   "display_name": "Python 3 (ipykernel)",
   "language": "python",
   "name": "python3"
  },
  "language_info": {
   "codemirror_mode": {
    "name": "ipython",
    "version": 3
   },
   "file_extension": ".py",
   "mimetype": "text/x-python",
   "name": "python",
   "nbconvert_exporter": "python",
   "pygments_lexer": "ipython3",
   "version": "3.8.10"
  }
 },
 "nbformat": 4,
 "nbformat_minor": 5
}
