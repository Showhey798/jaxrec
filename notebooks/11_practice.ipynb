{
 "cells": [
  {
   "cell_type": "code",
   "execution_count": 7,
   "id": "6384531c-de6d-473d-bfa7-550485a23d4d",
   "metadata": {},
   "outputs": [],
   "source": [
    "from typing import Optional\n",
    "import numpy as np\n",
    "\n",
    "\n",
    "import jax\n",
    "from jax import numpy as jnp\n",
    "\n",
    "from flax import struct\n",
    "from flax.training import train_state, common_utils\n",
    "from flax import linen as nn\n",
    "import optax\n",
    "\n",
    "import tensorflow as tf"
   ]
  },
  {
   "cell_type": "code",
   "execution_count": 2,
   "id": "af27ba0e-51d2-484b-aee9-b5715029f19b",
   "metadata": {},
   "outputs": [
    {
     "data": {
      "text/plain": [
       "DeviceArray([[ 5.1998299e-01, -2.7347109e-01],\n",
       "             [ 3.1157458e-01,  7.3022044e-01],\n",
       "             [ 2.0017810e+00,  4.9277100e-01],\n",
       "             [ 4.5230365e-01,  8.8437307e-01],\n",
       "             [ 6.8794307e-04, -7.3253053e-01],\n",
       "             [ 8.3312637e-01, -5.2632433e-01],\n",
       "             [-3.3986712e-01, -4.2656019e-01],\n",
       "             [ 6.6787893e-01, -1.1360155e+00],\n",
       "             [-3.0554804e-01, -1.9193236e+00],\n",
       "             [-2.1068285e+00,  5.7977307e-01]], dtype=float32)"
      ]
     },
     "execution_count": 2,
     "metadata": {},
     "output_type": "execute_result"
    }
   ],
   "source": [
    "key = jax.random.PRNGKey(0)\n",
    "key, key_ = jax.random.split(key)\n",
    "a = jax.random.normal(key_, shape=(10, 2))\n",
    "a"
   ]
  },
  {
   "cell_type": "code",
   "execution_count": 3,
   "id": "9a7bfeb2-f129-41a1-890e-37cb8009451d",
   "metadata": {
    "jp-MarkdownHeadingCollapsed": true,
    "tags": []
   },
   "outputs": [
    {
     "data": {
      "text/plain": [
       "DeviceArray([[0., 0., 0., 0., 0., 0., 0., 0., 0., 0., 0., 0., 0., 0., 0.,\n",
       "              0., 0., 0., 0., 0.],\n",
       "             [0., 0., 0., 0., 0., 0., 0., 0., 0., 0., 0., 0., 0., 0., 0.,\n",
       "              0., 0., 0., 0., 0.],\n",
       "             [0., 0., 0., 0., 0., 0., 0., 0., 0., 0., 0., 0., 0., 0., 0.,\n",
       "              0., 0., 0., 0., 0.],\n",
       "             [0., 0., 0., 0., 0., 0., 0., 0., 0., 0., 0., 0., 0., 0., 0.,\n",
       "              0., 0., 0., 0., 0.],\n",
       "             [0., 0., 0., 0., 0., 0., 0., 0., 0., 0., 0., 0., 0., 0., 0.,\n",
       "              0., 0., 0., 0., 0.],\n",
       "             [0., 0., 0., 0., 0., 0., 0., 0., 0., 0., 0., 0., 0., 0., 0.,\n",
       "              0., 0., 0., 0., 0.],\n",
       "             [0., 0., 0., 0., 0., 0., 0., 0., 0., 0., 0., 0., 0., 0., 0.,\n",
       "              0., 0., 0., 0., 0.],\n",
       "             [0., 0., 0., 0., 0., 0., 0., 0., 0., 0., 0., 0., 0., 0., 0.,\n",
       "              0., 0., 0., 0., 0.],\n",
       "             [0., 0., 0., 0., 0., 0., 0., 0., 0., 0., 0., 0., 0., 0., 0.,\n",
       "              0., 0., 0., 0., 0.],\n",
       "             [0., 0., 0., 0., 0., 0., 0., 0., 0., 0., 0., 0., 0., 0., 0.,\n",
       "              0., 0., 0., 0., 0.]], dtype=float32)"
      ]
     },
     "execution_count": 3,
     "metadata": {},
     "output_type": "execute_result"
    }
   ],
   "source": [
    "key, key_ = jax.random.split(key)\n",
    "carry = nn.GRUCell.initialize_carry(key, (10, ), 20)\n",
    "carry"
   ]
  },
  {
   "cell_type": "code",
   "execution_count": 9,
   "id": "90b6b012-e5b9-4f86-a052-ebd326b8d2c7",
   "metadata": {},
   "outputs": [
    {
     "data": {
      "text/plain": [
       "DeviceArray([[1, 0, 2, 2, 3],\n",
       "             [4, 1, 1, 4, 1],\n",
       "             [4, 3, 3, 0, 0],\n",
       "             [0, 4, 1, 3, 3],\n",
       "             [4, 2, 0, 4, 2],\n",
       "             [0, 3, 0, 1, 2],\n",
       "             [4, 4, 1, 1, 0],\n",
       "             [3, 0, 0, 3, 2],\n",
       "             [4, 3, 0, 2, 3],\n",
       "             [1, 3, 4, 2, 3]], dtype=int32)"
      ]
     },
     "execution_count": 9,
     "metadata": {},
     "output_type": "execute_result"
    }
   ],
   "source": [
    "key, key_ = jax.random.split(key)\n",
    "a = jax.random.categorical(key_, np.asarray([0.1, 0.1, 0.1, 0.1, 0.1]), shape=(10, 5))\n",
    "a"
   ]
  },
  {
   "cell_type": "code",
   "execution_count": 11,
   "id": "25087f72-a2ee-4067-b957-16b190c9199a",
   "metadata": {},
   "outputs": [],
   "source": [
    "class GRU(nn.Module):\n",
    "    batch_size : int\n",
    "    hidden_size: int\n",
    "    @nn.compact\n",
    "    def __call__(\n",
    "        self, \n",
    "        key, \n",
    "        inputs # (batch_size, seq_len, embed_dim)\n",
    "    ):\n",
    "        x = nn.GRUCell.initialize_carry(key, (self.batch_size, ), self.hidden_size)\n",
    "        \n",
    "        def gru_output(i, x):\n",
    "            _, x =  nn.GRUCell()(x, inputs[:, i, :])\n",
    "            return x\n",
    "        \n",
    "        for i in range(inputs.shape[1]):\n",
    "            x =  gru_output(i, x)\n",
    "        return x\n",
    "\n",
    "\n",
    "@struct.dataclass\n",
    "class BCQConfig:\n",
    "    hidden_size: int\n",
    "    output_size: int\n",
    "    embed_dim: int\n",
    "\n",
    "class QNet(nn.Module):\n",
    "    embed_dim: int\n",
    "    output_size: int\n",
    "    hidden_dim: int\n",
    "    dropout_rate: float\n",
    "\n",
    "    @staticmethod\n",
    "    def initialize_carry(key:jax.random.PRNGKey, batch_size:int, hidden_size:int):\n",
    "        return nn.GRUCell.initialize_carry(key, (batch_size, ), hidden_size)\n",
    "\n",
    "\n",
    "    @nn.compact\n",
    "    def __call__(\n",
    "        self,\n",
    "        key:jax.random.PRNGKey,\n",
    "        inputs:jnp.ndarray,     # (batch_size, seq_len)\n",
    "        training: Optional[bool]=True\n",
    "    ):\n",
    "\n",
    "        x = nn.Embed(self.embed_dim, self.output_size+1)(inputs)\n",
    "        x = GRU(inputs.shape[0], self.hidden_dim)(key, x)\n",
    "        x = nn.Dropout(self.dropout_rate)(x, deterministic=not training)\n",
    "    \n",
    "        behavior = nn.Dense(self.output_size)(x)\n",
    "        behavior = nn.softmax(behavior)\n",
    "\n",
    "        qvalue = nn.Dense(self.output_size)(x)\n",
    "        return behavior, qvalue\n",
    "    \n"
   ]
  },
  {
   "cell_type": "code",
   "execution_count": 16,
   "id": "764174a2-fa3a-4483-b45d-0ed089ae6336",
   "metadata": {},
   "outputs": [],
   "source": [
    "key, key1, key2, key3 = jax.random.split(key, 4)\n",
    "model = QNet(10, 5, 10, 0.5)\n",
    "params = model.init({\"params\": key1, \"dropout\": key3}, key2, jnp.ones((10, 5), dtype=jnp.int32))[\"params\"]"
   ]
  },
  {
   "cell_type": "code",
   "execution_count": null,
   "id": "671af8e6-ae0e-476b-a635-e8265eb3f92c",
   "metadata": {},
   "outputs": [],
   "source": []
  }
 ],
 "metadata": {
  "kernelspec": {
   "display_name": "Python 3 (ipykernel)",
   "language": "python",
   "name": "python3"
  },
  "language_info": {
   "codemirror_mode": {
    "name": "ipython",
    "version": 3
   },
   "file_extension": ".py",
   "mimetype": "text/x-python",
   "name": "python",
   "nbconvert_exporter": "python",
   "pygments_lexer": "ipython3",
   "version": "3.8.10"
  }
 },
 "nbformat": 4,
 "nbformat_minor": 5
}
