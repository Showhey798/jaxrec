{
 "cells": [
  {
   "cell_type": "markdown",
   "id": "4658c7de-eb53-4264-8553-690749543434",
   "metadata": {
    "tags": []
   },
   "source": [
    "# GRU4Rec"
   ]
  },
  {
   "cell_type": "code",
   "execution_count": 1,
   "id": "09ac0aae-4e13-4831-acf9-fe88bbf26328",
   "metadata": {},
   "outputs": [],
   "source": [
    "%load_ext autoreload\n",
    "%autoreload 2"
   ]
  },
  {
   "cell_type": "code",
   "execution_count": 2,
   "id": "6820380f-9830-402a-9bc1-80173ddaa311",
   "metadata": {},
   "outputs": [],
   "source": [
    "from collections import OrderedDict\n",
    "import pandas as pd\n",
    "import numpy as np\n",
    "from recs.evaluator import evaluate\n",
    "from recs import utils\n",
    "from recs.jaxmodels import GRU4Rec, GRU4RecConfig\n",
    "from recs.dataset import session_parallel_dataset\n",
    "\n",
    "import optax\n",
    "from flax.training import train_state\n",
    "from flax.training import common_utils\n",
    "from flax import linen as nn\n",
    "\n",
    "import tensorflow as tf\n",
    "from tqdm.notebook import tqdm\n",
    "\n",
    "import jax\n",
    "from jax import numpy as jnp"
   ]
  },
  {
   "cell_type": "code",
   "execution_count": 3,
   "id": "84632753-e551-4c4b-8519-13703fd9c0e6",
   "metadata": {},
   "outputs": [],
   "source": [
    "data = pd.read_pickle(\"~/work/dataset/RC15/derived/train.df\")\n",
    "test_data = pd.read_pickle(\"~/work/dataset/RC15/derived/test.df\")"
   ]
  },
  {
   "cell_type": "code",
   "execution_count": 4,
   "id": "63d05173-fab4-4e33-962a-6c364fdc365a",
   "metadata": {},
   "outputs": [],
   "source": [
    "train_data, total_length = session_parallel_dataset(batch_size = 500)"
   ]
  },
  {
   "cell_type": "code",
   "execution_count": 5,
   "id": "f5f1efc7-3879-470f-8c8e-0c819e2dc2f0",
   "metadata": {},
   "outputs": [],
   "source": [
    "num_items = max(data.itemId.max(), test_data.itemId.max()) + 1"
   ]
  },
  {
   "cell_type": "code",
   "execution_count": 6,
   "id": "dc3b72e5-b819-4b92-80bd-3a363d9734da",
   "metadata": {},
   "outputs": [],
   "source": [
    "def create_train_state(key, config):\n",
    "    model = GRU4Rec(config)\n",
    "    hidden = model.init_hidden(config.batch_size, config.hidden_size, config.num_layers)\n",
    "    params = model.init(key, jnp.ones((config.batch_size,), dtype=jnp.float32), hidden)[\"params\"]\n",
    "    tx = optax.adagrad(config.learning_rate)\n",
    "    return train_state.TrainState.create(apply_fn=model.apply, params=params, tx=tx), hidden, model"
   ]
  },
  {
   "cell_type": "code",
   "execution_count": 9,
   "id": "322f377d-b3a5-4c4c-a991-2c30c57e3238",
   "metadata": {},
   "outputs": [],
   "source": [
    "@jax.jit\n",
    "def train_step(state, x, y, mask, hidden):\n",
    "    mask = jnp.expand_dims(mask, axis=-1)\n",
    "    hidden = mask * hidden\n",
    "    def loss_fn(params, hidden):\n",
    "        logits, hidden = model.apply({\"params\":params}, x, hidden)\n",
    "        logit_sampled = logits[:, y.reshape(-1)]\n",
    "        one_hot_labels = jax.nn.one_hot(jnp.arange(y.shape[0]), num_classes=y.shape[0])\n",
    "        loss = -jnp.mean(one_hot_labels * logit_sampled)\n",
    "        return loss, hidden\n",
    "    (loss, hidden), grads = jax.value_and_grad(loss_fn, has_aux=True)(state.params, hidden)\n",
    "    state = state.apply_gradients(grads=grads)\n",
    "    return state, loss, hidden"
   ]
  },
  {
   "cell_type": "code",
   "execution_count": 15,
   "id": "3c757329-68e3-43eb-8cab-999877bf780d",
   "metadata": {
    "tags": []
   },
   "outputs": [
    {
     "data": {
      "application/vnd.jupyter.widget-view+json": {
       "model_id": "1001b5c987244c3aab86931d9cd94f6c",
       "version_major": 2,
       "version_minor": 0
      },
      "text/plain": [
       "[Epoch 0] training:   0%|          | 0/47456 [00:00<?, ?it/s]"
      ]
     },
     "metadata": {},
     "output_type": "display_data"
    },
    {
     "data": {
      "application/vnd.jupyter.widget-view+json": {
       "model_id": "03e33d0814254cce89054b809484da52",
       "version_major": 2,
       "version_minor": 0
      },
      "text/plain": [
       "[Epoch 1] training:   0%|          | 0/47456 [00:00<?, ?it/s]"
      ]
     },
     "metadata": {},
     "output_type": "display_data"
    },
    {
     "data": {
      "application/vnd.jupyter.widget-view+json": {
       "model_id": "343d161933854fb19b918c4d71bbbb44",
       "version_major": 2,
       "version_minor": 0
      },
      "text/plain": [
       "[Epoch 2] training:   0%|          | 0/47456 [00:00<?, ?it/s]"
      ]
     },
     "metadata": {},
     "output_type": "display_data"
    },
    {
     "name": "stderr",
     "output_type": "stream",
     "text": [
      "IOPub message rate exceeded.\n",
      "The Jupyter server will temporarily stop sending output\n",
      "to the client in order to avoid crashing it.\n",
      "To change this limit, set the config variable\n",
      "`--ServerApp.iopub_msg_rate_limit`.\n",
      "\n",
      "Current values:\n",
      "ServerApp.iopub_msg_rate_limit=1000.0 (msgs/sec)\n",
      "ServerApp.rate_limit_window=3.0 (secs)\n",
      "\n",
      "IOPub message rate exceeded.\n",
      "The Jupyter server will temporarily stop sending output\n",
      "to the client in order to avoid crashing it.\n",
      "To change this limit, set the config variable\n",
      "`--ServerApp.iopub_msg_rate_limit`.\n",
      "\n",
      "Current values:\n",
      "ServerApp.iopub_msg_rate_limit=1000.0 (msgs/sec)\n",
      "ServerApp.rate_limit_window=3.0 (secs)\n",
      "\n",
      "IOPub message rate exceeded.\n",
      "The Jupyter server will temporarily stop sending output\n",
      "to the client in order to avoid crashing it.\n",
      "To change this limit, set the config variable\n",
      "`--ServerApp.iopub_msg_rate_limit`.\n",
      "\n",
      "Current values:\n",
      "ServerApp.iopub_msg_rate_limit=1000.0 (msgs/sec)\n",
      "ServerApp.rate_limit_window=3.0 (secs)\n",
      "\n",
      "IOPub message rate exceeded.\n",
      "The Jupyter server will temporarily stop sending output\n",
      "to the client in order to avoid crashing it.\n",
      "To change this limit, set the config variable\n",
      "`--ServerApp.iopub_msg_rate_limit`.\n",
      "\n",
      "Current values:\n",
      "ServerApp.iopub_msg_rate_limit=1000.0 (msgs/sec)\n",
      "ServerApp.rate_limit_window=3.0 (secs)\n",
      "\n",
      "IOPub message rate exceeded.\n",
      "The Jupyter server will temporarily stop sending output\n",
      "to the client in order to avoid crashing it.\n",
      "To change this limit, set the config variable\n",
      "`--ServerApp.iopub_msg_rate_limit`.\n",
      "\n",
      "Current values:\n",
      "ServerApp.iopub_msg_rate_limit=1000.0 (msgs/sec)\n",
      "ServerApp.rate_limit_window=3.0 (secs)\n",
      "\n",
      "IOPub message rate exceeded.\n",
      "The Jupyter server will temporarily stop sending output\n",
      "to the client in order to avoid crashing it.\n",
      "To change this limit, set the config variable\n",
      "`--ServerApp.iopub_msg_rate_limit`.\n",
      "\n",
      "Current values:\n",
      "ServerApp.iopub_msg_rate_limit=1000.0 (msgs/sec)\n",
      "ServerApp.rate_limit_window=3.0 (secs)\n",
      "\n",
      "IOPub message rate exceeded.\n",
      "The Jupyter server will temporarily stop sending output\n",
      "to the client in order to avoid crashing it.\n",
      "To change this limit, set the config variable\n",
      "`--ServerApp.iopub_msg_rate_limit`.\n",
      "\n",
      "Current values:\n",
      "ServerApp.iopub_msg_rate_limit=1000.0 (msgs/sec)\n",
      "ServerApp.rate_limit_window=3.0 (secs)\n",
      "\n"
     ]
    }
   ],
   "source": [
    "config = GRU4RecConfig(\n",
    "    hidden_size=100, \n",
    "    output_size=num_items, \n",
    "    batch_size=500, \n",
    "    dropout_hidden=0., \n",
    "    learning_rate=0.01, \n",
    "    momentum=0.,\n",
    "    final_act=\"log_softmax\"\n",
    ")\n",
    "num_epochs = 100\n",
    "state, hidden, model = create_train_state(jax.random.PRNGKey(1), config)\n",
    "\n",
    "before_loss = np.inf\n",
    "stop_count = 0\n",
    "for epoch in range(num_epochs):\n",
    "    batch_loss = 0.\n",
    "    with tqdm(enumerate(train_data.as_numpy_iterator()), desc=\"[Epoch %d] training\"%epoch, total=total_length) as ts:\n",
    "        for i, batch in ts:\n",
    "            batch = common_utils.shard(batch)\n",
    "            inputs, targets, masks = batch[\"input\"], batch[\"target\"], batch[\"mask\"]\n",
    "            state, loss, hidden = train_step(state, inputs, targets, masks, hidden)\n",
    "            batch_loss += loss\n",
    "            ts.set_postfix(OrderedDict(loss=batch_loss/(i + 1)))\n",
    "            \n",
    "    if before_loss > batch_loss:\n",
    "        before_loss = batch_loss\n",
    "    else:\n",
    "        stop_count += 1\n",
    "    \n",
    "    if stop_count > 3:\n",
    "        break"
   ]
  },
  {
   "cell_type": "code",
   "execution_count": 16,
   "id": "de125a9a-2954-49ab-8e04-e609404ae1f9",
   "metadata": {},
   "outputs": [],
   "source": [
    "test_data, test_len = session_parallel_dataset(path=\"~/work/dataset/RC15/derived/test.df\", batch_size=500)"
   ]
  },
  {
   "cell_type": "code",
   "execution_count": null,
   "id": "d404d11b-34b4-4910-bb45-93f33c3c9f5e",
   "metadata": {},
   "outputs": [
    {
     "data": {
      "application/vnd.jupyter.widget-view+json": {
       "model_id": "339c7fe122c54f24a5629c1834f77877",
       "version_major": 2,
       "version_minor": 0
      },
      "text/plain": [
       "evaluating:   0%|          | 0/11861 [00:00<?, ?it/s]"
      ]
     },
     "metadata": {},
     "output_type": "display_data"
    }
   ],
   "source": [
    "k =20\n",
    " \n",
    "hidden = model.init_hidden(config.batch_size, config.hidden_size, config.num_layers)\n",
    "recalls, mrrs = [], []\n",
    "for i, batch in tqdm(enumerate(test_data.as_numpy_iterator()), desc=\"evaluating\", total=test_len):\n",
    "    batch = common_utils.shard(batch)\n",
    "    inputs, targets, masks = jnp.squeeze(batch[\"input\"]), jnp.squeeze(batch[\"target\"]), jnp.squeeze(batch[\"mask\"])\n",
    "    masks = jnp.expand_dims(masks, axis=-1)\n",
    "    hidden = masks * hidden\n",
    "    logits, hidden = jax.jit(model.apply)({\"params\":state.params}, inputs, hidden)\n",
    "    \n",
    "    _, indices = jax.lax.top_k(logits, k=k)\n",
    "    targets = jnp.expand_dims(targets, axis=-1)\n",
    "    \n",
    "    mrr = jnp.reciprocal((indices == targets).nonzero()[1] + 1)\n",
    "    mrrs += [np.asarray(jnp.sum(mrr) / targets.shape[0])]\n",
    "    \n",
    "    recall = jnp.sum(indices == targets) / targets.shape[0]\n",
    "    recalls += [np.asarray(recall)]"
   ]
  },
  {
   "cell_type": "code",
   "execution_count": 18,
   "id": "756a7a00-7597-4c13-9880-f2b02cc7f4f6",
   "metadata": {},
   "outputs": [
    {
     "data": {
      "text/plain": [
       "(0.00052450446, 9.2177936e-05)"
      ]
     },
     "execution_count": 18,
     "metadata": {},
     "output_type": "execute_result"
    }
   ],
   "source": [
    "np.mean(recalls), np.mean(mrrs)"
   ]
  },
  {
   "cell_type": "code",
   "execution_count": 15,
   "id": "8167ba2c-f945-4f1b-a636-e5370e2309eb",
   "metadata": {},
   "outputs": [
    {
     "data": {
      "text/plain": [
       "(0.011284523, 0.028880699)"
      ]
     },
     "execution_count": 15,
     "metadata": {},
     "output_type": "execute_result"
    }
   ],
   "source": [
    "recalls = np.stack(recalls)\n",
    "mrrs = np.stack(mrrs)\n",
    "np.mean(recalls), np.std(recalls)"
   ]
  },
  {
   "cell_type": "code",
   "execution_count": 16,
   "id": "8cd02ca3-4e51-4419-9d99-81d6f6350cda",
   "metadata": {
    "tags": []
   },
   "outputs": [
    {
     "data": {
      "text/plain": [
       "(11855,)"
      ]
     },
     "execution_count": 16,
     "metadata": {},
     "output_type": "execute_result"
    }
   ],
   "source": [
    "recalls.shape"
   ]
  },
  {
   "cell_type": "code",
   "execution_count": 17,
   "id": "bb84f4b3-3771-4758-9b96-ca0e4641ce01",
   "metadata": {},
   "outputs": [
    {
     "data": {
      "text/plain": [
       "{'whiskers': [<matplotlib.lines.Line2D at 0x7f28f838fac0>,\n",
       "  <matplotlib.lines.Line2D at 0x7f28f838fd90>],\n",
       " 'caps': [<matplotlib.lines.Line2D at 0x7f28f83ab160>,\n",
       "  <matplotlib.lines.Line2D at 0x7f28f83ab370>],\n",
       " 'boxes': [<matplotlib.lines.Line2D at 0x7f28f8384670>],\n",
       " 'medians': [<matplotlib.lines.Line2D at 0x7f28f83ab640>],\n",
       " 'fliers': [<matplotlib.lines.Line2D at 0x7f28f83ab910>],\n",
       " 'means': []}"
      ]
     },
     "execution_count": 17,
     "metadata": {},
     "output_type": "execute_result"
    },
    {
     "data": {
      "image/png": "[encoded data removed]",
      "text/plain": [
       "<Figure size 432x288 with 1 Axes>"
      ]
     },
     "metadata": {
      "needs_background": "light"
     },
     "output_type": "display_data"
    }
   ],
   "source": [
    "import matplotlib.pyplot as plt\n",
    "plt.boxplot(recalls)"
   ]
  },
  {
   "cell_type": "markdown",
   "id": "0b1ee9d5-e05c-46bd-9672-f23300de852b",
   "metadata": {},
   "source": [
    "# Popularityモデル"
   ]
  },
  {
   "cell_type": "code",
   "execution_count": 4,
   "id": "1231890c-493f-459a-ae99-c19358671d0e",
   "metadata": {},
   "outputs": [],
   "source": [
    "class Pop:\n",
    "    \n",
    "    def __init__(self, top_n = 100, item_key = 'itemId', support_by_key = None):\n",
    "        self.top_n = top_n\n",
    "        self.item_key = item_key\n",
    "        self.support_by_key = support_by_key\n",
    "    \n",
    "    def fit(self, data):\n",
    "        grp = data.groupby(self.item_key)\n",
    "        self.pop_list = grp.size() if self.support_by_key is None else grp[self.support_by_key].nunique()\n",
    "        self.pop_list = self.pop_list / (self.pop_list + 1)\n",
    "        self.pop_list.sort_values(ascending=False, inplace=True)\n",
    "        self.pop_list = self.pop_list.head(self.top_n)  \n",
    "    \n",
    "    def predict_next(self, session_id, input_item_id, predict_for_item_ids):\n",
    "\n",
    "        preds = np.zeros(len(predict_for_item_ids))\n",
    "        mask = np.in1d(predict_for_item_ids, self.pop_list.index)\n",
    "        preds[mask] = self.pop_list[predict_for_item_ids[mask]]\n",
    "        return pd.Series(data=preds, index=predict_for_item_ids)"
   ]
  },
  {
   "cell_type": "code",
   "execution_count": 5,
   "id": "6595fdaa-15da-4c86-a553-6708e4465315",
   "metadata": {},
   "outputs": [],
   "source": [
    "pop_model = Pop(top_n=20)\n",
    "pop_model.fit(data)"
   ]
  },
  {
   "cell_type": "code",
   "execution_count": 8,
   "id": "adaf6aee-f8c4-4945-bb7d-d22e12f23b35",
   "metadata": {},
   "outputs": [],
   "source": [
    "test_sess = test_data.groupby(\"sessionId\")[\"itemId\"].unique().reset_index()"
   ]
  },
  {
   "cell_type": "code",
   "execution_count": 9,
   "id": "9f5c667e-98d6-4062-baaa-a143d0e9fc2e",
   "metadata": {},
   "outputs": [],
   "source": [
    "predict_for_item_ids = data[\"itemId\"].unique()"
   ]
  },
  {
   "cell_type": "code",
   "execution_count": null,
   "id": "75489973-6697-4bd8-b562-6ed268a8f33d",
   "metadata": {},
   "outputs": [],
   "source": [
    "test_sess[\"pred_items\"] = test_sess[\"sessionId\"].apply(lambda x: pop_model.predict_next(x, 0, predict_for_item_ids).sort_values().tail(20).index)"
   ]
  },
  {
   "cell_type": "code",
   "execution_count": null,
   "id": "e070602e-fa5b-46cf-9976-2fcb8c0b56d2",
   "metadata": {},
   "outputs": [],
   "source": [
    "test_sess"
   ]
  },
  {
   "cell_type": "code",
   "execution_count": 28,
   "id": "af0ddc4f-11a5-45ba-b13a-a54e5681c7cc",
   "metadata": {},
   "outputs": [],
   "source": [
    "import joblib"
   ]
  },
  {
   "cell_type": "code",
   "execution_count": 29,
   "id": "fcaa7a51-c882-40e6-863b-ac53c8e0b52c",
   "metadata": {},
   "outputs": [],
   "source": [
    "calc_recall = lambda x: len(set(pop_model.predict_next(x, 0, predict_for_item_ids).sort_values().tail(20).index) & set(test_sess[test_sess[\"sessionId\"] == x][\"itemId\"].values[0])) / len(test_sess[test_sess[\"sessionId\"] == x][\"itemId\"].values[0]) "
   ]
  },
  {
   "cell_type": "code",
   "execution_count": 32,
   "id": "33c7854e-dc1b-4f0a-8d83-e31fc0b04652",
   "metadata": {},
   "outputs": [
    {
     "data": {
      "application/vnd.jupyter.widget-view+json": {
       "model_id": "88369ee256fe4dfdb7e7f8a4b33c55a2",
       "version_major": 2,
       "version_minor": 0
      },
      "text/plain": [
       "  0%|          | 0/1995220 [00:00<?, ?it/s]"
      ]
     },
     "metadata": {},
     "output_type": "display_data"
    }
   ],
   "source": [
    "recalls = [calc_recall(x) for x in tqdm(test_sess[\"sessionId\"].unique())]"
   ]
  },
  {
   "cell_type": "code",
   "execution_count": 33,
   "id": "1de98860-29a2-4e39-8267-29320c24f793",
   "metadata": {},
   "outputs": [
    {
     "data": {
      "text/plain": [
       "0.044196720948628046"
      ]
     },
     "execution_count": 33,
     "metadata": {},
     "output_type": "execute_result"
    }
   ],
   "source": [
    "np.mean(recalls)"
   ]
  },
  {
   "cell_type": "code",
   "execution_count": 21,
   "id": "9500ec78-a8ab-4d99-a078-c25e316e4b30",
   "metadata": {},
   "outputs": [
    {
     "data": {
      "text/plain": [
       "array([27574, 28208])"
      ]
     },
     "execution_count": 21,
     "metadata": {},
     "output_type": "execute_result"
    }
   ],
   "source": [
    "test_sess[test_sess[\"sessionId\"] == x][\"itemId\"].values[0]"
   ]
  },
  {
   "cell_type": "code",
   "execution_count": null,
   "id": "8c513db6-4f2d-4036-a10f-354261367bcb",
   "metadata": {},
   "outputs": [],
   "source": []
  }
 ],
 "metadata": {
  "kernelspec": {
   "display_name": "Python 3 (ipykernel)",
   "language": "python",
   "name": "python3"
  },
  "language_info": {
   "codemirror_mode": {
    "name": "ipython",
    "version": 3
   },
   "file_extension": ".py",
   "mimetype": "text/x-python",
   "name": "python",
   "nbconvert_exporter": "python",
   "pygments_lexer": "ipython3",
   "version": "3.8.10"
  }
 },
 "nbformat": 4,
 "nbformat_minor": 5
}
