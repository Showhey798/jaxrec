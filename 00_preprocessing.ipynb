{
 "cells": [
  {
   "cell_type": "code",
   "execution_count": 1,
   "id": "ff211d34-5c14-45ca-9cde-d06cf4701d34",
   "metadata": {},
   "outputs": [],
   "source": [
    "import sys\n",
    "import os\n",
    "import pandas as pd\n",
    "import numpy as np\n",
    "from dateutil.relativedelta import relativedelta\n",
    "from sklearn.preprocessing import LabelEncoder"
   ]
  },
  {
   "cell_type": "markdown",
   "id": "3631de2e-d354-4ccc-86a5-e27b8368f952",
   "metadata": {},
   "source": [
    "# RecSys Challenge 2015のデータセット"
   ]
  },
  {
   "cell_type": "code",
   "execution_count": 2,
   "id": "2dec4c65-424b-4ce2-badf-bc6fd37def2e",
   "metadata": {
    "tags": []
   },
   "outputs": [
    {
     "name": "stderr",
     "output_type": "stream",
     "text": [
      "/tmp/ipykernel_291/2692782158.py:1: DtypeWarning: Columns (3) have mixed types. Specify dtype option on import or set low_memory=False.\n",
      "  train_df = pd.read_csv(\"/home/inoue/work/dataset/RC15/yoochoose-clicks.dat\", header=None)\n",
      "/tmp/ipykernel_291/2692782158.py:2: DtypeWarning: Columns (3) have mixed types. Specify dtype option on import or set low_memory=False.\n",
      "  test_df = pd.read_csv(\"/home/inoue/work/dataset/RC15/yoochoose-test.dat\", header=None)\n"
     ]
    }
   ],
   "source": [
    "train_df = pd.read_csv(\"/home/inoue/work/dataset/RC15/yoochoose-clicks.dat\", header=None)\n",
    "test_df = pd.read_csv(\"/home/inoue/work/dataset/RC15/yoochoose-test.dat\", header=None)"
   ]
  },
  {
   "cell_type": "code",
   "execution_count": 3,
   "id": "539e836a-b33d-45f5-8b5f-15e22ebf21f3",
   "metadata": {},
   "outputs": [],
   "source": [
    "train_df.columns = [\"sessionId\", \"timestamp\", \"itemId\", \"categoryId\"]\n",
    "test_df.columns = [\"sessionId\", \"timestamp\", \"itemId\", \"categoryId\"]"
   ]
  },
  {
   "cell_type": "code",
   "execution_count": 4,
   "id": "9b0b42d4-b792-4e1d-8aed-9f9a3f8f3bd2",
   "metadata": {},
   "outputs": [],
   "source": [
    "train_df[\"timestamp\"] = pd.to_datetime(train_df[\"timestamp\"], format=\"%Y-%m-%dT%H:%M:%S.%fZ\")\n",
    "test_df[\"timestamp\"] = pd.to_datetime(test_df[\"timestamp\"], format=\"%Y-%m-%dT%H:%M:%S.%fZ\")"
   ]
  },
  {
   "cell_type": "code",
   "execution_count": 5,
   "id": "dd95def1-b95a-4e9d-9cbe-3ad9e0f3c222",
   "metadata": {},
   "outputs": [],
   "source": [
    "# アイテム数が4より小さいものを削除\n",
    "remove_items = train_df.groupby(\"itemId\").size()\n",
    "remove_items = remove_items[remove_items > 4].index\n",
    "train_df = train_df[train_df[\"itemId\"].isin(remove_items)]"
   ]
  },
  {
   "cell_type": "code",
   "execution_count": 6,
   "id": "0e1cd6e5-8e80-4936-a6cb-0f9458632bd0",
   "metadata": {
    "tags": []
   },
   "outputs": [],
   "source": [
    "# sessionの長さが1のものを消去\n",
    "train_session_len = train_df.groupby(\"sessionId\").size()\n",
    "train_df = train_df[train_df[\"sessionId\"].isin(train_session_len[train_session_len > 1].index)]"
   ]
  },
  {
   "cell_type": "code",
   "execution_count": 7,
   "id": "dad92c42-05d3-445a-aae2-166ca758b559",
   "metadata": {},
   "outputs": [
    {
     "data": {
      "text/html": [
       "<div>\n",
       "<style scoped>\n",
       "    .dataframe tbody tr th:only-of-type {\n",
       "        vertical-align: middle;\n",
       "    }\n",
       "\n",
       "    .dataframe tbody tr th {\n",
       "        vertical-align: top;\n",
       "    }\n",
       "\n",
       "    .dataframe thead th {\n",
       "        text-align: right;\n",
       "    }\n",
       "</style>\n",
       "<table border=\"1\" class=\"dataframe\">\n",
       "  <thead>\n",
       "    <tr style=\"text-align: right;\">\n",
       "      <th></th>\n",
       "      <th>sessionId</th>\n",
       "      <th>timestamp</th>\n",
       "      <th>itemId</th>\n",
       "      <th>categoryId</th>\n",
       "    </tr>\n",
       "  </thead>\n",
       "  <tbody>\n",
       "    <tr>\n",
       "      <th>1031562</th>\n",
       "      <td>351646</td>\n",
       "      <td>2014-04-01 03:00:00.124</td>\n",
       "      <td>214717005</td>\n",
       "      <td>0</td>\n",
       "    </tr>\n",
       "    <tr>\n",
       "      <th>1163646</th>\n",
       "      <td>389654</td>\n",
       "      <td>2014-04-01 03:00:00.567</td>\n",
       "      <td>214826705</td>\n",
       "      <td>0</td>\n",
       "    </tr>\n",
       "    <tr>\n",
       "      <th>885068</th>\n",
       "      <td>263073</td>\n",
       "      <td>2014-04-01 03:00:10.087</td>\n",
       "      <td>214716982</td>\n",
       "      <td>0</td>\n",
       "    </tr>\n",
       "    <tr>\n",
       "      <th>620662</th>\n",
       "      <td>210798</td>\n",
       "      <td>2014-04-01 03:00:13.070</td>\n",
       "      <td>214581827</td>\n",
       "      <td>0</td>\n",
       "    </tr>\n",
       "    <tr>\n",
       "      <th>1217521</th>\n",
       "      <td>375257</td>\n",
       "      <td>2014-04-01 03:00:13.768</td>\n",
       "      <td>214644307</td>\n",
       "      <td>0</td>\n",
       "    </tr>\n",
       "    <tr>\n",
       "      <th>...</th>\n",
       "      <td>...</td>\n",
       "      <td>...</td>\n",
       "      <td>...</td>\n",
       "      <td>...</td>\n",
       "    </tr>\n",
       "    <tr>\n",
       "      <th>32350125</th>\n",
       "      <td>11528554</td>\n",
       "      <td>2014-09-30 02:59:43.577</td>\n",
       "      <td>214572433</td>\n",
       "      <td>S</td>\n",
       "    </tr>\n",
       "    <tr>\n",
       "      <th>32653390</th>\n",
       "      <td>11422848</td>\n",
       "      <td>2014-09-30 02:59:47.397</td>\n",
       "      <td>214859908</td>\n",
       "      <td>S</td>\n",
       "    </tr>\n",
       "    <tr>\n",
       "      <th>32432376</th>\n",
       "      <td>11474968</td>\n",
       "      <td>2014-09-30 02:59:49.546</td>\n",
       "      <td>214685049</td>\n",
       "      <td>3</td>\n",
       "    </tr>\n",
       "    <tr>\n",
       "      <th>32432377</th>\n",
       "      <td>11474968</td>\n",
       "      <td>2014-09-30 02:59:53.315</td>\n",
       "      <td>214685049</td>\n",
       "      <td>3</td>\n",
       "    </tr>\n",
       "    <tr>\n",
       "      <th>32235699</th>\n",
       "      <td>11560908</td>\n",
       "      <td>2014-09-30 02:59:59.430</td>\n",
       "      <td>214694720</td>\n",
       "      <td>12</td>\n",
       "    </tr>\n",
       "  </tbody>\n",
       "</table>\n",
       "<p>31710571 rows × 4 columns</p>\n",
       "</div>"
      ],
      "text/plain": [
       "          sessionId               timestamp     itemId categoryId\n",
       "1031562      351646 2014-04-01 03:00:00.124  214717005          0\n",
       "1163646      389654 2014-04-01 03:00:00.567  214826705          0\n",
       "885068       263073 2014-04-01 03:00:10.087  214716982          0\n",
       "620662       210798 2014-04-01 03:00:13.070  214581827          0\n",
       "1217521      375257 2014-04-01 03:00:13.768  214644307          0\n",
       "...             ...                     ...        ...        ...\n",
       "32350125   11528554 2014-09-30 02:59:43.577  214572433          S\n",
       "32653390   11422848 2014-09-30 02:59:47.397  214859908          S\n",
       "32432376   11474968 2014-09-30 02:59:49.546  214685049          3\n",
       "32432377   11474968 2014-09-30 02:59:53.315  214685049          3\n",
       "32235699   11560908 2014-09-30 02:59:59.430  214694720         12\n",
       "\n",
       "[31710571 rows x 4 columns]"
      ]
     },
     "execution_count": 7,
     "metadata": {},
     "output_type": "execute_result"
    }
   ],
   "source": [
    "train_df = train_df.sort_values(\"timestamp\")\n",
    "train_df"
   ]
  },
  {
   "cell_type": "code",
   "execution_count": 8,
   "id": "0f042388-1d76-4f15-9465-80af3afa8f96",
   "metadata": {},
   "outputs": [],
   "source": [
    "# テストデータからトレインデータに含まれないアイテムを除外\n",
    "test_df = test_df[test_df[\"itemId\"].isin(train_df[\"itemId\"].unique())]"
   ]
  },
  {
   "cell_type": "code",
   "execution_count": 9,
   "id": "c4e97a6f-61cc-46df-ac7a-341cf36d51ac",
   "metadata": {},
   "outputs": [],
   "source": [
    "# テストデータからセッション数が1のものを削除\n",
    "test_session_len = test_df.groupby(\"sessionId\").size()\n",
    "test_df = test_df[test_df.sessionId.isin(test_session_len[test_session_len > 1].index)]"
   ]
  },
  {
   "cell_type": "code",
   "execution_count": 10,
   "id": "9128b6f8-dde6-43ec-a5da-8d86e32ef32c",
   "metadata": {},
   "outputs": [],
   "source": [
    "df = pd.concat([train_df, test_df], axis=0)"
   ]
  },
  {
   "cell_type": "code",
   "execution_count": 11,
   "id": "8559963c-4600-44f1-90aa-520a953b79b6",
   "metadata": {},
   "outputs": [
    {
     "data": {
      "text/html": [
       "<div>\n",
       "<style scoped>\n",
       "    .dataframe tbody tr th:only-of-type {\n",
       "        vertical-align: middle;\n",
       "    }\n",
       "\n",
       "    .dataframe tbody tr th {\n",
       "        vertical-align: top;\n",
       "    }\n",
       "\n",
       "    .dataframe thead th {\n",
       "        text-align: right;\n",
       "    }\n",
       "</style>\n",
       "<table border=\"1\" class=\"dataframe\">\n",
       "  <thead>\n",
       "    <tr style=\"text-align: right;\">\n",
       "      <th></th>\n",
       "      <th>sessionId</th>\n",
       "      <th>timestamp</th>\n",
       "      <th>itemId</th>\n",
       "      <th>categoryId</th>\n",
       "    </tr>\n",
       "  </thead>\n",
       "  <tbody>\n",
       "    <tr>\n",
       "      <th>1031562</th>\n",
       "      <td>351646</td>\n",
       "      <td>2014-04-01 03:00:00.124</td>\n",
       "      <td>214717005</td>\n",
       "      <td>0</td>\n",
       "    </tr>\n",
       "    <tr>\n",
       "      <th>1163646</th>\n",
       "      <td>389654</td>\n",
       "      <td>2014-04-01 03:00:00.567</td>\n",
       "      <td>214826705</td>\n",
       "      <td>0</td>\n",
       "    </tr>\n",
       "    <tr>\n",
       "      <th>885068</th>\n",
       "      <td>263073</td>\n",
       "      <td>2014-04-01 03:00:10.087</td>\n",
       "      <td>214716982</td>\n",
       "      <td>0</td>\n",
       "    </tr>\n",
       "    <tr>\n",
       "      <th>620662</th>\n",
       "      <td>210798</td>\n",
       "      <td>2014-04-01 03:00:13.070</td>\n",
       "      <td>214581827</td>\n",
       "      <td>0</td>\n",
       "    </tr>\n",
       "    <tr>\n",
       "      <th>1217521</th>\n",
       "      <td>375257</td>\n",
       "      <td>2014-04-01 03:00:13.768</td>\n",
       "      <td>214644307</td>\n",
       "      <td>0</td>\n",
       "    </tr>\n",
       "    <tr>\n",
       "      <th>...</th>\n",
       "      <td>...</td>\n",
       "      <td>...</td>\n",
       "      <td>...</td>\n",
       "      <td>...</td>\n",
       "    </tr>\n",
       "    <tr>\n",
       "      <th>8251786</th>\n",
       "      <td>11299820</td>\n",
       "      <td>2014-09-25 08:17:19.053</td>\n",
       "      <td>214853094</td>\n",
       "      <td>3</td>\n",
       "    </tr>\n",
       "    <tr>\n",
       "      <th>8251787</th>\n",
       "      <td>11299815</td>\n",
       "      <td>2014-09-26 09:49:23.602</td>\n",
       "      <td>214854804</td>\n",
       "      <td>S</td>\n",
       "    </tr>\n",
       "    <tr>\n",
       "      <th>8251788</th>\n",
       "      <td>11299815</td>\n",
       "      <td>2014-09-26 09:49:41.808</td>\n",
       "      <td>214714715</td>\n",
       "      <td>S</td>\n",
       "    </tr>\n",
       "    <tr>\n",
       "      <th>8251789</th>\n",
       "      <td>11299810</td>\n",
       "      <td>2014-09-26 16:00:32.051</td>\n",
       "      <td>214546123</td>\n",
       "      <td>2</td>\n",
       "    </tr>\n",
       "    <tr>\n",
       "      <th>8251790</th>\n",
       "      <td>11299810</td>\n",
       "      <td>2014-09-26 16:01:34.314</td>\n",
       "      <td>214546123</td>\n",
       "      <td>2</td>\n",
       "    </tr>\n",
       "  </tbody>\n",
       "</table>\n",
       "<p>39636398 rows × 4 columns</p>\n",
       "</div>"
      ],
      "text/plain": [
       "         sessionId               timestamp     itemId categoryId\n",
       "1031562     351646 2014-04-01 03:00:00.124  214717005          0\n",
       "1163646     389654 2014-04-01 03:00:00.567  214826705          0\n",
       "885068      263073 2014-04-01 03:00:10.087  214716982          0\n",
       "620662      210798 2014-04-01 03:00:13.070  214581827          0\n",
       "1217521     375257 2014-04-01 03:00:13.768  214644307          0\n",
       "...            ...                     ...        ...        ...\n",
       "8251786   11299820 2014-09-25 08:17:19.053  214853094          3\n",
       "8251787   11299815 2014-09-26 09:49:23.602  214854804          S\n",
       "8251788   11299815 2014-09-26 09:49:41.808  214714715          S\n",
       "8251789   11299810 2014-09-26 16:00:32.051  214546123          2\n",
       "8251790   11299810 2014-09-26 16:01:34.314  214546123          2\n",
       "\n",
       "[39636398 rows x 4 columns]"
      ]
     },
     "execution_count": 11,
     "metadata": {},
     "output_type": "execute_result"
    }
   ],
   "source": [
    "df"
   ]
  },
  {
   "cell_type": "code",
   "execution_count": 12,
   "id": "57980e7a-290b-4397-a7e6-72f5891c9682",
   "metadata": {},
   "outputs": [],
   "source": [
    "item_encoder = LabelEncoder()\n",
    "df[\"itemId\"] = item_encoder.fit_transform(df[\"itemId\"])\n",
    "train_df[\"itemId\"] = item_encoder.transform(train_df[\"itemId\"])\n",
    "test_df[\"itemId\"] = item_encoder.transform(test_df[\"itemId\"])"
   ]
  },
  {
   "cell_type": "code",
   "execution_count": 13,
   "id": "3dbc5515-157b-4336-a8a0-71d8cb3b2d9b",
   "metadata": {
    "tags": []
   },
   "outputs": [],
   "source": [
    "session_encoder = LabelEncoder()\n",
    "df[\"sessionId\"] = session_encoder.fit_transform(df[\"sessionId\"])\n",
    "train_df[\"sessionId\"] = session_encoder.transform(train_df[\"sessionId\"])\n",
    "test_df[\"sessionId\"] = session_encoder.transform(test_df[\"sessionId\"])"
   ]
  },
  {
   "cell_type": "code",
   "execution_count": 14,
   "id": "eb5f9c8a-1f0a-4e92-a2df-37cbee9187b7",
   "metadata": {},
   "outputs": [],
   "source": [
    "train_df.to_pickle(\"/home/inoue/work/dataset/RC15/derived/train.df\")\n",
    "test_df.to_pickle(\"/home/inoue/work/dataset/RC15/derived/test.df\")"
   ]
  },
  {
   "cell_type": "code",
   "execution_count": null,
   "id": "29f38b34-64ad-4940-be2b-fdb481ff935e",
   "metadata": {},
   "outputs": [],
   "source": []
  }
 ],
 "metadata": {
  "kernelspec": {
   "display_name": "Python 3 (ipykernel)",
   "language": "python",
   "name": "python3"
  },
  "language_info": {
   "codemirror_mode": {
    "name": "ipython",
    "version": 3
   },
   "file_extension": ".py",
   "mimetype": "text/x-python",
   "name": "python",
   "nbconvert_exporter": "python",
   "pygments_lexer": "ipython3",
   "version": "3.8.10"
  }
 },
 "nbformat": 4,
 "nbformat_minor": 5
}
