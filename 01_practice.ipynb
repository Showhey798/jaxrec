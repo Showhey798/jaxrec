{
 "cells": [
  {
   "cell_type": "code",
   "execution_count": 3,
   "id": "09ac0aae-4e13-4831-acf9-fe88bbf26328",
   "metadata": {},
   "outputs": [],
   "source": [
    "%load_ext autoreload\n",
    "%autoreload 2"
   ]
  },
  {
   "cell_type": "code",
   "execution_count": 4,
   "id": "6820380f-9830-402a-9bc1-80173ddaa311",
   "metadata": {},
   "outputs": [],
   "source": [
    "from collections import OrderedDict\n",
    "import pandas as pd\n",
    "import numpy as np\n",
    "from recs.jaxmodels.cf import mf\n",
    "from recs.evaluator import evaluate\n",
    "from recs import utils\n",
    "from recs.jaxmodels import GRU4Rec, GRU4RecConfig\n",
    "from recs.dataset import session_parallel_dataset\n",
    "\n",
    "import optax\n",
    "from flax.training import train_state\n",
    "from flax.training import common_utils\n",
    "from flax import linen as nn\n",
    "\n",
    "import tensorflow as tf\n",
    "from tqdm.notebook import tqdm\n",
    "\n",
    "import jax\n",
    "from jax import numpy as jnp"
   ]
  },
  {
   "cell_type": "markdown",
   "id": "f95ddd74-5cc3-4c96-9077-95e61eab7f70",
   "metadata": {
    "jp-MarkdownHeadingCollapsed": true,
    "tags": []
   },
   "source": [
    "# MF"
   ]
  },
  {
   "cell_type": "code",
   "execution_count": 93,
   "id": "3873e4c4-b67a-4e4d-b155-c51e70db29a4",
   "metadata": {},
   "outputs": [],
   "source": [
    "def predict_items(params, data, k):\n",
    "    users = np.unique(data[:, 0])\n",
    "    pred_dic = {}\n",
    "    for u in users:\n",
    "        pred_dic[u] = np.asarray(mf.predict(params, u, k))\n",
    "    return pd.DataFrame(pred_dic.items(), columns=[\"userId\", \"itemIds\"])"
   ]
  },
  {
   "cell_type": "code",
   "execution_count": 94,
   "id": "58a595ca-fa94-41ab-8474-6e0f8081b674",
   "metadata": {},
   "outputs": [
    {
     "data": {
      "text/html": [
       "<div>\n",
       "<style scoped>\n",
       "    .dataframe tbody tr th:only-of-type {\n",
       "        vertical-align: middle;\n",
       "    }\n",
       "\n",
       "    .dataframe tbody tr th {\n",
       "        vertical-align: top;\n",
       "    }\n",
       "\n",
       "    .dataframe thead th {\n",
       "        text-align: right;\n",
       "    }\n",
       "</style>\n",
       "<table border=\"1\" class=\"dataframe\">\n",
       "  <thead>\n",
       "    <tr style=\"text-align: right;\">\n",
       "      <th></th>\n",
       "      <th>userId</th>\n",
       "      <th>itemId</th>\n",
       "      <th>rating</th>\n",
       "      <th>timestamp</th>\n",
       "    </tr>\n",
       "  </thead>\n",
       "  <tbody>\n",
       "    <tr>\n",
       "      <th>0</th>\n",
       "      <td>196</td>\n",
       "      <td>242</td>\n",
       "      <td>3</td>\n",
       "      <td>881250949</td>\n",
       "    </tr>\n",
       "    <tr>\n",
       "      <th>1</th>\n",
       "      <td>186</td>\n",
       "      <td>302</td>\n",
       "      <td>3</td>\n",
       "      <td>891717742</td>\n",
       "    </tr>\n",
       "    <tr>\n",
       "      <th>2</th>\n",
       "      <td>22</td>\n",
       "      <td>377</td>\n",
       "      <td>1</td>\n",
       "      <td>878887116</td>\n",
       "    </tr>\n",
       "    <tr>\n",
       "      <th>3</th>\n",
       "      <td>244</td>\n",
       "      <td>51</td>\n",
       "      <td>2</td>\n",
       "      <td>880606923</td>\n",
       "    </tr>\n",
       "    <tr>\n",
       "      <th>4</th>\n",
       "      <td>166</td>\n",
       "      <td>346</td>\n",
       "      <td>1</td>\n",
       "      <td>886397596</td>\n",
       "    </tr>\n",
       "    <tr>\n",
       "      <th>...</th>\n",
       "      <td>...</td>\n",
       "      <td>...</td>\n",
       "      <td>...</td>\n",
       "      <td>...</td>\n",
       "    </tr>\n",
       "    <tr>\n",
       "      <th>99995</th>\n",
       "      <td>880</td>\n",
       "      <td>476</td>\n",
       "      <td>3</td>\n",
       "      <td>880175444</td>\n",
       "    </tr>\n",
       "    <tr>\n",
       "      <th>99996</th>\n",
       "      <td>716</td>\n",
       "      <td>204</td>\n",
       "      <td>5</td>\n",
       "      <td>879795543</td>\n",
       "    </tr>\n",
       "    <tr>\n",
       "      <th>99997</th>\n",
       "      <td>276</td>\n",
       "      <td>1090</td>\n",
       "      <td>1</td>\n",
       "      <td>874795795</td>\n",
       "    </tr>\n",
       "    <tr>\n",
       "      <th>99998</th>\n",
       "      <td>13</td>\n",
       "      <td>225</td>\n",
       "      <td>2</td>\n",
       "      <td>882399156</td>\n",
       "    </tr>\n",
       "    <tr>\n",
       "      <th>99999</th>\n",
       "      <td>12</td>\n",
       "      <td>203</td>\n",
       "      <td>3</td>\n",
       "      <td>879959583</td>\n",
       "    </tr>\n",
       "  </tbody>\n",
       "</table>\n",
       "<p>100000 rows × 4 columns</p>\n",
       "</div>"
      ],
      "text/plain": [
       "       userId  itemId  rating  timestamp\n",
       "0         196     242       3  881250949\n",
       "1         186     302       3  891717742\n",
       "2          22     377       1  878887116\n",
       "3         244      51       2  880606923\n",
       "4         166     346       1  886397596\n",
       "...       ...     ...     ...        ...\n",
       "99995     880     476       3  880175444\n",
       "99996     716     204       5  879795543\n",
       "99997     276    1090       1  874795795\n",
       "99998      13     225       2  882399156\n",
       "99999      12     203       3  879959583\n",
       "\n",
       "[100000 rows x 4 columns]"
      ]
     },
     "metadata": {},
     "output_type": "display_data"
    }
   ],
   "source": [
    "df = pd.read_csv(\"/home/inoue/work/dataset/ml-100k/rating.csv\")\n",
    "display(df)\n",
    "df.columns = [\"userId\", \"itemId\", \"rating\", \"timestamp\"]\n",
    "df[\"userId\"] -= 1\n",
    "df[\"itemId\"] -= 1\n",
    "num_users, num_items = df[\"userId\"].max() + 1, df[\"itemId\"].max() + 1\n",
    "\n",
    "df = df.astype(np.int32)\n",
    "\n",
    "def txs_train_test_split(txs, split_date):\n",
    "    txs_train, txs_test = txs[txs['timestamp'] < split_date], txs[txs['timestamp'] >= split_date]\n",
    "    return txs_train, txs_test\n",
    "\n",
    "split_ind = df.loc[int(len(df)*0.8), \"timestamp\"]\n",
    "\n",
    "train_d, test_d = txs_train_test_split(df, split_ind)"
   ]
  },
  {
   "cell_type": "code",
   "execution_count": 95,
   "id": "d1a02a5a-4250-4059-81d9-c02e7024e831",
   "metadata": {},
   "outputs": [],
   "source": [
    "data = tf.data.Dataset.from_tensor_slices(train_d[[\"userId\", \"itemId\", \"rating\"]].values)\n",
    "train_data = data.shuffle(len(data)).batch(64).prefetch(1)"
   ]
  },
  {
   "cell_type": "code",
   "execution_count": 96,
   "id": "81d95487-df4d-4ddd-9ab7-6725ba0c0567",
   "metadata": {},
   "outputs": [],
   "source": [
    "params = mf.init_params(num_users, num_items, 10)"
   ]
  },
  {
   "cell_type": "code",
   "execution_count": 97,
   "id": "790101fa-270b-473d-9e1c-973c340844e7",
   "metadata": {
    "tags": []
   },
   "outputs": [
    {
     "data": {
      "application/vnd.jupyter.widget-view+json": {
       "model_id": "579f2f35f6b240f190256aa98d522033",
       "version_major": 2,
       "version_minor": 0
      },
      "text/plain": [
       "[Epoch 1]:   0%|          | 0/1253 [00:00<?, ?it/s]"
      ]
     },
     "metadata": {},
     "output_type": "display_data"
    },
    {
     "name": "stdout",
     "output_type": "stream",
     "text": [
      "precision@20 : 0.0047 map@20 : 0.0044 recall@20 : 0.0016 ndcg@20 : 0.0000 mrr@20 : 0.0000 "
     ]
    },
    {
     "data": {
      "application/vnd.jupyter.widget-view+json": {
       "model_id": "b0ce511f373045269f898853a5e44591",
       "version_major": 2,
       "version_minor": 0
      },
      "text/plain": [
       "[Epoch 2]:   0%|          | 0/1253 [00:00<?, ?it/s]"
      ]
     },
     "metadata": {},
     "output_type": "display_data"
    },
    {
     "data": {
      "application/vnd.jupyter.widget-view+json": {
       "model_id": "6f3adac2020a420ab32debebe885779e",
       "version_major": 2,
       "version_minor": 0
      },
      "text/plain": [
       "[Epoch 3]:   0%|          | 0/1253 [00:00<?, ?it/s]"
      ]
     },
     "metadata": {},
     "output_type": "display_data"
    },
    {
     "data": {
      "application/vnd.jupyter.widget-view+json": {
       "model_id": "aed7bb9f243c4132a218151c29f15541",
       "version_major": 2,
       "version_minor": 0
      },
      "text/plain": [
       "[Epoch 4]:   0%|          | 0/1253 [00:00<?, ?it/s]"
      ]
     },
     "metadata": {},
     "output_type": "display_data"
    },
    {
     "data": {
      "application/vnd.jupyter.widget-view+json": {
       "model_id": "e186d85732d4432e9ec44f516baa2b8f",
       "version_major": 2,
       "version_minor": 0
      },
      "text/plain": [
       "[Epoch 5]:   0%|          | 0/1253 [00:00<?, ?it/s]"
      ]
     },
     "metadata": {},
     "output_type": "display_data"
    },
    {
     "data": {
      "application/vnd.jupyter.widget-view+json": {
       "model_id": "e79196f7983c419db86e5ec3cbe4a33a",
       "version_major": 2,
       "version_minor": 0
      },
      "text/plain": [
       "[Epoch 6]:   0%|          | 0/1253 [00:00<?, ?it/s]"
      ]
     },
     "metadata": {},
     "output_type": "display_data"
    },
    {
     "name": "stdout",
     "output_type": "stream",
     "text": [
      "precision@20 : 0.0055 map@20 : 0.0049 recall@20 : 0.0019 ndcg@20 : 0.0000 mrr@20 : 0.0000 "
     ]
    },
    {
     "data": {
      "application/vnd.jupyter.widget-view+json": {
       "model_id": "d85d9c1a7ca34481bab9738f2d50d39e",
       "version_major": 2,
       "version_minor": 0
      },
      "text/plain": [
       "[Epoch 7]:   0%|          | 0/1253 [00:00<?, ?it/s]"
      ]
     },
     "metadata": {},
     "output_type": "display_data"
    },
    {
     "data": {
      "application/vnd.jupyter.widget-view+json": {
       "model_id": "2c468c3cdd41460782e95cdec678e3bc",
       "version_major": 2,
       "version_minor": 0
      },
      "text/plain": [
       "[Epoch 8]:   0%|          | 0/1253 [00:00<?, ?it/s]"
      ]
     },
     "metadata": {},
     "output_type": "display_data"
    },
    {
     "data": {
      "application/vnd.jupyter.widget-view+json": {
       "model_id": "c9bd8d9050a6447492124c9986847134",
       "version_major": 2,
       "version_minor": 0
      },
      "text/plain": [
       "[Epoch 9]:   0%|          | 0/1253 [00:00<?, ?it/s]"
      ]
     },
     "metadata": {},
     "output_type": "display_data"
    },
    {
     "data": {
      "application/vnd.jupyter.widget-view+json": {
       "model_id": "36ffe29431394555a6ca66a961cd46e2",
       "version_major": 2,
       "version_minor": 0
      },
      "text/plain": [
       "[Epoch 10]:   0%|          | 0/1253 [00:00<?, ?it/s]"
      ]
     },
     "metadata": {},
     "output_type": "display_data"
    },
    {
     "data": {
      "application/vnd.jupyter.widget-view+json": {
       "model_id": "64cd2a082e004a11a35436fef46bff20",
       "version_major": 2,
       "version_minor": 0
      },
      "text/plain": [
       "[Epoch 11]:   0%|          | 0/1253 [00:00<?, ?it/s]"
      ]
     },
     "metadata": {},
     "output_type": "display_data"
    },
    {
     "name": "stdout",
     "output_type": "stream",
     "text": [
      "precision@20 : 0.0052 map@20 : 0.0057 recall@20 : 0.0019 ndcg@20 : 0.0000 mrr@20 : 0.0000 "
     ]
    },
    {
     "data": {
      "application/vnd.jupyter.widget-view+json": {
       "model_id": "90ef1a2c3a5b40219b9d5dc04c0d42b9",
       "version_major": 2,
       "version_minor": 0
      },
      "text/plain": [
       "[Epoch 12]:   0%|          | 0/1253 [00:00<?, ?it/s]"
      ]
     },
     "metadata": {},
     "output_type": "display_data"
    },
    {
     "data": {
      "application/vnd.jupyter.widget-view+json": {
       "model_id": "957ac90ecbb343b7bd4e76c7c6680933",
       "version_major": 2,
       "version_minor": 0
      },
      "text/plain": [
       "[Epoch 13]:   0%|          | 0/1253 [00:00<?, ?it/s]"
      ]
     },
     "metadata": {},
     "output_type": "display_data"
    },
    {
     "data": {
      "application/vnd.jupyter.widget-view+json": {
       "model_id": "9b14bcaba72e4e54bbd7a7a935e2a1c1",
       "version_major": 2,
       "version_minor": 0
      },
      "text/plain": [
       "[Epoch 14]:   0%|          | 0/1253 [00:00<?, ?it/s]"
      ]
     },
     "metadata": {},
     "output_type": "display_data"
    },
    {
     "data": {
      "application/vnd.jupyter.widget-view+json": {
       "model_id": "01438aee587e409f8278904e15116222",
       "version_major": 2,
       "version_minor": 0
      },
      "text/plain": [
       "[Epoch 15]:   0%|          | 0/1253 [00:00<?, ?it/s]"
      ]
     },
     "metadata": {},
     "output_type": "display_data"
    },
    {
     "data": {
      "application/vnd.jupyter.widget-view+json": {
       "model_id": "bf5698eba3764ac4ba1f2d41937a3635",
       "version_major": 2,
       "version_minor": 0
      },
      "text/plain": [
       "[Epoch 16]:   0%|          | 0/1253 [00:00<?, ?it/s]"
      ]
     },
     "metadata": {},
     "output_type": "display_data"
    },
    {
     "name": "stdout",
     "output_type": "stream",
     "text": [
      "precision@20 : 0.0049 map@20 : 0.0058 recall@20 : 0.0027 ndcg@20 : 0.0000 mrr@20 : 0.0000 "
     ]
    },
    {
     "data": {
      "application/vnd.jupyter.widget-view+json": {
       "model_id": "6ff7744f75eb4f27ba3a7ae789c91ec0",
       "version_major": 2,
       "version_minor": 0
      },
      "text/plain": [
       "[Epoch 17]:   0%|          | 0/1253 [00:00<?, ?it/s]"
      ]
     },
     "metadata": {},
     "output_type": "display_data"
    },
    {
     "data": {
      "application/vnd.jupyter.widget-view+json": {
       "model_id": "9e6d30957646424da531071d0fb7d587",
       "version_major": 2,
       "version_minor": 0
      },
      "text/plain": [
       "[Epoch 18]:   0%|          | 0/1253 [00:00<?, ?it/s]"
      ]
     },
     "metadata": {},
     "output_type": "display_data"
    },
    {
     "data": {
      "application/vnd.jupyter.widget-view+json": {
       "model_id": "3589f5d672f441caaabe946ea2559dc3",
       "version_major": 2,
       "version_minor": 0
      },
      "text/plain": [
       "[Epoch 19]:   0%|          | 0/1253 [00:00<?, ?it/s]"
      ]
     },
     "metadata": {},
     "output_type": "display_data"
    },
    {
     "data": {
      "application/vnd.jupyter.widget-view+json": {
       "model_id": "80df7ecfff494f1e97886d1601894296",
       "version_major": 2,
       "version_minor": 0
      },
      "text/plain": [
       "[Epoch 20]:   0%|          | 0/1253 [00:00<?, ?it/s]"
      ]
     },
     "metadata": {},
     "output_type": "display_data"
    },
    {
     "data": {
      "application/vnd.jupyter.widget-view+json": {
       "model_id": "6f390f7d357744e8b231aac22298adcb",
       "version_major": 2,
       "version_minor": 0
      },
      "text/plain": [
       "[Epoch 21]:   0%|          | 0/1253 [00:00<?, ?it/s]"
      ]
     },
     "metadata": {},
     "output_type": "display_data"
    },
    {
     "name": "stdout",
     "output_type": "stream",
     "text": [
      "precision@20 : 0.0055 map@20 : 0.0060 recall@20 : 0.0033 ndcg@20 : 0.0000 mrr@20 : 0.0000 "
     ]
    },
    {
     "data": {
      "application/vnd.jupyter.widget-view+json": {
       "model_id": "218fbaa7df4c4007974c0b64e0b0e6e5",
       "version_major": 2,
       "version_minor": 0
      },
      "text/plain": [
       "[Epoch 22]:   0%|          | 0/1253 [00:00<?, ?it/s]"
      ]
     },
     "metadata": {},
     "output_type": "display_data"
    },
    {
     "data": {
      "application/vnd.jupyter.widget-view+json": {
       "model_id": "f16509f7cf1d4729be8e5091fbfa534a",
       "version_major": 2,
       "version_minor": 0
      },
      "text/plain": [
       "[Epoch 23]:   0%|          | 0/1253 [00:00<?, ?it/s]"
      ]
     },
     "metadata": {},
     "output_type": "display_data"
    },
    {
     "data": {
      "application/vnd.jupyter.widget-view+json": {
       "model_id": "0c7801ddab2944fcb0811aadc5a02f82",
       "version_major": 2,
       "version_minor": 0
      },
      "text/plain": [
       "[Epoch 24]:   0%|          | 0/1253 [00:00<?, ?it/s]"
      ]
     },
     "metadata": {},
     "output_type": "display_data"
    },
    {
     "data": {
      "application/vnd.jupyter.widget-view+json": {
       "model_id": "bd874ae1fa904459add79fc0e4b3a1de",
       "version_major": 2,
       "version_minor": 0
      },
      "text/plain": [
       "[Epoch 25]:   0%|          | 0/1253 [00:00<?, ?it/s]"
      ]
     },
     "metadata": {},
     "output_type": "display_data"
    },
    {
     "data": {
      "application/vnd.jupyter.widget-view+json": {
       "model_id": "b7c8a373f10f4a99bb90e31bd5f47358",
       "version_major": 2,
       "version_minor": 0
      },
      "text/plain": [
       "[Epoch 26]:   0%|          | 0/1253 [00:00<?, ?it/s]"
      ]
     },
     "metadata": {},
     "output_type": "display_data"
    },
    {
     "name": "stdout",
     "output_type": "stream",
     "text": [
      "precision@20 : 0.0057 map@20 : 0.0063 recall@20 : 0.0033 ndcg@20 : 0.0000 mrr@20 : 0.0000 "
     ]
    },
    {
     "data": {
      "application/vnd.jupyter.widget-view+json": {
       "model_id": "6e1ccf3edd0443a68e108bfb108861e1",
       "version_major": 2,
       "version_minor": 0
      },
      "text/plain": [
       "[Epoch 27]:   0%|          | 0/1253 [00:00<?, ?it/s]"
      ]
     },
     "metadata": {},
     "output_type": "display_data"
    },
    {
     "data": {
      "application/vnd.jupyter.widget-view+json": {
       "model_id": "debe083917074d96acfa04263b85024f",
       "version_major": 2,
       "version_minor": 0
      },
      "text/plain": [
       "[Epoch 28]:   0%|          | 0/1253 [00:00<?, ?it/s]"
      ]
     },
     "metadata": {},
     "output_type": "display_data"
    },
    {
     "data": {
      "application/vnd.jupyter.widget-view+json": {
       "model_id": "1d6167c86a2645bf99660f4422681b6f",
       "version_major": 2,
       "version_minor": 0
      },
      "text/plain": [
       "[Epoch 29]:   0%|          | 0/1253 [00:00<?, ?it/s]"
      ]
     },
     "metadata": {},
     "output_type": "display_data"
    },
    {
     "data": {
      "application/vnd.jupyter.widget-view+json": {
       "model_id": "8ce137c9c835479aac739a255beac8a6",
       "version_major": 2,
       "version_minor": 0
      },
      "text/plain": [
       "[Epoch 30]:   0%|          | 0/1253 [00:00<?, ?it/s]"
      ]
     },
     "metadata": {},
     "output_type": "display_data"
    },
    {
     "data": {
      "application/vnd.jupyter.widget-view+json": {
       "model_id": "1a855aeeab954a05ad0b24085ab5584c",
       "version_major": 2,
       "version_minor": 0
      },
      "text/plain": [
       "[Epoch 31]:   0%|          | 0/1253 [00:00<?, ?it/s]"
      ]
     },
     "metadata": {},
     "output_type": "display_data"
    },
    {
     "name": "stdout",
     "output_type": "stream",
     "text": [
      "precision@20 : 0.0060 map@20 : 0.0066 recall@20 : 0.0034 ndcg@20 : 0.0000 mrr@20 : 0.0000 "
     ]
    },
    {
     "data": {
      "application/vnd.jupyter.widget-view+json": {
       "model_id": "79ba3f75fdc040259154609bf2b4335f",
       "version_major": 2,
       "version_minor": 0
      },
      "text/plain": [
       "[Epoch 32]:   0%|          | 0/1253 [00:00<?, ?it/s]"
      ]
     },
     "metadata": {},
     "output_type": "display_data"
    },
    {
     "data": {
      "application/vnd.jupyter.widget-view+json": {
       "model_id": "ac2b037b68a4485187fc7d8d0d53d995",
       "version_major": 2,
       "version_minor": 0
      },
      "text/plain": [
       "[Epoch 33]:   0%|          | 0/1253 [00:00<?, ?it/s]"
      ]
     },
     "metadata": {},
     "output_type": "display_data"
    },
    {
     "data": {
      "application/vnd.jupyter.widget-view+json": {
       "model_id": "5d9d4670d9a14aa1960cc26abcc30273",
       "version_major": 2,
       "version_minor": 0
      },
      "text/plain": [
       "[Epoch 34]:   0%|          | 0/1253 [00:00<?, ?it/s]"
      ]
     },
     "metadata": {},
     "output_type": "display_data"
    },
    {
     "data": {
      "application/vnd.jupyter.widget-view+json": {
       "model_id": "d3e7736ff84b42a3be06bd23058ab697",
       "version_major": 2,
       "version_minor": 0
      },
      "text/plain": [
       "[Epoch 35]:   0%|          | 0/1253 [00:00<?, ?it/s]"
      ]
     },
     "metadata": {},
     "output_type": "display_data"
    },
    {
     "data": {
      "application/vnd.jupyter.widget-view+json": {
       "model_id": "6ccb9b4caf084d518df664e57b47c357",
       "version_major": 2,
       "version_minor": 0
      },
      "text/plain": [
       "[Epoch 36]:   0%|          | 0/1253 [00:00<?, ?it/s]"
      ]
     },
     "metadata": {},
     "output_type": "display_data"
    },
    {
     "name": "stdout",
     "output_type": "stream",
     "text": [
      "precision@20 : 0.0062 map@20 : 0.0067 recall@20 : 0.0035 ndcg@20 : 0.0000 mrr@20 : 0.0000 "
     ]
    },
    {
     "data": {
      "application/vnd.jupyter.widget-view+json": {
       "model_id": "ab18413de4574e8e810a842677213a9e",
       "version_major": 2,
       "version_minor": 0
      },
      "text/plain": [
       "[Epoch 37]:   0%|          | 0/1253 [00:00<?, ?it/s]"
      ]
     },
     "metadata": {},
     "output_type": "display_data"
    },
    {
     "data": {
      "application/vnd.jupyter.widget-view+json": {
       "model_id": "07f1adcbd54e4955949f3ced1cbbe989",
       "version_major": 2,
       "version_minor": 0
      },
      "text/plain": [
       "[Epoch 38]:   0%|          | 0/1253 [00:00<?, ?it/s]"
      ]
     },
     "metadata": {},
     "output_type": "display_data"
    },
    {
     "data": {
      "application/vnd.jupyter.widget-view+json": {
       "model_id": "03a4a164ee1941689d6d3458ecaf8990",
       "version_major": 2,
       "version_minor": 0
      },
      "text/plain": [
       "[Epoch 39]:   0%|          | 0/1253 [00:00<?, ?it/s]"
      ]
     },
     "metadata": {},
     "output_type": "display_data"
    },
    {
     "data": {
      "application/vnd.jupyter.widget-view+json": {
       "model_id": "688430152f954f5ba7359ec0282d80f5",
       "version_major": 2,
       "version_minor": 0
      },
      "text/plain": [
       "[Epoch 40]:   0%|          | 0/1253 [00:00<?, ?it/s]"
      ]
     },
     "metadata": {},
     "output_type": "display_data"
    },
    {
     "data": {
      "application/vnd.jupyter.widget-view+json": {
       "model_id": "503855f4dd7f4d29997fd2c73d260a71",
       "version_major": 2,
       "version_minor": 0
      },
      "text/plain": [
       "[Epoch 41]:   0%|          | 0/1253 [00:00<?, ?it/s]"
      ]
     },
     "metadata": {},
     "output_type": "display_data"
    },
    {
     "name": "stdout",
     "output_type": "stream",
     "text": [
      "precision@20 : 0.0067 map@20 : 0.0068 recall@20 : 0.0037 ndcg@20 : 0.0000 mrr@20 : 0.0000 "
     ]
    },
    {
     "data": {
      "application/vnd.jupyter.widget-view+json": {
       "model_id": "6940a4cc66f94d549b75d4693c6ec654",
       "version_major": 2,
       "version_minor": 0
      },
      "text/plain": [
       "[Epoch 42]:   0%|          | 0/1253 [00:00<?, ?it/s]"
      ]
     },
     "metadata": {},
     "output_type": "display_data"
    },
    {
     "data": {
      "application/vnd.jupyter.widget-view+json": {
       "model_id": "42212814632f42f3b9db47ca787c0b65",
       "version_major": 2,
       "version_minor": 0
      },
      "text/plain": [
       "[Epoch 43]:   0%|          | 0/1253 [00:00<?, ?it/s]"
      ]
     },
     "metadata": {},
     "output_type": "display_data"
    },
    {
     "data": {
      "application/vnd.jupyter.widget-view+json": {
       "model_id": "f0ce0d522fc04e1e9e4e47a4cbb13e79",
       "version_major": 2,
       "version_minor": 0
      },
      "text/plain": [
       "[Epoch 44]:   0%|          | 0/1253 [00:00<?, ?it/s]"
      ]
     },
     "metadata": {},
     "output_type": "display_data"
    },
    {
     "data": {
      "application/vnd.jupyter.widget-view+json": {
       "model_id": "dcff583585d149c4bb0447b4ba6d108c",
       "version_major": 2,
       "version_minor": 0
      },
      "text/plain": [
       "[Epoch 45]:   0%|          | 0/1253 [00:00<?, ?it/s]"
      ]
     },
     "metadata": {},
     "output_type": "display_data"
    },
    {
     "data": {
      "application/vnd.jupyter.widget-view+json": {
       "model_id": "447e8e4275244f6da5de8881a8dace95",
       "version_major": 2,
       "version_minor": 0
      },
      "text/plain": [
       "[Epoch 46]:   0%|          | 0/1253 [00:00<?, ?it/s]"
      ]
     },
     "metadata": {},
     "output_type": "display_data"
    },
    {
     "name": "stdout",
     "output_type": "stream",
     "text": [
      "precision@20 : 0.0070 map@20 : 0.0069 recall@20 : 0.0037 ndcg@20 : 0.0000 mrr@20 : 0.0000 "
     ]
    },
    {
     "data": {
      "application/vnd.jupyter.widget-view+json": {
       "model_id": "7cbce0fcdf9f4c52a55c10bdd940af15",
       "version_major": 2,
       "version_minor": 0
      },
      "text/plain": [
       "[Epoch 47]:   0%|          | 0/1253 [00:00<?, ?it/s]"
      ]
     },
     "metadata": {},
     "output_type": "display_data"
    },
    {
     "data": {
      "application/vnd.jupyter.widget-view+json": {
       "model_id": "950e55c250e74fdda21c811c41e73965",
       "version_major": 2,
       "version_minor": 0
      },
      "text/plain": [
       "[Epoch 48]:   0%|          | 0/1253 [00:00<?, ?it/s]"
      ]
     },
     "metadata": {},
     "output_type": "display_data"
    },
    {
     "data": {
      "application/vnd.jupyter.widget-view+json": {
       "model_id": "e067d1e7049f498a8dac1e77a788d0f3",
       "version_major": 2,
       "version_minor": 0
      },
      "text/plain": [
       "[Epoch 49]:   0%|          | 0/1253 [00:00<?, ?it/s]"
      ]
     },
     "metadata": {},
     "output_type": "display_data"
    },
    {
     "data": {
      "application/vnd.jupyter.widget-view+json": {
       "model_id": "d80de04ecd3b4162883f4ef948a9ee34",
       "version_major": 2,
       "version_minor": 0
      },
      "text/plain": [
       "[Epoch 50]:   0%|          | 0/1253 [00:00<?, ?it/s]"
      ]
     },
     "metadata": {},
     "output_type": "display_data"
    },
    {
     "data": {
      "application/vnd.jupyter.widget-view+json": {
       "model_id": "1660eb580bee44f29bae926827ae72b7",
       "version_major": 2,
       "version_minor": 0
      },
      "text/plain": [
       "[Epoch 51]:   0%|          | 0/1253 [00:00<?, ?it/s]"
      ]
     },
     "metadata": {},
     "output_type": "display_data"
    },
    {
     "name": "stdout",
     "output_type": "stream",
     "text": [
      "precision@20 : 0.0067 map@20 : 0.0066 recall@20 : 0.0036 ndcg@20 : 0.0000 mrr@20 : 0.0000 "
     ]
    },
    {
     "data": {
      "application/vnd.jupyter.widget-view+json": {
       "model_id": "9e9ba0762acc4af4b15eb2453ac28f6c",
       "version_major": 2,
       "version_minor": 0
      },
      "text/plain": [
       "[Epoch 52]:   0%|          | 0/1253 [00:00<?, ?it/s]"
      ]
     },
     "metadata": {},
     "output_type": "display_data"
    },
    {
     "data": {
      "application/vnd.jupyter.widget-view+json": {
       "model_id": "28715e9bb7684b1983be70ecfbe58825",
       "version_major": 2,
       "version_minor": 0
      },
      "text/plain": [
       "[Epoch 53]:   0%|          | 0/1253 [00:00<?, ?it/s]"
      ]
     },
     "metadata": {},
     "output_type": "display_data"
    },
    {
     "data": {
      "application/vnd.jupyter.widget-view+json": {
       "model_id": "471a9f4ef0584cd2955333f9005fb56c",
       "version_major": 2,
       "version_minor": 0
      },
      "text/plain": [
       "[Epoch 54]:   0%|          | 0/1253 [00:00<?, ?it/s]"
      ]
     },
     "metadata": {},
     "output_type": "display_data"
    },
    {
     "data": {
      "application/vnd.jupyter.widget-view+json": {
       "model_id": "cc8f47d479c9491086bd5237b2c89125",
       "version_major": 2,
       "version_minor": 0
      },
      "text/plain": [
       "[Epoch 55]:   0%|          | 0/1253 [00:00<?, ?it/s]"
      ]
     },
     "metadata": {},
     "output_type": "display_data"
    },
    {
     "data": {
      "application/vnd.jupyter.widget-view+json": {
       "model_id": "0190ecd5a65e4796ad1c1fbeb4cc69f5",
       "version_major": 2,
       "version_minor": 0
      },
      "text/plain": [
       "[Epoch 56]:   0%|          | 0/1253 [00:00<?, ?it/s]"
      ]
     },
     "metadata": {},
     "output_type": "display_data"
    },
    {
     "name": "stdout",
     "output_type": "stream",
     "text": [
      "precision@20 : 0.0076 map@20 : 0.0066 recall@20 : 0.0035 ndcg@20 : 0.0000 mrr@20 : 0.0000 "
     ]
    },
    {
     "data": {
      "application/vnd.jupyter.widget-view+json": {
       "model_id": "1f5fad81480d4512ba13447bcea7502c",
       "version_major": 2,
       "version_minor": 0
      },
      "text/plain": [
       "[Epoch 57]:   0%|          | 0/1253 [00:00<?, ?it/s]"
      ]
     },
     "metadata": {},
     "output_type": "display_data"
    },
    {
     "data": {
      "application/vnd.jupyter.widget-view+json": {
       "model_id": "b443fc912deb476b9a8d45c570bef46a",
       "version_major": 2,
       "version_minor": 0
      },
      "text/plain": [
       "[Epoch 58]:   0%|          | 0/1253 [00:00<?, ?it/s]"
      ]
     },
     "metadata": {},
     "output_type": "display_data"
    },
    {
     "data": {
      "application/vnd.jupyter.widget-view+json": {
       "model_id": "5864939612e745b8976893a975fcd44b",
       "version_major": 2,
       "version_minor": 0
      },
      "text/plain": [
       "[Epoch 59]:   0%|          | 0/1253 [00:00<?, ?it/s]"
      ]
     },
     "metadata": {},
     "output_type": "display_data"
    },
    {
     "data": {
      "application/vnd.jupyter.widget-view+json": {
       "model_id": "b86bd77a4a924edea45a2ff2b30705ce",
       "version_major": 2,
       "version_minor": 0
      },
      "text/plain": [
       "[Epoch 60]:   0%|          | 0/1253 [00:00<?, ?it/s]"
      ]
     },
     "metadata": {},
     "output_type": "display_data"
    },
    {
     "data": {
      "application/vnd.jupyter.widget-view+json": {
       "model_id": "f80a834a61bb43be989651aab4b1b33a",
       "version_major": 2,
       "version_minor": 0
      },
      "text/plain": [
       "[Epoch 61]:   0%|          | 0/1253 [00:00<?, ?it/s]"
      ]
     },
     "metadata": {},
     "output_type": "display_data"
    },
    {
     "name": "stdout",
     "output_type": "stream",
     "text": [
      "precision@20 : 0.0079 map@20 : 0.0069 recall@20 : 0.0037 ndcg@20 : 0.0000 mrr@20 : 0.0000 "
     ]
    },
    {
     "data": {
      "application/vnd.jupyter.widget-view+json": {
       "model_id": "a950c4a04e23428591e289ac5dff8ce0",
       "version_major": 2,
       "version_minor": 0
      },
      "text/plain": [
       "[Epoch 62]:   0%|          | 0/1253 [00:00<?, ?it/s]"
      ]
     },
     "metadata": {},
     "output_type": "display_data"
    },
    {
     "data": {
      "application/vnd.jupyter.widget-view+json": {
       "model_id": "0a25b70b9a614800b56711f728250f4f",
       "version_major": 2,
       "version_minor": 0
      },
      "text/plain": [
       "[Epoch 63]:   0%|          | 0/1253 [00:00<?, ?it/s]"
      ]
     },
     "metadata": {},
     "output_type": "display_data"
    },
    {
     "data": {
      "application/vnd.jupyter.widget-view+json": {
       "model_id": "baf59e71be9745a9abaf2a3e4df7529e",
       "version_major": 2,
       "version_minor": 0
      },
      "text/plain": [
       "[Epoch 64]:   0%|          | 0/1253 [00:00<?, ?it/s]"
      ]
     },
     "metadata": {},
     "output_type": "display_data"
    },
    {
     "data": {
      "application/vnd.jupyter.widget-view+json": {
       "model_id": "50e4c8cb270840068b1f76f10a0f6113",
       "version_major": 2,
       "version_minor": 0
      },
      "text/plain": [
       "[Epoch 65]:   0%|          | 0/1253 [00:00<?, ?it/s]"
      ]
     },
     "metadata": {},
     "output_type": "display_data"
    },
    {
     "data": {
      "application/vnd.jupyter.widget-view+json": {
       "model_id": "12f6df9f416d44a789aef9a53073fc59",
       "version_major": 2,
       "version_minor": 0
      },
      "text/plain": [
       "[Epoch 66]:   0%|          | 0/1253 [00:00<?, ?it/s]"
      ]
     },
     "metadata": {},
     "output_type": "display_data"
    },
    {
     "name": "stdout",
     "output_type": "stream",
     "text": [
      "precision@20 : 0.0077 map@20 : 0.0070 recall@20 : 0.0040 ndcg@20 : 0.0000 mrr@20 : 0.0000 "
     ]
    },
    {
     "data": {
      "application/vnd.jupyter.widget-view+json": {
       "model_id": "7be74267503d47d799b83ecc55fc3324",
       "version_major": 2,
       "version_minor": 0
      },
      "text/plain": [
       "[Epoch 67]:   0%|          | 0/1253 [00:00<?, ?it/s]"
      ]
     },
     "metadata": {},
     "output_type": "display_data"
    },
    {
     "data": {
      "application/vnd.jupyter.widget-view+json": {
       "model_id": "3987f1173d284a468477a05013e83b6a",
       "version_major": 2,
       "version_minor": 0
      },
      "text/plain": [
       "[Epoch 68]:   0%|          | 0/1253 [00:00<?, ?it/s]"
      ]
     },
     "metadata": {},
     "output_type": "display_data"
    },
    {
     "data": {
      "application/vnd.jupyter.widget-view+json": {
       "model_id": "433544298e294234a669a05d2a1d01b0",
       "version_major": 2,
       "version_minor": 0
      },
      "text/plain": [
       "[Epoch 69]:   0%|          | 0/1253 [00:00<?, ?it/s]"
      ]
     },
     "metadata": {},
     "output_type": "display_data"
    },
    {
     "data": {
      "application/vnd.jupyter.widget-view+json": {
       "model_id": "aceab6fed5284ffcbed29dc041979ecd",
       "version_major": 2,
       "version_minor": 0
      },
      "text/plain": [
       "[Epoch 70]:   0%|          | 0/1253 [00:00<?, ?it/s]"
      ]
     },
     "metadata": {},
     "output_type": "display_data"
    },
    {
     "data": {
      "application/vnd.jupyter.widget-view+json": {
       "model_id": "2cb779eeb4a5427ab07500a2d917f915",
       "version_major": 2,
       "version_minor": 0
      },
      "text/plain": [
       "[Epoch 71]:   0%|          | 0/1253 [00:00<?, ?it/s]"
      ]
     },
     "metadata": {},
     "output_type": "display_data"
    },
    {
     "name": "stdout",
     "output_type": "stream",
     "text": [
      "precision@20 : 0.0079 map@20 : 0.0071 recall@20 : 0.0038 ndcg@20 : 0.0000 mrr@20 : 0.0000 "
     ]
    },
    {
     "data": {
      "application/vnd.jupyter.widget-view+json": {
       "model_id": "1fef1be931c043d8ad69cdd2063d515f",
       "version_major": 2,
       "version_minor": 0
      },
      "text/plain": [
       "[Epoch 72]:   0%|          | 0/1253 [00:00<?, ?it/s]"
      ]
     },
     "metadata": {},
     "output_type": "display_data"
    },
    {
     "data": {
      "application/vnd.jupyter.widget-view+json": {
       "model_id": "105df40b635e4c1dba2dcbc30d61be4c",
       "version_major": 2,
       "version_minor": 0
      },
      "text/plain": [
       "[Epoch 73]:   0%|          | 0/1253 [00:00<?, ?it/s]"
      ]
     },
     "metadata": {},
     "output_type": "display_data"
    },
    {
     "data": {
      "application/vnd.jupyter.widget-view+json": {
       "model_id": "5ce0c70fead14a4d9a6d1abf8ea0ff5e",
       "version_major": 2,
       "version_minor": 0
      },
      "text/plain": [
       "[Epoch 74]:   0%|          | 0/1253 [00:00<?, ?it/s]"
      ]
     },
     "metadata": {},
     "output_type": "display_data"
    },
    {
     "data": {
      "application/vnd.jupyter.widget-view+json": {
       "model_id": "3794400ffad9456690587b85fa139a9c",
       "version_major": 2,
       "version_minor": 0
      },
      "text/plain": [
       "[Epoch 75]:   0%|          | 0/1253 [00:00<?, ?it/s]"
      ]
     },
     "metadata": {},
     "output_type": "display_data"
    }
   ],
   "source": [
    "true_items = utils.get_y_trues(test_d)\n",
    "k = 20\n",
    "for epoch in range(75):\n",
    "    batch_loss = 0.\n",
    "    with tqdm(train_data.shuffle(len(train_data)).as_numpy_iterator(), desc=f\"[Epoch {epoch+1}]\", total=len(train_data)) as tm:\n",
    "        for i, batch in enumerate(tm):\n",
    "            params, error = mf.update(params, batch, alpha=0.005, lam=0.05)\n",
    "            batch_loss += error\n",
    "            tm.set_postfix(OrderedDict(loss=batch_loss / (i + 1)))\n",
    "        \n",
    "    batch_loss /= len(train_data)\n",
    "\n",
    "\n",
    "    \n",
    "    if epoch % 5 == 0:\n",
    "        pred_items = predict_items(params, test_d.values[:, :3], k)\n",
    "        eval_scores = evaluate.evaluate(true_items, pred_items, k)\n",
    "    \n",
    "        for key in eval_scores.keys():\n",
    "            print(f\"{key}@{k} : {eval_scores[key]:.4f} \", end=\"\")"
   ]
  },
  {
   "cell_type": "code",
   "execution_count": 98,
   "id": "fb8de85f-f03a-4e17-8ea2-d7975e43dc8f",
   "metadata": {},
   "outputs": [
    {
     "name": "stdout",
     "output_type": "stream",
     "text": [
      "precision@20 : 0.0082 map@20 : 0.0072 recall@20 : 0.0042 ndcg@20 : 0.0001 mrr@20 : 0.0002 "
     ]
    }
   ],
   "source": [
    "k=20\n",
    "pred_items = predict_items(params, test_d.values[:, :3], k)\n",
    "eval_scores = evaluate.evaluate(true_items, pred_items, k)\n",
    "    \n",
    "for key in eval_scores.keys():\n",
    "    print(f\"{key}@{k} : {eval_scores[key]:.4f} \", end=\"\")"
   ]
  },
  {
   "cell_type": "markdown",
   "id": "66a173cb-eb96-4a59-9edf-f33d7cf8a2d6",
   "metadata": {},
   "source": [
    "# GRU4Rec"
   ]
  },
  {
   "cell_type": "code",
   "execution_count": 5,
   "id": "84632753-e551-4c4b-8519-13703fd9c0e6",
   "metadata": {},
   "outputs": [],
   "source": [
    "data = pd.read_pickle(\"/home/inoue/work/dataset/RC15/derived/train.df\")"
   ]
  },
  {
   "cell_type": "code",
   "execution_count": 6,
   "id": "63d05173-fab4-4e33-962a-6c364fdc365a",
   "metadata": {},
   "outputs": [],
   "source": [
    "train_data, total_length = session_parallel_dataset(batch_size = 500)"
   ]
  },
  {
   "cell_type": "code",
   "execution_count": 8,
   "id": "cc59565f-a83b-4988-9a24-30555cc67983",
   "metadata": {},
   "outputs": [],
   "source": [
    "total_length = len(data) // 500 + 1"
   ]
  },
  {
   "cell_type": "code",
   "execution_count": 7,
   "id": "0fc68f37-0220-42d4-b26b-18e639b156b9",
   "metadata": {},
   "outputs": [
    {
     "data": {
      "text/plain": [
       "63422"
      ]
     },
     "execution_count": 7,
     "metadata": {},
     "output_type": "execute_result"
    }
   ],
   "source": [
    "total_length"
   ]
  },
  {
   "cell_type": "code",
   "execution_count": 8,
   "id": "f5f1efc7-3879-470f-8c8e-0c819e2dc2f0",
   "metadata": {},
   "outputs": [],
   "source": [
    "num_items = data.itemId.max() + 1\n",
    "\n",
    "config = GRU4RecConfig(hidden_size=100, output_size=num_items, batch_size=500, dropout_hidden=0.)"
   ]
  },
  {
   "cell_type": "code",
   "execution_count": 9,
   "id": "dc3b72e5-b819-4b92-80bd-3a363d9734da",
   "metadata": {},
   "outputs": [],
   "source": [
    "def create_train_state(key, config):\n",
    "    model = GRU4Rec(config)\n",
    "    hidden = model.init_hidden(config.batch_size, config.hidden_size, config.num_layers)\n",
    "    params = model.init(key, jnp.ones((config.batch_size,), dtype=jnp.float32), hidden)[\"params\"]\n",
    "    tx = optax.sgd(config.learning_rate, config.momentum)\n",
    "    return train_state.TrainState.create(apply_fn=model.apply, params=params, tx=tx), hidden, model"
   ]
  },
  {
   "cell_type": "code",
   "execution_count": 10,
   "id": "322f377d-b3a5-4c4c-a991-2c30c57e3238",
   "metadata": {},
   "outputs": [],
   "source": [
    "@jax.jit\n",
    "def train_step(state, x, y, mask, hidden):\n",
    "    mask = jnp.expand_dims(mask, axis=-1)\n",
    "    hidden = mask * hidden\n",
    "    def loss_fn(params, hidden):\n",
    "        logits, hidden = model.apply({\"params\":params}, x, hidden)\n",
    "        one_hot_labels = jax.nn.one_hot(y, num_classes=logits.shape[-1])\n",
    "        logits, one_hot_labels = jnp.squeeze(logits), jnp.squeeze(one_hot_labels)\n",
    "        loss = -jnp.mean(jnp.sum(one_hot_labels * logits, axis=-1))\n",
    "        return loss, hidden\n",
    "    (loss, hidden), grads = jax.value_and_grad(loss_fn, has_aux=True)(state.params, hidden)\n",
    "    state = state.apply_gradients(grads=grads)\n",
    "    return state, loss, hidden"
   ]
  },
  {
   "cell_type": "code",
   "execution_count": 11,
   "id": "3c757329-68e3-43eb-8cab-999877bf780d",
   "metadata": {
    "tags": []
   },
   "outputs": [
    {
     "name": "stderr",
     "output_type": "stream",
     "text": [
      "2022-05-19 16:31:44.186979: E external/org_tensorflow/tensorflow/stream_executor/cuda/cuda_blas.cc:232] failed to create cublas handle: CUBLAS_STATUS_NOT_INITIALIZED\n",
      "2022-05-19 16:31:44.187010: E external/org_tensorflow/tensorflow/stream_executor/cuda/cuda_blas.cc:234] Failure to initialize cublas may be due to OOM (cublas needs some free memory when you initialize it, and your deep-learning framework may have preallocated more than its fair share), or may be because this binary was not built with support for the GPU in your machine.\n",
      "2022-05-19 16:31:44.187043: E external/org_tensorflow/tensorflow/compiler/xla/pjrt/pjrt_stream_executor_client.cc:2141] Execution of replica 0 failed: INTERNAL: Attempting to perform BLAS operation using StreamExecutor without BLAS support\n"
     ]
    },
    {
     "ename": "XlaRuntimeError",
     "evalue": "INTERNAL: Attempting to perform BLAS operation using StreamExecutor without BLAS support",
     "output_type": "error",
     "traceback": [
      "\u001b[0;31m---------------------------------------------------------------------------\u001b[0m",
      "\u001b[0;31mXlaRuntimeError\u001b[0m                           Traceback (most recent call last)",
      "Input \u001b[0;32mIn [11]\u001b[0m, in \u001b[0;36m<cell line: 3>\u001b[0;34m()\u001b[0m\n\u001b[1;32m      1\u001b[0m loss_list \u001b[38;5;241m=\u001b[39m []\n\u001b[1;32m      2\u001b[0m num_epochs \u001b[38;5;241m=\u001b[39m \u001b[38;5;241m10\u001b[39m\n\u001b[0;32m----> 3\u001b[0m state, hidden, model \u001b[38;5;241m=\u001b[39m \u001b[43mcreate_train_state\u001b[49m\u001b[43m(\u001b[49m\u001b[43mjax\u001b[49m\u001b[38;5;241;43m.\u001b[39;49m\u001b[43mrandom\u001b[49m\u001b[38;5;241;43m.\u001b[39;49m\u001b[43mPRNGKey\u001b[49m\u001b[43m(\u001b[49m\u001b[38;5;241;43m0\u001b[39;49m\u001b[43m)\u001b[49m\u001b[43m,\u001b[49m\u001b[43m \u001b[49m\u001b[43mconfig\u001b[49m\u001b[43m)\u001b[49m\n\u001b[1;32m      5\u001b[0m \u001b[38;5;28;01mfor\u001b[39;00m epoch \u001b[38;5;129;01min\u001b[39;00m \u001b[38;5;28mrange\u001b[39m(num_epochs):\n\u001b[1;32m      6\u001b[0m     \u001b[38;5;28;01mwith\u001b[39;00m tqdm(\u001b[38;5;28menumerate\u001b[39m(train_data), desc\u001b[38;5;241m=\u001b[39m\u001b[38;5;124m\"\u001b[39m\u001b[38;5;124mtraining\u001b[39m\u001b[38;5;124m\"\u001b[39m, total\u001b[38;5;241m=\u001b[39mtotal_length) \u001b[38;5;28;01mas\u001b[39;00m ts:\n",
      "Input \u001b[0;32mIn [9]\u001b[0m, in \u001b[0;36mcreate_train_state\u001b[0;34m(key, config)\u001b[0m\n\u001b[1;32m      2\u001b[0m model \u001b[38;5;241m=\u001b[39m GRU4Rec(config)\n\u001b[1;32m      3\u001b[0m hidden \u001b[38;5;241m=\u001b[39m model\u001b[38;5;241m.\u001b[39minit_hidden(config\u001b[38;5;241m.\u001b[39mbatch_size, config\u001b[38;5;241m.\u001b[39mhidden_size, config\u001b[38;5;241m.\u001b[39mnum_layers)\n\u001b[0;32m----> 4\u001b[0m params \u001b[38;5;241m=\u001b[39m \u001b[43mmodel\u001b[49m\u001b[38;5;241;43m.\u001b[39;49m\u001b[43minit\u001b[49m\u001b[43m(\u001b[49m\u001b[43mkey\u001b[49m\u001b[43m,\u001b[49m\u001b[43m \u001b[49m\u001b[43mjnp\u001b[49m\u001b[38;5;241;43m.\u001b[39;49m\u001b[43mones\u001b[49m\u001b[43m(\u001b[49m\u001b[43m(\u001b[49m\u001b[43mconfig\u001b[49m\u001b[38;5;241;43m.\u001b[39;49m\u001b[43mbatch_size\u001b[49m\u001b[43m,\u001b[49m\u001b[43m)\u001b[49m\u001b[43m,\u001b[49m\u001b[43m \u001b[49m\u001b[43mdtype\u001b[49m\u001b[38;5;241;43m=\u001b[39;49m\u001b[43mjnp\u001b[49m\u001b[38;5;241;43m.\u001b[39;49m\u001b[43mfloat32\u001b[49m\u001b[43m)\u001b[49m\u001b[43m,\u001b[49m\u001b[43m \u001b[49m\u001b[43mhidden\u001b[49m\u001b[43m)\u001b[49m[\u001b[38;5;124m\"\u001b[39m\u001b[38;5;124mparams\u001b[39m\u001b[38;5;124m\"\u001b[39m]\n\u001b[1;32m      5\u001b[0m tx \u001b[38;5;241m=\u001b[39m optax\u001b[38;5;241m.\u001b[39msgd(config\u001b[38;5;241m.\u001b[39mlearning_rate, config\u001b[38;5;241m.\u001b[39mmomentum)\n\u001b[1;32m      6\u001b[0m \u001b[38;5;28;01mreturn\u001b[39;00m train_state\u001b[38;5;241m.\u001b[39mTrainState\u001b[38;5;241m.\u001b[39mcreate(apply_fn\u001b[38;5;241m=\u001b[39mmodel\u001b[38;5;241m.\u001b[39mapply, params\u001b[38;5;241m=\u001b[39mparams, tx\u001b[38;5;241m=\u001b[39mtx), hidden, model\n",
      "    \u001b[0;31m[... skipping hidden 11 frame]\u001b[0m\n",
      "File \u001b[0;32m~/work/recs/recs/jaxmodels/nn/gru4rec/model.py:56\u001b[0m, in \u001b[0;36mGRU4Rec.__call__\u001b[0;34m(self, inputs, hidden, deterministic)\u001b[0m\n\u001b[1;32m     53\u001b[0m     x \u001b[38;5;241m=\u001b[39m jax\u001b[38;5;241m.\u001b[39mnn\u001b[38;5;241m.\u001b[39mone_hot(inputs, \u001b[38;5;28mself\u001b[39m\u001b[38;5;241m.\u001b[39mconfig\u001b[38;5;241m.\u001b[39moutput_size)\n\u001b[1;32m     55\u001b[0m \u001b[38;5;28;01mfor\u001b[39;00m i \u001b[38;5;129;01min\u001b[39;00m \u001b[38;5;28mrange\u001b[39m(\u001b[38;5;28mself\u001b[39m\u001b[38;5;241m.\u001b[39mconfig\u001b[38;5;241m.\u001b[39mnum_layers):\n\u001b[0;32m---> 56\u001b[0m     hidden_, x \u001b[38;5;241m=\u001b[39m \u001b[43mfnn\u001b[49m\u001b[38;5;241;43m.\u001b[39;49m\u001b[43mGRUCell\u001b[49m\u001b[43m(\u001b[49m\u001b[43m)\u001b[49m\u001b[43m(\u001b[49m\u001b[43mhidden\u001b[49m\u001b[43m[\u001b[49m\u001b[43mi\u001b[49m\u001b[43m]\u001b[49m\u001b[43m,\u001b[49m\u001b[43m \u001b[49m\u001b[43mx\u001b[49m\u001b[43m)\u001b[49m\n\u001b[1;32m     57\u001b[0m     x \u001b[38;5;241m=\u001b[39m fnn\u001b[38;5;241m.\u001b[39mDropout(\u001b[38;5;28mself\u001b[39m\u001b[38;5;241m.\u001b[39mconfig\u001b[38;5;241m.\u001b[39mdropout_hidden)(x, deterministic\u001b[38;5;241m=\u001b[39mdeterministic)\n\u001b[1;32m     58\u001b[0m     hidden_list \u001b[38;5;241m+\u001b[39m\u001b[38;5;241m=\u001b[39m [hidden_]\n",
      "    \u001b[0;31m[... skipping hidden 3 frame]\u001b[0m\n",
      "File \u001b[0;32m/usr/local/lib/python3.8/dist-packages/flax/linen/recurrent.py:369\u001b[0m, in \u001b[0;36mGRUCell.__call__\u001b[0;34m(self, carry, inputs)\u001b[0m\n\u001b[1;32m    355\u001b[0m dense_h \u001b[38;5;241m=\u001b[39m partial(Dense,\n\u001b[1;32m    356\u001b[0m                   features\u001b[38;5;241m=\u001b[39mhidden_features,\n\u001b[1;32m    357\u001b[0m                   use_bias\u001b[38;5;241m=\u001b[39m\u001b[38;5;28;01mFalse\u001b[39;00m,\n\u001b[0;32m   (...)\u001b[0m\n\u001b[1;32m    360\u001b[0m                   kernel_init\u001b[38;5;241m=\u001b[39m\u001b[38;5;28mself\u001b[39m\u001b[38;5;241m.\u001b[39mrecurrent_kernel_init,\n\u001b[1;32m    361\u001b[0m                   bias_init\u001b[38;5;241m=\u001b[39m\u001b[38;5;28mself\u001b[39m\u001b[38;5;241m.\u001b[39mbias_init)\n\u001b[1;32m    362\u001b[0m dense_i \u001b[38;5;241m=\u001b[39m partial(Dense,\n\u001b[1;32m    363\u001b[0m                   features\u001b[38;5;241m=\u001b[39mhidden_features,\n\u001b[1;32m    364\u001b[0m                   use_bias\u001b[38;5;241m=\u001b[39m\u001b[38;5;28;01mTrue\u001b[39;00m,\n\u001b[0;32m   (...)\u001b[0m\n\u001b[1;32m    367\u001b[0m                   kernel_init\u001b[38;5;241m=\u001b[39m\u001b[38;5;28mself\u001b[39m\u001b[38;5;241m.\u001b[39mkernel_init,\n\u001b[1;32m    368\u001b[0m                   bias_init\u001b[38;5;241m=\u001b[39m\u001b[38;5;28mself\u001b[39m\u001b[38;5;241m.\u001b[39mbias_init)\n\u001b[0;32m--> 369\u001b[0m r \u001b[38;5;241m=\u001b[39m \u001b[38;5;28mself\u001b[39m\u001b[38;5;241m.\u001b[39mgate_fn(\u001b[43mdense_i\u001b[49m\u001b[43m(\u001b[49m\u001b[43mname\u001b[49m\u001b[38;5;241;43m=\u001b[39;49m\u001b[38;5;124;43m'\u001b[39;49m\u001b[38;5;124;43mir\u001b[39;49m\u001b[38;5;124;43m'\u001b[39;49m\u001b[43m)\u001b[49m\u001b[43m(\u001b[49m\u001b[43minputs\u001b[49m\u001b[43m)\u001b[49m \u001b[38;5;241m+\u001b[39m dense_h(name\u001b[38;5;241m=\u001b[39m\u001b[38;5;124m'\u001b[39m\u001b[38;5;124mhr\u001b[39m\u001b[38;5;124m'\u001b[39m)(h))\n\u001b[1;32m    370\u001b[0m z \u001b[38;5;241m=\u001b[39m \u001b[38;5;28mself\u001b[39m\u001b[38;5;241m.\u001b[39mgate_fn(dense_i(name\u001b[38;5;241m=\u001b[39m\u001b[38;5;124m'\u001b[39m\u001b[38;5;124miz\u001b[39m\u001b[38;5;124m'\u001b[39m)(inputs) \u001b[38;5;241m+\u001b[39m dense_h(name\u001b[38;5;241m=\u001b[39m\u001b[38;5;124m'\u001b[39m\u001b[38;5;124mhz\u001b[39m\u001b[38;5;124m'\u001b[39m)(h))\n\u001b[1;32m    371\u001b[0m \u001b[38;5;66;03m# add bias because the linear transformations aren't directly summed.\u001b[39;00m\n",
      "    \u001b[0;31m[... skipping hidden 3 frame]\u001b[0m\n",
      "File \u001b[0;32m/usr/local/lib/python3.8/dist-packages/flax/linen/linear.py:188\u001b[0m, in \u001b[0;36mDense.__call__\u001b[0;34m(self, inputs)\u001b[0m\n\u001b[1;32m    183\u001b[0m kernel \u001b[38;5;241m=\u001b[39m \u001b[38;5;28mself\u001b[39m\u001b[38;5;241m.\u001b[39mparam(\u001b[38;5;124m'\u001b[39m\u001b[38;5;124mkernel\u001b[39m\u001b[38;5;124m'\u001b[39m,\n\u001b[1;32m    184\u001b[0m                     \u001b[38;5;28mself\u001b[39m\u001b[38;5;241m.\u001b[39mkernel_init,\n\u001b[1;32m    185\u001b[0m                     (inputs\u001b[38;5;241m.\u001b[39mshape[\u001b[38;5;241m-\u001b[39m\u001b[38;5;241m1\u001b[39m], \u001b[38;5;28mself\u001b[39m\u001b[38;5;241m.\u001b[39mfeatures),\n\u001b[1;32m    186\u001b[0m                     \u001b[38;5;28mself\u001b[39m\u001b[38;5;241m.\u001b[39mparam_dtype)\n\u001b[1;32m    187\u001b[0m kernel \u001b[38;5;241m=\u001b[39m jnp\u001b[38;5;241m.\u001b[39masarray(kernel, \u001b[38;5;28mself\u001b[39m\u001b[38;5;241m.\u001b[39mdtype)\n\u001b[0;32m--> 188\u001b[0m y \u001b[38;5;241m=\u001b[39m \u001b[43mlax\u001b[49m\u001b[38;5;241;43m.\u001b[39;49m\u001b[43mdot_general\u001b[49m\u001b[43m(\u001b[49m\u001b[43minputs\u001b[49m\u001b[43m,\u001b[49m\u001b[43m \u001b[49m\u001b[43mkernel\u001b[49m\u001b[43m,\u001b[49m\n\u001b[1;32m    189\u001b[0m \u001b[43m                    \u001b[49m\u001b[43m(\u001b[49m\u001b[43m(\u001b[49m\u001b[43m(\u001b[49m\u001b[43minputs\u001b[49m\u001b[38;5;241;43m.\u001b[39;49m\u001b[43mndim\u001b[49m\u001b[43m \u001b[49m\u001b[38;5;241;43m-\u001b[39;49m\u001b[43m \u001b[49m\u001b[38;5;241;43m1\u001b[39;49m\u001b[43m,\u001b[49m\u001b[43m)\u001b[49m\u001b[43m,\u001b[49m\u001b[43m \u001b[49m\u001b[43m(\u001b[49m\u001b[38;5;241;43m0\u001b[39;49m\u001b[43m,\u001b[49m\u001b[43m)\u001b[49m\u001b[43m)\u001b[49m\u001b[43m,\u001b[49m\u001b[43m \u001b[49m\u001b[43m(\u001b[49m\u001b[43m(\u001b[49m\u001b[43m)\u001b[49m\u001b[43m,\u001b[49m\u001b[43m \u001b[49m\u001b[43m(\u001b[49m\u001b[43m)\u001b[49m\u001b[43m)\u001b[49m\u001b[43m)\u001b[49m\u001b[43m,\u001b[49m\n\u001b[1;32m    190\u001b[0m \u001b[43m                    \u001b[49m\u001b[43mprecision\u001b[49m\u001b[38;5;241;43m=\u001b[39;49m\u001b[38;5;28;43mself\u001b[39;49m\u001b[38;5;241;43m.\u001b[39;49m\u001b[43mprecision\u001b[49m\u001b[43m)\u001b[49m\n\u001b[1;32m    191\u001b[0m \u001b[38;5;28;01mif\u001b[39;00m \u001b[38;5;28mself\u001b[39m\u001b[38;5;241m.\u001b[39muse_bias:\n\u001b[1;32m    192\u001b[0m   bias \u001b[38;5;241m=\u001b[39m \u001b[38;5;28mself\u001b[39m\u001b[38;5;241m.\u001b[39mparam(\u001b[38;5;124m'\u001b[39m\u001b[38;5;124mbias\u001b[39m\u001b[38;5;124m'\u001b[39m, \u001b[38;5;28mself\u001b[39m\u001b[38;5;241m.\u001b[39mbias_init, (\u001b[38;5;28mself\u001b[39m\u001b[38;5;241m.\u001b[39mfeatures,),\n\u001b[1;32m    193\u001b[0m                     \u001b[38;5;28mself\u001b[39m\u001b[38;5;241m.\u001b[39mparam_dtype)\n",
      "    \u001b[0;31m[... skipping hidden 6 frame]\u001b[0m\n",
      "File \u001b[0;32m/usr/local/lib/python3.8/dist-packages/jax/_src/dispatch.py:615\u001b[0m, in \u001b[0;36m_execute_compiled\u001b[0;34m(name, compiled, input_handler, output_buffer_counts, result_handlers, effects, kept_var_idx, *args)\u001b[0m\n\u001b[1;32m    613\u001b[0m \u001b[38;5;28;01mif\u001b[39;00m effects:\n\u001b[1;32m    614\u001b[0m   input_bufs_flat, token_handler \u001b[38;5;241m=\u001b[39m _add_tokens(effects, device, input_bufs_flat)\n\u001b[0;32m--> 615\u001b[0m out_bufs_flat \u001b[38;5;241m=\u001b[39m \u001b[43mcompiled\u001b[49m\u001b[38;5;241;43m.\u001b[39;49m\u001b[43mexecute\u001b[49m\u001b[43m(\u001b[49m\u001b[43minput_bufs_flat\u001b[49m\u001b[43m)\u001b[49m\n\u001b[1;32m    616\u001b[0m check_special(name, out_bufs_flat)\n\u001b[1;32m    617\u001b[0m \u001b[38;5;28;01mif\u001b[39;00m output_buffer_counts \u001b[38;5;129;01mis\u001b[39;00m \u001b[38;5;28;01mNone\u001b[39;00m:\n",
      "\u001b[0;31mXlaRuntimeError\u001b[0m: INTERNAL: Attempting to perform BLAS operation using StreamExecutor without BLAS support"
     ]
    }
   ],
   "source": [
    "loss_list = []\n",
    "num_epochs = 10\n",
    "state, hidden, model = create_train_state(jax.random.PRNGKey(0), config)\n",
    "\n",
    "for epoch in range(num_epochs):\n",
    "    with tqdm(enumerate(train_data), desc=\"training\", total=total_length) as ts:\n",
    "        for i, batch in ts:\n",
    "            batch = common_utils.shard(jax.tree_map(lambda x: x._numpy(), batch))\n",
    "            inputs, targets, masks = batch[\"input\"], batch[\"target\"], batch[\"mask\"]\n",
    "            state, metrics, hidden = train_step(state, inputs, targets, masks, hidden)\n",
    "            loss_list.append(loss[0])\n",
    "            ts.set_postfix(OrderedDict(loss=np.mean(loss_list)))"
   ]
  },
  {
   "cell_type": "code",
   "execution_count": 69,
   "id": "de125a9a-2954-49ab-8e04-e609404ae1f9",
   "metadata": {},
   "outputs": [],
   "source": [
    "test_data = session_parallel_dataset(path=\"/home/inoue/work/dataset/RC15/derived/test.df\", batch_size=500)"
   ]
  },
  {
   "cell_type": "code",
   "execution_count": 71,
   "id": "491583ff-c12a-4cec-8dcd-bd49c59cfeb2",
   "metadata": {},
   "outputs": [
    {
     "data": {
      "text/plain": [
       "3982"
      ]
     },
     "execution_count": 71,
     "metadata": {},
     "output_type": "execute_result"
    }
   ],
   "source": [
    "test_data, test_len = test_data\n",
    "test_len"
   ]
  },
  {
   "cell_type": "code",
   "execution_count": 87,
   "id": "d404d11b-34b4-4910-bb45-93f33c3c9f5e",
   "metadata": {},
   "outputs": [
    {
     "data": {
      "application/vnd.jupyter.widget-view+json": {
       "model_id": "0e766b7573da4cdeae7d2f491469389f",
       "version_major": 2,
       "version_minor": 0
      },
      "text/plain": [
       "evaluating:   0%|          | 0/3982 [00:00<?, ?it/s]"
      ]
     },
     "metadata": {},
     "output_type": "display_data"
    }
   ],
   "source": [
    "k =20\n",
    "\n",
    "hidden = model.init_hidden(config.batch_size, config.hidden_size, config.num_layers)\n",
    "recalls = []\n",
    "for i, batch in tqdm(enumerate(test_data), desc=\"evaluating\"):\n",
    "    batch = common_utils.shard(jax.tree_map(lambda x: x._numpy(), batch))\n",
    "    inputs, targets, masks = jnp.squeeze(batch[\"input\"]), jnp.squeeze(batch[\"target\"]), jnp.squeeze(batch[\"mask\"])\n",
    "    logits, hidden = jax.jit(model.apply)({\"params\":state.params}, inputs, hidden)\n",
    "    \n",
    "    _, indices = jax.lax.top_k(logits, k=k)\n",
    "    targets = jnp.expand_dims(targets, axis=-1)\n",
    "    recall = jnp.sum(indices == targets) / targets.shape[0]\n",
    "    recalls += [np.asarray(recall)]"
   ]
  },
  {
   "cell_type": "code",
   "execution_count": 99,
   "id": "babbb4c7-99e6-4e15-a76e-7d19eb43cc3f",
   "metadata": {},
   "outputs": [
    {
     "data": {
      "text/plain": [
       "(0.0095844045, 0.027512396)"
      ]
     },
     "execution_count": 99,
     "metadata": {},
     "output_type": "execute_result"
    }
   ],
   "source": [
    "np.mean(recalls), np.std(recalls)"
   ]
  },
  {
   "cell_type": "code",
   "execution_count": 103,
   "id": "2a4308f1-b9d1-4af3-9d3b-e0c7d5bed863",
   "metadata": {},
   "outputs": [],
   "source": [
    "recalls = np.asarray(jnp.stack(recalls))"
   ]
  },
  {
   "cell_type": "code",
   "execution_count": 104,
   "id": "8167ba2c-f945-4f1b-a636-e5370e2309eb",
   "metadata": {},
   "outputs": [
    {
     "data": {
      "text/plain": [
       "(0.0095844045, 0.027512396)"
      ]
     },
     "execution_count": 104,
     "metadata": {},
     "output_type": "execute_result"
    }
   ],
   "source": [
    "np.mean(recalls), np.std(recalls)"
   ]
  },
  {
   "cell_type": "code",
   "execution_count": 110,
   "id": "bb84f4b3-3771-4758-9b96-ca0e4641ce01",
   "metadata": {},
   "outputs": [
    {
     "data": {
      "text/plain": [
       "{'whiskers': [<matplotlib.lines.Line2D at 0x7ffb605e42b0>,\n",
       "  <matplotlib.lines.Line2D at 0x7ffb605e4580>],\n",
       " 'caps': [<matplotlib.lines.Line2D at 0x7ffb605e4850>,\n",
       "  <matplotlib.lines.Line2D at 0x7ffb605e4b20>],\n",
       " 'boxes': [<matplotlib.lines.Line2D at 0x7ffb6064ffa0>],\n",
       " 'medians': [<matplotlib.lines.Line2D at 0x7ffb605e4df0>],\n",
       " 'fliers': [<matplotlib.lines.Line2D at 0x7ffb605f5100>],\n",
       " 'means': []}"
      ]
     },
     "execution_count": 110,
     "metadata": {},
     "output_type": "execute_result"
    },
    {
     "data": {
      "image/png": "[encoded data removed]",
      "text/plain": [
       "<Figure size 432x288 with 1 Axes>"
      ]
     },
     "metadata": {
      "needs_background": "light"
     },
     "output_type": "display_data"
    }
   ],
   "source": [
    "import matplotlib.pyplot as plt\n",
    "plt.boxplot(recalls)"
   ]
  },
  {
   "cell_type": "code",
   "execution_count": null,
   "id": "dca7c10a-1772-4a47-b0ac-e674879d0989",
   "metadata": {},
   "outputs": [],
   "source": []
  }
 ],
 "metadata": {
  "kernelspec": {
   "display_name": "Python 3 (ipykernel)",
   "language": "python",
   "name": "python3"
  },
  "language_info": {
   "codemirror_mode": {
    "name": "ipython",
    "version": 3
   },
   "file_extension": ".py",
   "mimetype": "text/x-python",
   "name": "python",
   "nbconvert_exporter": "python",
   "pygments_lexer": "ipython3",
   "version": "3.8.10"
  }
 },
 "nbformat": 4,
 "nbformat_minor": 5
}
